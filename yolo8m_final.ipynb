{
  "nbformat": 4,
  "nbformat_minor": 0,
  "metadata": {
    "colab": {
      "provenance": [],
      "gpuType": "T4"
    },
    "kernelspec": {
      "name": "python3",
      "display_name": "Python 3"
    },
    "language_info": {
      "name": "python"
    },
    "accelerator": "GPU"
  },
  "cells": [
    {
      "cell_type": "code",
      "execution_count": 1,
      "metadata": {
        "colab": {
          "base_uri": "https://localhost:8080/"
        },
        "id": "0unPTMrzzdMb",
        "outputId": "fbfb5370-b651-4f7e-9260-50e8b4cf188a"
      },
      "outputs": [
        {
          "output_type": "stream",
          "name": "stdout",
          "text": [
            "Downloading from https://www.kaggle.com/api/v1/datasets/download/hassanmojab/xview-dataset?dataset_version_number=1...\n"
          ]
        },
        {
          "output_type": "stream",
          "name": "stderr",
          "text": [
            "100%|██████████| 19.4G/19.4G [03:16<00:00, 106MB/s]"
          ]
        },
        {
          "output_type": "stream",
          "name": "stdout",
          "text": [
            "Extracting files...\n"
          ]
        },
        {
          "output_type": "stream",
          "name": "stderr",
          "text": [
            "\n"
          ]
        },
        {
          "output_type": "stream",
          "name": "stdout",
          "text": [
            "✅ Downloaded to: /root/.cache/kagglehub/datasets/hassanmojab/xview-dataset/versions/1\n"
          ]
        }
      ],
      "source": [
        "import kagglehub\n",
        "path = kagglehub.dataset_download(\"hassanmojab/xview-dataset\")\n",
        "\n",
        "print(\"✅ Downloaded to:\", path)"
      ]
    },
    {
      "cell_type": "code",
      "source": [
        "!pip install -q ultralytics geopandas"
      ],
      "metadata": {
        "colab": {
          "base_uri": "https://localhost:8080/"
        },
        "id": "0aw7j17QzjlK",
        "outputId": "227f110d-c5b2-4d81-e159-f52b66fc5449"
      },
      "execution_count": 2,
      "outputs": [
        {
          "output_type": "stream",
          "name": "stdout",
          "text": [
            "\u001b[2K   \u001b[90m━━━━━━━━━━━━━━━━━━━━━━━━━━━━━━━━━━━━━━━━\u001b[0m \u001b[32m1.0/1.0 MB\u001b[0m \u001b[31m18.0 MB/s\u001b[0m eta \u001b[36m0:00:00\u001b[0m\n",
            "\u001b[2K   \u001b[90m━━━━━━━━━━━━━━━━━━━━━━━━━━━━━━━━━━━━━━━━\u001b[0m \u001b[32m363.4/363.4 MB\u001b[0m \u001b[31m4.4 MB/s\u001b[0m eta \u001b[36m0:00:00\u001b[0m\n",
            "\u001b[2K   \u001b[90m━━━━━━━━━━━━━━━━━━━━━━━━━━━━━━━━━━━━━━━━\u001b[0m \u001b[32m13.8/13.8 MB\u001b[0m \u001b[31m117.4 MB/s\u001b[0m eta \u001b[36m0:00:00\u001b[0m\n",
            "\u001b[2K   \u001b[90m━━━━━━━━━━━━━━━━━━━━━━━━━━━━━━━━━━━━━━━━\u001b[0m \u001b[32m24.6/24.6 MB\u001b[0m \u001b[31m94.9 MB/s\u001b[0m eta \u001b[36m0:00:00\u001b[0m\n",
            "\u001b[2K   \u001b[90m━━━━━━━━━━━━━━━━━━━━━━━━━━━━━━━━━━━━━━━━\u001b[0m \u001b[32m883.7/883.7 kB\u001b[0m \u001b[31m57.4 MB/s\u001b[0m eta \u001b[36m0:00:00\u001b[0m\n",
            "\u001b[2K   \u001b[90m━━━━━━━━━━━━━━━━━━━━━━━━━━━━━━━━━━━━━━━━\u001b[0m \u001b[32m664.8/664.8 MB\u001b[0m \u001b[31m2.1 MB/s\u001b[0m eta \u001b[36m0:00:00\u001b[0m\n",
            "\u001b[2K   \u001b[90m━━━━━━━━━━━━━━━━━━━━━━━━━━━━━━━━━━━━━━━━\u001b[0m \u001b[32m211.5/211.5 MB\u001b[0m \u001b[31m5.4 MB/s\u001b[0m eta \u001b[36m0:00:00\u001b[0m\n",
            "\u001b[2K   \u001b[90m━━━━━━━━━━━━━━━━━━━━━━━━━━━━━━━━━━━━━━━━\u001b[0m \u001b[32m56.3/56.3 MB\u001b[0m \u001b[31m17.8 MB/s\u001b[0m eta \u001b[36m0:00:00\u001b[0m\n",
            "\u001b[2K   \u001b[90m━━━━━━━━━━━━━━━━━━━━━━━━━━━━━━━━━━━━━━━━\u001b[0m \u001b[32m127.9/127.9 MB\u001b[0m \u001b[31m7.1 MB/s\u001b[0m eta \u001b[36m0:00:00\u001b[0m\n",
            "\u001b[2K   \u001b[90m━━━━━━━━━━━━━━━━━━━━━━━━━━━━━━━━━━━━━━━━\u001b[0m \u001b[32m207.5/207.5 MB\u001b[0m \u001b[31m5.5 MB/s\u001b[0m eta \u001b[36m0:00:00\u001b[0m\n",
            "\u001b[2K   \u001b[90m━━━━━━━━━━━━━━━━━━━━━━━━━━━━━━━━━━━━━━━━\u001b[0m \u001b[32m21.1/21.1 MB\u001b[0m \u001b[31m104.6 MB/s\u001b[0m eta \u001b[36m0:00:00\u001b[0m\n",
            "\u001b[?25h"
          ]
        }
      ]
    },
    {
      "cell_type": "code",
      "source": [
        "import os\n",
        "\n",
        "path = \"/root/.cache/kagglehub/datasets/hassanmojab/xview-dataset/versions/1\"\n",
        "print(\"📂 Contents of downloaded dataset:\")\n",
        "print(os.listdir(path))"
      ],
      "metadata": {
        "colab": {
          "base_uri": "https://localhost:8080/"
        },
        "id": "nF-vA9tr1EJu",
        "outputId": "ec171a28-69de-494c-97f7-b2e6d2ab22ab"
      },
      "execution_count": 3,
      "outputs": [
        {
          "output_type": "stream",
          "name": "stdout",
          "text": [
            "📂 Contents of downloaded dataset:\n",
            "['__notebook_source__.ipynb', 'train_images', 'val_images', 'train_labels']\n"
          ]
        }
      ]
    },
    {
      "cell_type": "code",
      "source": [
        "import os\n",
        "import json\n",
        "import shutil\n",
        "import yaml\n",
        "from collections import Counter\n",
        "from PIL import Image\n",
        "from ultralytics import YOLO"
      ],
      "metadata": {
        "id": "pTX2j9Ab1GxA"
      },
      "execution_count": 2,
      "outputs": []
    },
    {
      "cell_type": "code",
      "source": [
        "# ===============================\n",
        "# 📂 DATASET PATHS\n",
        "# ===============================\n",
        "base_path = \"/root/.cache/kagglehub/datasets/hassanmojab/xview-dataset/versions/1\"\n",
        "image_source = os.path.join(base_path, \"train_images\", \"train_images\")\n",
        "geojson_path = os.path.join(base_path, \"train_labels\", \"xView_train.geojson\")"
      ],
      "metadata": {
        "id": "6cJuJkn21Jfq"
      },
      "execution_count": 5,
      "outputs": []
    },
    {
      "cell_type": "code",
      "source": [
        "# ===============================\n",
        "# 📁 OUTPUT STRUCTURE\n",
        "# ===============================\n",
        "os.makedirs(\"images/train\", exist_ok=True)\n",
        "os.makedirs(\"images/val\", exist_ok=True)\n",
        "os.makedirs(\"labels/train\", exist_ok=True)\n",
        "os.makedirs(\"labels/val\", exist_ok=True)"
      ],
      "metadata": {
        "id": "UQ_SXKc-28Kw"
      },
      "execution_count": 6,
      "outputs": []
    },
    {
      "cell_type": "code",
      "source": [
        "# === CLASS MAPPING ===\n",
        "xview_classes = {\n",
        "    0: \"Fixed-wing Aircraft\", 1: \"Small Aircraft\", 2: \"Cargo Plane\", 3: \"Helicopter\",\n",
        "    4: \"Passenger Vehicle\", 5: \"Small Car\", 6: \"Bus\", 7: \"Pickup Truck\", 8: \"Utility Truck\",\n",
        "    9: \"Truck\", 10: \"Cargo Truck\", 11: \"Truck w/Box\", 12: \"Truck Tractor\", 13: \"Trailer\",\n",
        "    14: \"Truck w/Flatbed\", 15: \"Truck w/Liquid\", 16: \"Crane Truck\", 17: \"Railway Vehicle\",\n",
        "    18: \"Passenger Car\", 19: \"Cargo Car\", 20: \"Flat Car\", 21: \"Tank car\", 22: \"Locomotive\",\n",
        "    23: \"Container Ship\", 24: \"Liner Ship\", 25: \"Fishing Vessel\", 26: \"Oil Tanker\",\n",
        "    27: \"Engineering Vehicle\", 28: \"Tower crane\", 29: \"Container Crane\", 30: \"Reach Stacker\",\n",
        "    31: \"Straddle Carrier\", 32: \"Mobile Crane\", 33: \"Dump Truck\", 34: \"Haul Truck\",\n",
        "    35: \"Scraper/Tractor\", 36: \"Front Loader/Bulldozer\", 37: \"Excavator\", 38: \"Cement Mixer\",\n",
        "    39: \"Ground Grader\", 40: \"Hut/Tent\", 41: \"Shed\", 42: \"Building\", 43: \"Aircraft Hangar\",\n",
        "    44: \"Damaged Building\", 45: \"Facility\", 46: \"Construction Site\", 47: \"Vehicle Lot\",\n",
        "    48: \"Helipad\", 49: \"Storage Tank\", 50: \"Shipping Container Lot\", 51: \"Shipping Container\",\n",
        "    52: \"Pylon\", 53: \"Tower\", 54: \"Wind Turbine\", 55: \"Tower-like Structure\", 56: \"Container/Truck\",\n",
        "    57: \"Oil Rig\", 58: \"Pier\", 59: \"Dock\"\n",
        "}\n",
        "sorted_ids = sorted(xview_classes.keys())\n",
        "typeid_to_yolo = {tid: i for i, tid in enumerate(sorted_ids)}"
      ],
      "metadata": {
        "id": "2KfjXEJ629u6"
      },
      "execution_count": 7,
      "outputs": []
    },
    {
      "cell_type": "code",
      "source": [
        "# === PARSE GEOJSON ===\n",
        "with open(geojson_path) as f:\n",
        "    data = json.load(f)\n",
        "\n",
        "annotations = {}\n",
        "for feat in data[\"features\"]:\n",
        "    props = feat[\"properties\"]\n",
        "    image_id = props.get(\"image_id\")\n",
        "    bbox = props.get(\"bounds_imcoords\")\n",
        "    cls = props.get(\"type_id\")\n",
        "\n",
        "    if not image_id or not bbox or cls not in typeid_to_yolo:\n",
        "        continue\n",
        "\n",
        "    try:\n",
        "        x1, y1, x2, y2 = map(float, bbox.split(\",\"))\n",
        "    except:\n",
        "        continue\n",
        "\n",
        "    annotations.setdefault(image_id, []).append((typeid_to_yolo[cls], x1, y1, x2, y2))\n"
      ],
      "metadata": {
        "id": "fyPL0IG72_zF"
      },
      "execution_count": 8,
      "outputs": []
    },
    {
      "cell_type": "code",
      "source": [
        "# === SPLIT 80/20 ===\n",
        "import random\n",
        "image_ids = list(annotations.keys())\n",
        "random.shuffle(image_ids)\n",
        "split = int(len(image_ids) * 0.8)\n",
        "train_ids, val_ids = image_ids[:split], image_ids[split:]"
      ],
      "metadata": {
        "id": "HrwCajCM3B-T"
      },
      "execution_count": 9,
      "outputs": []
    },
    {
      "cell_type": "code",
      "source": [
        "# === COPY IMAGES + CONVERT LABELS ===\n",
        "def process_set(image_ids, img_dst, lbl_dst):\n",
        "    count = 0\n",
        "    for img_name in image_ids:\n",
        "        src = os.path.join(image_source, img_name)\n",
        "        dst = os.path.join(img_dst, img_name)\n",
        "        if not os.path.exists(src):\n",
        "            continue\n",
        "        try:\n",
        "            with Image.open(src) as im:\n",
        "                w, h = im.size\n",
        "        except:\n",
        "            continue\n",
        "        shutil.copy(src, dst)\n",
        "\n",
        "        label_file = os.path.splitext(img_name)[0] + \".txt\"\n",
        "        label_path = os.path.join(lbl_dst, label_file)\n",
        "\n",
        "        with open(label_path, \"w\") as f:\n",
        "            for cls, x1, y1, x2, y2 in annotations[img_name]:\n",
        "                xc = ((x1 + x2) / 2) / w\n",
        "                yc = ((y1 + y2) / 2) / h\n",
        "                bw = (x2 - x1) / w\n",
        "                bh = (y2 - y1) / h\n",
        "                f.write(f\"{cls} {xc:.6f} {yc:.6f} {bw:.6f} {bh:.6f}\\n\")\n",
        "        count += 1\n",
        "    return count\n",
        "\n",
        "train_count = process_set(train_ids, \"images/train\", \"labels/train\")\n",
        "val_count   = process_set(val_ids,   \"images/val\",   \"labels/val\")\n",
        "\n",
        "print(f\"✅ {train_count} training images and {val_count} validation images processed\")\n",
        "\n",
        "# === WRITE data.yaml ===\n",
        "data_yaml = {\n",
        "    \"train\": \"images/train\",\n",
        "    \"val\": \"images/val\",\n",
        "    \"nc\": len(xview_classes),\n",
        "    \"names\": [xview_classes[i] for i in sorted_ids]\n",
        "}\n",
        "with open(\"data.yaml\", \"w\") as f:\n",
        "    yaml.dump(data_yaml, f)\n",
        "\n",
        "print(\"✅ data.yaml written — ready to train!\")\n"
      ],
      "metadata": {
        "colab": {
          "base_uri": "https://localhost:8080/"
        },
        "id": "ei5d-ipf3EDS",
        "outputId": "fdfd2181-3332-44ef-f2b2-4d9d9c6a84ae"
      },
      "execution_count": 10,
      "outputs": [
        {
          "output_type": "stream",
          "name": "stdout",
          "text": [
            "✅ 614 training images and 154 validation images processed\n",
            "✅ data.yaml written — ready to train!\n"
          ]
        }
      ]
    },
    {
      "cell_type": "code",
      "source": [
        "model = YOLO(\"yolov8m.pt\")  # Use 'n', 's', 'l', or 'x' as needed\n",
        "\n",
        "model.train(\n",
        "    data=\"data.yaml\",       # Path to your dataset config\n",
        "    epochs=30,              # Reduced from 60 to fit Colab session (~1–2 hrs max)\n",
        "    imgsz=1024,              # Slightly smaller to fit memory; 1024 might OOM at higher batch\n",
        "    batch=2,                # Optimal for T4 (~15–16GB); reduce to 2 if OOM\n",
        "    patience=6,             # Early stopping patience\n",
        "    workers=2,              # Number of dataloader workers\n",
        "    name=\"satellite_model\", # Run name\n",
        "    augment=True,           # Enable strong data augmentation\n",
        "    pretrained=True,        # Leverage pretrained backbone\n",
        "    verbose=True,           # Detailed logs\n",
        "    lr0=0.0015,             # Slightly tuned initial learning rate\n",
        "    warmup_epochs=2,        # Warmup to stabilize early training\n",
        "    cos_lr=True             # Cosine LR scheduler for better convergence\n",
        ")\n"
      ],
      "metadata": {
        "colab": {
          "base_uri": "https://localhost:8080/"
        },
        "id": "96gip_IB3G30",
        "outputId": "b5f24ebd-ecc6-4035-8f13-d6a83f2db519"
      },
      "execution_count": 3,
      "outputs": [
        {
          "output_type": "stream",
          "name": "stdout",
          "text": [
            "Ultralytics 8.3.145 🚀 Python-3.11.12 torch-2.6.0+cu124 CUDA:0 (Tesla T4, 15095MiB)\n",
            "\u001b[34m\u001b[1mengine/trainer: \u001b[0magnostic_nms=False, amp=True, augment=True, auto_augment=randaugment, batch=2, bgr=0.0, box=7.5, cache=False, cfg=None, classes=None, close_mosaic=10, cls=0.5, conf=None, copy_paste=0.0, copy_paste_mode=flip, cos_lr=True, cutmix=0.0, data=data.yaml, degrees=0.0, deterministic=True, device=None, dfl=1.5, dnn=False, dropout=0.0, dynamic=False, embed=None, epochs=30, erasing=0.4, exist_ok=False, fliplr=0.5, flipud=0.0, format=torchscript, fraction=1.0, freeze=None, half=False, hsv_h=0.015, hsv_s=0.7, hsv_v=0.4, imgsz=1024, int8=False, iou=0.7, keras=False, kobj=1.0, line_width=None, lr0=0.0015, lrf=0.01, mask_ratio=4, max_det=300, mixup=0.0, mode=train, model=yolov8m.pt, momentum=0.937, mosaic=1.0, multi_scale=False, name=satellite_model2, nbs=64, nms=False, opset=None, optimize=False, optimizer=auto, overlap_mask=True, patience=6, perspective=0.0, plots=True, pose=12.0, pretrained=True, profile=False, project=None, rect=False, resume=False, retina_masks=False, save=True, save_conf=False, save_crop=False, save_dir=runs/detect/satellite_model2, save_frames=False, save_json=False, save_period=-1, save_txt=False, scale=0.5, seed=0, shear=0.0, show=False, show_boxes=True, show_conf=True, show_labels=True, simplify=True, single_cls=False, source=None, split=val, stream_buffer=False, task=detect, time=None, tracker=botsort.yaml, translate=0.1, val=True, verbose=True, vid_stride=1, visualize=False, warmup_bias_lr=0.1, warmup_epochs=2, warmup_momentum=0.8, weight_decay=0.0005, workers=2, workspace=None\n",
            "Overriding model.yaml nc=80 with nc=60\n",
            "\n",
            "                   from  n    params  module                                       arguments                     \n",
            "  0                  -1  1      1392  ultralytics.nn.modules.conv.Conv             [3, 48, 3, 2]                 \n",
            "  1                  -1  1     41664  ultralytics.nn.modules.conv.Conv             [48, 96, 3, 2]                \n",
            "  2                  -1  2    111360  ultralytics.nn.modules.block.C2f             [96, 96, 2, True]             \n",
            "  3                  -1  1    166272  ultralytics.nn.modules.conv.Conv             [96, 192, 3, 2]               \n",
            "  4                  -1  4    813312  ultralytics.nn.modules.block.C2f             [192, 192, 4, True]           \n",
            "  5                  -1  1    664320  ultralytics.nn.modules.conv.Conv             [192, 384, 3, 2]              \n",
            "  6                  -1  4   3248640  ultralytics.nn.modules.block.C2f             [384, 384, 4, True]           \n",
            "  7                  -1  1   1991808  ultralytics.nn.modules.conv.Conv             [384, 576, 3, 2]              \n",
            "  8                  -1  2   3985920  ultralytics.nn.modules.block.C2f             [576, 576, 2, True]           \n",
            "  9                  -1  1    831168  ultralytics.nn.modules.block.SPPF            [576, 576, 5]                 \n",
            " 10                  -1  1         0  torch.nn.modules.upsampling.Upsample         [None, 2, 'nearest']          \n",
            " 11             [-1, 6]  1         0  ultralytics.nn.modules.conv.Concat           [1]                           \n",
            " 12                  -1  2   1993728  ultralytics.nn.modules.block.C2f             [960, 384, 2]                 \n",
            " 13                  -1  1         0  torch.nn.modules.upsampling.Upsample         [None, 2, 'nearest']          \n",
            " 14             [-1, 4]  1         0  ultralytics.nn.modules.conv.Concat           [1]                           \n",
            " 15                  -1  2    517632  ultralytics.nn.modules.block.C2f             [576, 192, 2]                 \n",
            " 16                  -1  1    332160  ultralytics.nn.modules.conv.Conv             [192, 192, 3, 2]              \n",
            " 17            [-1, 12]  1         0  ultralytics.nn.modules.conv.Concat           [1]                           \n",
            " 18                  -1  2   1846272  ultralytics.nn.modules.block.C2f             [576, 384, 2]                 \n",
            " 19                  -1  1   1327872  ultralytics.nn.modules.conv.Conv             [384, 384, 3, 2]              \n",
            " 20             [-1, 9]  1         0  ultralytics.nn.modules.conv.Concat           [1]                           \n",
            " 21                  -1  2   4207104  ultralytics.nn.modules.block.C2f             [960, 576, 2]                 \n",
            " 22        [15, 18, 21]  1   3810436  ultralytics.nn.modules.head.Detect           [60, [192, 384, 576]]         \n",
            "Model summary: 169 layers, 25,891,060 parameters, 25,891,044 gradients, 79.3 GFLOPs\n",
            "\n",
            "Transferred 469/475 items from pretrained weights\n",
            "Freezing layer 'model.22.dfl.conv.weight'\n",
            "\u001b[34m\u001b[1mAMP: \u001b[0mrunning Automatic Mixed Precision (AMP) checks...\n",
            "\u001b[34m\u001b[1mAMP: \u001b[0mchecks passed ✅\n",
            "\u001b[34m\u001b[1mtrain: \u001b[0mFast image access ✅ (ping: 0.0±0.0 ms, read: 180.0±3.6 MB/s, size: 33068.1 KB)\n"
          ]
        },
        {
          "output_type": "stream",
          "name": "stderr",
          "text": [
            "\u001b[34m\u001b[1mtrain: \u001b[0mScanning /content/labels/train.cache... 614 images, 0 backgrounds, 176 corrupt: 100%|██████████| 614/614 [00:00<?, ?it/s]"
          ]
        },
        {
          "output_type": "stream",
          "name": "stdout",
          "text": [
            "\u001b[34m\u001b[1mtrain: \u001b[0m/content/images/train/1036.tif: ignoring corrupt image/label: non-normalized or out of bounds coordinates [     1.0003      1.0003]\n",
            "\u001b[34m\u001b[1mtrain: \u001b[0m/content/images/train/1037.tif: ignoring corrupt image/label: negative label values [  -0.001095   -0.000156   -0.000782]\n",
            "\u001b[34m\u001b[1mtrain: \u001b[0m/content/images/train/1046.tif: ignoring corrupt image/label: negative label values [  -0.001095]\n",
            "\u001b[34m\u001b[1mtrain: \u001b[0m/content/images/train/1050.tif: ignoring corrupt image/label: negative label values [    -0.0014]\n",
            "\u001b[34m\u001b[1mtrain: \u001b[0m/content/images/train/1051.tif: ignoring corrupt image/label: non-normalized or out of bounds coordinates [     1.0012]\n",
            "\u001b[34m\u001b[1mtrain: \u001b[0m/content/images/train/107.tif: ignoring corrupt image/label: negative label values [  -0.065401]\n",
            "\u001b[34m\u001b[1mtrain: \u001b[0m/content/images/train/1076.tif: ignoring corrupt image/label: non-normalized or out of bounds coordinates [     1.0003]\n",
            "\u001b[34m\u001b[1mtrain: \u001b[0m/content/images/train/1080.tif: ignoring corrupt image/label: non-normalized or out of bounds coordinates [     1.0055       1.007      1.0052]\n",
            "\u001b[34m\u001b[1mtrain: \u001b[0m/content/images/train/1087.tif: ignoring corrupt image/label: negative label values [  -0.020977]\n",
            "\u001b[34m\u001b[1mtrain: \u001b[0m/content/images/train/1090.tif: ignoring corrupt image/label: negative label values [  -0.000156]\n",
            "\u001b[34m\u001b[1mtrain: \u001b[0m/content/images/train/1095.tif: ignoring corrupt image/label: negative label values [  -0.026586   -0.000777   -0.003599   -0.003756   -0.000939   -0.001878   -0.002191   -0.001408   -0.000156   -0.001721]\n",
            "\u001b[34m\u001b[1mtrain: \u001b[0m/content/images/train/1109.tif: ignoring corrupt image/label: negative label values [   -0.00189]\n",
            "\u001b[34m\u001b[1mtrain: \u001b[0m/content/images/train/1120.tif: ignoring corrupt image/label: non-normalized or out of bounds coordinates [     1.0005       1.002      1.0022      1.0022]\n",
            "\u001b[34m\u001b[1mtrain: \u001b[0m/content/images/train/1121.tif: ignoring corrupt image/label: non-normalized or out of bounds coordinates [     1.0008]\n",
            "\u001b[34m\u001b[1mtrain: \u001b[0m/content/images/train/1127.tif: ignoring corrupt image/label: negative label values [  -0.001148   -0.000255]\n",
            "\u001b[34m\u001b[1mtrain: \u001b[0m/content/images/train/1128.tif: ignoring corrupt image/label: non-normalized or out of bounds coordinates [     1.0011]\n",
            "\u001b[34m\u001b[1mtrain: \u001b[0m/content/images/train/1129.tif: ignoring corrupt image/label: negative label values [  -0.000127]\n",
            "\u001b[34m\u001b[1mtrain: \u001b[0m/content/images/train/1139.tif: ignoring corrupt image/label: negative label values [  -0.003929]\n",
            "\u001b[34m\u001b[1mtrain: \u001b[0m/content/images/train/1149.tif: ignoring corrupt image/label: negative label values [  -0.007884]\n",
            "\u001b[34m\u001b[1mtrain: \u001b[0m/content/images/train/1154.tif: ignoring corrupt image/label: negative label values [  -0.004151   -0.002248   -0.011761]\n",
            "\u001b[34m\u001b[1mtrain: \u001b[0m/content/images/train/1158.tif: ignoring corrupt image/label: non-normalized or out of bounds coordinates [     1.0161      1.0079      1.0042]\n",
            "\u001b[34m\u001b[1mtrain: \u001b[0m/content/images/train/1164.tif: ignoring corrupt image/label: non-normalized or out of bounds coordinates [     1.0005      1.0005      1.0002]\n",
            "\u001b[34m\u001b[1mtrain: \u001b[0m/content/images/train/1165.tif: ignoring corrupt image/label: negative label values [  -0.001383   -0.000518   -0.000692   -0.000692   -0.003805]\n",
            "\u001b[34m\u001b[1mtrain: \u001b[0m/content/images/train/1169.tif: ignoring corrupt image/label: non-normalized or out of bounds coordinates [     1.0028]\n",
            "\u001b[34m\u001b[1mtrain: \u001b[0m/content/images/train/1175.tif: ignoring corrupt image/label: non-normalized or out of bounds coordinates [     1.0003]\n",
            "\u001b[34m\u001b[1mtrain: \u001b[0m/content/images/train/1178.tif: ignoring corrupt image/label: non-normalized or out of bounds coordinates [     1.0042]\n",
            "\u001b[34m\u001b[1mtrain: \u001b[0m/content/images/train/1180.tif: ignoring corrupt image/label: non-normalized or out of bounds coordinates [     1.0005]\n",
            "\u001b[34m\u001b[1mtrain: \u001b[0m/content/images/train/1181.tif: ignoring corrupt image/label: negative label values [  -0.008299   -0.000692   -0.000864   -0.003112]\n",
            "\u001b[34m\u001b[1mtrain: \u001b[0m/content/images/train/1182.tif: ignoring corrupt image/label: negative label values [  -0.000874   -0.001399   -0.001049]\n",
            "\u001b[34m\u001b[1mtrain: \u001b[0m/content/images/train/1184.tif: ignoring corrupt image/label: negative label values [  -0.001399   -0.001466]\n",
            "\u001b[34m\u001b[1mtrain: \u001b[0m/content/images/train/1185.tif: ignoring corrupt image/label: negative label values [  -0.004196]\n",
            "\u001b[34m\u001b[1mtrain: \u001b[0m/content/images/train/1193.tif: ignoring corrupt image/label: non-normalized or out of bounds coordinates [     1.0021      1.0014]\n",
            "\u001b[34m\u001b[1mtrain: \u001b[0m/content/images/train/1196.tif: ignoring corrupt image/label: negative label values [  -0.000175]\n",
            "\u001b[34m\u001b[1mtrain: \u001b[0m/content/images/train/1205.tif: ignoring corrupt image/label: non-normalized or out of bounds coordinates [     1.0005      1.0014]\n",
            "\u001b[34m\u001b[1mtrain: \u001b[0m/content/images/train/1206.tif: ignoring corrupt image/label: negative label values [   -0.00173   -0.000173   -0.001902]\n",
            "\u001b[34m\u001b[1mtrain: \u001b[0m/content/images/train/1208.tif: ignoring corrupt image/label: non-normalized or out of bounds coordinates [     1.0017      1.0514]\n",
            "\u001b[34m\u001b[1mtrain: \u001b[0m/content/images/train/1211.tif: ignoring corrupt image/label: non-normalized or out of bounds coordinates [     1.0064]\n",
            "\u001b[34m\u001b[1mtrain: \u001b[0m/content/images/train/1216.tif: ignoring corrupt image/label: non-normalized or out of bounds coordinates [     1.0016      1.0002      1.0009      1.0007      1.0002      1.0003      1.0005      1.0012      1.0014       1.001      1.0002]\n",
            "\u001b[34m\u001b[1mtrain: \u001b[0m/content/images/train/1217.tif: ignoring corrupt image/label: non-normalized or out of bounds coordinates [     1.0005      1.0009      1.0012      1.0003       1.001      1.0003      1.0012      1.0002      1.0185      1.0036      1.0012      1.0204      1.0041]\n",
            "\u001b[34m\u001b[1mtrain: \u001b[0m/content/images/train/128.tif: ignoring corrupt image/label: negative label values [  -0.000647]\n",
            "\u001b[34m\u001b[1mtrain: \u001b[0m/content/images/train/1284.tif: ignoring corrupt image/label: non-normalized or out of bounds coordinates [     1.0428]\n",
            "\u001b[34m\u001b[1mtrain: \u001b[0m/content/images/train/1285.tif: ignoring corrupt image/label: non-normalized or out of bounds coordinates [     1.1158]\n",
            "\u001b[34m\u001b[1mtrain: \u001b[0m/content/images/train/129.tif: ignoring corrupt image/label: non-normalized or out of bounds coordinates [     1.0012]\n",
            "\u001b[34m\u001b[1mtrain: \u001b[0m/content/images/train/1327.tif: ignoring corrupt image/label: non-normalized or out of bounds coordinates [     1.0348]\n",
            "\u001b[34m\u001b[1mtrain: \u001b[0m/content/images/train/1357.tif: ignoring corrupt image/label: negative label values [  -0.000607]\n",
            "\u001b[34m\u001b[1mtrain: \u001b[0m/content/images/train/1361.tif: ignoring corrupt image/label: non-normalized or out of bounds coordinates [     1.0023]\n",
            "\u001b[34m\u001b[1mtrain: \u001b[0m/content/images/train/1378.tif: ignoring corrupt image/label: non-normalized or out of bounds coordinates [     1.0052]\n",
            "\u001b[34m\u001b[1mtrain: \u001b[0m/content/images/train/1379.tif: ignoring corrupt image/label: non-normalized or out of bounds coordinates [     1.0358       1.071      1.0049]\n",
            "\u001b[34m\u001b[1mtrain: \u001b[0m/content/images/train/1397.tif: ignoring corrupt image/label: non-normalized or out of bounds coordinates [     1.0061]\n",
            "\u001b[34m\u001b[1mtrain: \u001b[0m/content/images/train/1399.tif: ignoring corrupt image/label: non-normalized or out of bounds coordinates [     1.0412]\n",
            "\u001b[34m\u001b[1mtrain: \u001b[0m/content/images/train/140.tif: ignoring corrupt image/label: negative label values [  -0.000477]\n",
            "\u001b[34m\u001b[1mtrain: \u001b[0m/content/images/train/1405.tif: ignoring corrupt image/label: negative label values [  -0.001353]\n",
            "\u001b[34m\u001b[1mtrain: \u001b[0m/content/images/train/1416.tif: ignoring corrupt image/label: non-normalized or out of bounds coordinates [     1.0061]\n",
            "\u001b[34m\u001b[1mtrain: \u001b[0m/content/images/train/1418.tif: ignoring corrupt image/label: non-normalized or out of bounds coordinates [     1.0031]\n",
            "\u001b[34m\u001b[1mtrain: \u001b[0m/content/images/train/1425.tif: ignoring corrupt image/label: negative label values [  -0.001269]\n",
            "\u001b[34m\u001b[1mtrain: \u001b[0m/content/images/train/1431.tif: ignoring corrupt image/label: non-normalized or out of bounds coordinates [     1.0032      1.0033]\n",
            "\u001b[34m\u001b[1mtrain: \u001b[0m/content/images/train/1439.tif: ignoring corrupt image/label: negative label values [  -0.025194]\n",
            "\u001b[34m\u001b[1mtrain: \u001b[0m/content/images/train/144.tif: ignoring corrupt image/label: non-normalized or out of bounds coordinates [      1.065]\n",
            "\u001b[34m\u001b[1mtrain: \u001b[0m/content/images/train/1441.tif: ignoring corrupt image/label: non-normalized or out of bounds coordinates [     1.0024]\n",
            "\u001b[34m\u001b[1mtrain: \u001b[0m/content/images/train/1442.tif: ignoring corrupt image/label: non-normalized or out of bounds coordinates [     1.0827]\n",
            "\u001b[34m\u001b[1mtrain: \u001b[0m/content/images/train/1445.tif: ignoring corrupt image/label: negative label values [  -0.001406]\n",
            "\u001b[34m\u001b[1mtrain: \u001b[0m/content/images/train/1446.tif: ignoring corrupt image/label: non-normalized or out of bounds coordinates [     1.0036]\n",
            "\u001b[34m\u001b[1mtrain: \u001b[0m/content/images/train/145.tif: ignoring corrupt image/label: negative label values [  -0.006565]\n",
            "\u001b[34m\u001b[1mtrain: \u001b[0m/content/images/train/1450.tif: ignoring corrupt image/label: non-normalized or out of bounds coordinates [     1.0004      1.0017      1.0015      1.0001      1.0037      1.0185]\n",
            "\u001b[34m\u001b[1mtrain: \u001b[0m/content/images/train/1451.tif: ignoring corrupt image/label: negative label values [  -0.000489   -0.003258]\n",
            "\u001b[34m\u001b[1mtrain: \u001b[0m/content/images/train/1452.tif: ignoring corrupt image/label: negative label values [  -0.001406   -0.007156   -0.006194   -0.005878   -0.006261   -0.006133]\n",
            "\u001b[34m\u001b[1mtrain: \u001b[0m/content/images/train/1457.tif: ignoring corrupt image/label: non-normalized or out of bounds coordinates [     1.0007]\n",
            "\u001b[34m\u001b[1mtrain: \u001b[0m/content/images/train/1465.tif: ignoring corrupt image/label: non-normalized or out of bounds coordinates [     1.0017       1.001      1.0006      1.0011]\n",
            "\u001b[34m\u001b[1mtrain: \u001b[0m/content/images/train/1472.tif: ignoring corrupt image/label: negative label values [  -0.001405   -0.000511   -0.001149   -0.001405   -0.002682]\n",
            "\u001b[34m\u001b[1mtrain: \u001b[0m/content/images/train/1508.tif: ignoring corrupt image/label: negative label values [  -0.003088]\n",
            "\u001b[34m\u001b[1mtrain: \u001b[0m/content/images/train/1568.tif: ignoring corrupt image/label: negative label values [  -0.027365]\n",
            "\u001b[34m\u001b[1mtrain: \u001b[0m/content/images/train/1585.tif: ignoring corrupt image/label: negative label values [  -0.001599   -0.001777]\n",
            "\u001b[34m\u001b[1mtrain: \u001b[0m/content/images/train/1607.tif: ignoring corrupt image/label: non-normalized or out of bounds coordinates [     1.0014]\n",
            "\u001b[34m\u001b[1mtrain: \u001b[0m/content/images/train/163.tif: ignoring corrupt image/label: non-normalized or out of bounds coordinates [     1.0078]\n",
            "\u001b[34m\u001b[1mtrain: \u001b[0m/content/images/train/1630.tif: ignoring corrupt image/label: negative label values [  -0.000466   -0.002793   -0.007294    -0.00419]\n",
            "\u001b[34m\u001b[1mtrain: \u001b[0m/content/images/train/1633.tif: ignoring corrupt image/label: negative label values [  -0.000155   -0.001086   -0.001707]\n",
            "\u001b[34m\u001b[1mtrain: \u001b[0m/content/images/train/1656.tif: ignoring corrupt image/label: non-normalized or out of bounds coordinates [     1.0003      1.0017      1.0011      1.0005       1.002      1.0056]\n",
            "\u001b[34m\u001b[1mtrain: \u001b[0m/content/images/train/1675.tif: ignoring corrupt image/label: non-normalized or out of bounds coordinates [     1.0076]\n",
            "\u001b[34m\u001b[1mtrain: \u001b[0m/content/images/train/1690.tif: ignoring corrupt image/label: negative label values [  -0.001333   -0.005522]\n",
            "\u001b[34m\u001b[1mtrain: \u001b[0m/content/images/train/1703.tif: ignoring corrupt image/label: non-normalized or out of bounds coordinates [     1.0061]\n",
            "\u001b[34m\u001b[1mtrain: \u001b[0m/content/images/train/1809.tif: ignoring corrupt image/label: non-normalized or out of bounds coordinates [     1.0013]\n",
            "\u001b[34m\u001b[1mtrain: \u001b[0m/content/images/train/1820.tif: ignoring corrupt image/label: negative label values [  -0.004814]\n",
            "\u001b[34m\u001b[1mtrain: \u001b[0m/content/images/train/1831.tif: ignoring corrupt image/label: non-normalized or out of bounds coordinates [     1.0116]\n",
            "\u001b[34m\u001b[1mtrain: \u001b[0m/content/images/train/1838.tif: ignoring corrupt image/label: negative label values [  -0.003373    -0.00046   -0.000613]\n",
            "\u001b[34m\u001b[1mtrain: \u001b[0m/content/images/train/1847.tif: ignoring corrupt image/label: non-normalized or out of bounds coordinates [     1.0006      1.0005      1.0003      1.0005      1.0011      1.0003      1.0003      1.0013      1.0006]\n",
            "\u001b[34m\u001b[1mtrain: \u001b[0m/content/images/train/1849.tif: ignoring corrupt image/label: negative label values [  -0.000687   -0.006357]\n",
            "\u001b[34m\u001b[1mtrain: \u001b[0m/content/images/train/1855.tif: ignoring corrupt image/label: non-normalized or out of bounds coordinates [     1.0029]\n",
            "\u001b[34m\u001b[1mtrain: \u001b[0m/content/images/train/1856.tif: ignoring corrupt image/label: non-normalized or out of bounds coordinates [     1.0026]\n",
            "\u001b[34m\u001b[1mtrain: \u001b[0m/content/images/train/1858.tif: ignoring corrupt image/label: negative label values [  -0.012032   -0.005328   -0.013063]\n",
            "\u001b[34m\u001b[1mtrain: \u001b[0m/content/images/train/1891.tif: ignoring corrupt image/label: non-normalized or out of bounds coordinates [     1.0013      1.0015      1.0001      1.0001      1.0009]\n",
            "\u001b[34m\u001b[1mtrain: \u001b[0m/content/images/train/1897.tif: ignoring corrupt image/label: non-normalized or out of bounds coordinates [     1.0188]\n",
            "\u001b[34m\u001b[1mtrain: \u001b[0m/content/images/train/1898.tif: ignoring corrupt image/label: non-normalized or out of bounds coordinates [      1.005      1.0024      1.0044]\n",
            "\u001b[34m\u001b[1mtrain: \u001b[0m/content/images/train/1906.tif: ignoring corrupt image/label: negative label values [   -0.01925   -0.034653   -0.001794   -0.005873   -0.009462]\n",
            "\u001b[34m\u001b[1mtrain: \u001b[0m/content/images/train/1907.tif: ignoring corrupt image/label: negative label values [  -0.003094]\n",
            "\u001b[34m\u001b[1mtrain: \u001b[0m/content/images/train/1910.tif: ignoring corrupt image/label: negative label values [  -0.000591]\n",
            "\u001b[34m\u001b[1mtrain: \u001b[0m/content/images/train/1918.tif: ignoring corrupt image/label: non-normalized or out of bounds coordinates [     1.0008      1.0269      1.0135]\n",
            "\u001b[34m\u001b[1mtrain: \u001b[0m/content/images/train/1920.tif: ignoring corrupt image/label: negative label values [  -0.004554]\n",
            "\u001b[34m\u001b[1mtrain: \u001b[0m/content/images/train/1921.tif: ignoring corrupt image/label: non-normalized or out of bounds coordinates [     1.0036]\n",
            "\u001b[34m\u001b[1mtrain: \u001b[0m/content/images/train/1928.tif: ignoring corrupt image/label: non-normalized or out of bounds coordinates [     1.0131]\n",
            "\u001b[34m\u001b[1mtrain: \u001b[0m/content/images/train/1961.tif: ignoring corrupt image/label: negative label values [  -0.000292   -0.000875]\n",
            "\u001b[34m\u001b[1mtrain: \u001b[0m/content/images/train/2009.tif: ignoring corrupt image/label: non-normalized or out of bounds coordinates [     1.0038]\n",
            "\u001b[34m\u001b[1mtrain: \u001b[0m/content/images/train/2010.tif: ignoring corrupt image/label: non-normalized or out of bounds coordinates [     1.0013      1.0167]\n",
            "\u001b[34m\u001b[1mtrain: \u001b[0m/content/images/train/2026.tif: ignoring corrupt image/label: non-normalized or out of bounds coordinates [     1.0016]\n",
            "\u001b[34m\u001b[1mtrain: \u001b[0m/content/images/train/2029.tif: ignoring corrupt image/label: negative label values [  -0.000583]\n",
            "\u001b[34m\u001b[1mtrain: \u001b[0m/content/images/train/2032.tif: ignoring corrupt image/label: negative label values [  -0.001937]\n",
            "\u001b[34m\u001b[1mtrain: \u001b[0m/content/images/train/2062.tif: ignoring corrupt image/label: non-normalized or out of bounds coordinates [     1.0002]\n",
            "\u001b[34m\u001b[1mtrain: \u001b[0m/content/images/train/2078.tif: ignoring corrupt image/label: non-normalized or out of bounds coordinates [     1.0002      1.0025]\n",
            "\u001b[34m\u001b[1mtrain: \u001b[0m/content/images/train/2118.tif: ignoring corrupt image/label: negative label values [  -0.001459]\n",
            "\u001b[34m\u001b[1mtrain: \u001b[0m/content/images/train/2160.tif: ignoring corrupt image/label: negative label values [  -0.000943   -0.012707]\n",
            "\u001b[34m\u001b[1mtrain: \u001b[0m/content/images/train/2179.tif: ignoring corrupt image/label: non-normalized or out of bounds coordinates [     1.0117]\n",
            "\u001b[34m\u001b[1mtrain: \u001b[0m/content/images/train/2215.tif: ignoring corrupt image/label: negative label values [  -0.003598]\n",
            "\u001b[34m\u001b[1mtrain: \u001b[0m/content/images/train/2230.tif: ignoring corrupt image/label: negative label values [  -0.014248   -0.000291]\n",
            "\u001b[34m\u001b[1mtrain: \u001b[0m/content/images/train/2268.tif: ignoring corrupt image/label: non-normalized or out of bounds coordinates [      1.005]\n",
            "\u001b[34m\u001b[1mtrain: \u001b[0m/content/images/train/2281.tif: ignoring corrupt image/label: negative label values [  -0.045488]\n",
            "\u001b[34m\u001b[1mtrain: \u001b[0m/content/images/train/2292.tif: ignoring corrupt image/label: non-normalized or out of bounds coordinates [     1.0024]\n",
            "\u001b[34m\u001b[1mtrain: \u001b[0m/content/images/train/2308.tif: ignoring corrupt image/label: non-normalized or out of bounds coordinates [     1.0081]\n",
            "\u001b[34m\u001b[1mtrain: \u001b[0m/content/images/train/2309.tif: ignoring corrupt image/label: negative label values [  -0.007692]\n",
            "\u001b[34m\u001b[1mtrain: \u001b[0m/content/images/train/2341.tif: ignoring corrupt image/label: non-normalized or out of bounds coordinates [     1.0024]\n",
            "\u001b[34m\u001b[1mtrain: \u001b[0m/content/images/train/2371.tif: ignoring corrupt image/label: non-normalized or out of bounds coordinates [     1.0002]\n",
            "\u001b[34m\u001b[1mtrain: \u001b[0m/content/images/train/2384.tif: ignoring corrupt image/label: non-normalized or out of bounds coordinates [     1.0017      1.0013      1.0006      1.0007]\n",
            "\u001b[34m\u001b[1mtrain: \u001b[0m/content/images/train/2391.tif: ignoring corrupt image/label: negative label values [  -0.001349]\n",
            "\u001b[34m\u001b[1mtrain: \u001b[0m/content/images/train/2459.tif: ignoring corrupt image/label: negative label values [  -0.000156   -0.001564]\n",
            "\u001b[34m\u001b[1mtrain: \u001b[0m/content/images/train/2460.tif: ignoring corrupt image/label: negative label values [  -0.001408   -0.028317   -0.012516   -0.004698]\n",
            "\u001b[34m\u001b[1mtrain: \u001b[0m/content/images/train/2470.tif: ignoring corrupt image/label: non-normalized or out of bounds coordinates [     1.0036]\n",
            "\u001b[34m\u001b[1mtrain: \u001b[0m/content/images/train/2472.tif: ignoring corrupt image/label: non-normalized or out of bounds coordinates [     1.0009      1.0049      1.0023      1.0022      1.0133]\n",
            "\u001b[34m\u001b[1mtrain: \u001b[0m/content/images/train/2497.tif: ignoring corrupt image/label: non-normalized or out of bounds coordinates [      1.003      1.0052      1.0006]\n",
            "\u001b[34m\u001b[1mtrain: \u001b[0m/content/images/train/2505.tif: ignoring corrupt image/label: non-normalized or out of bounds coordinates [     1.1213      1.0223]\n",
            "\u001b[34m\u001b[1mtrain: \u001b[0m/content/images/train/2519.tif: ignoring corrupt image/label: negative label values [   -0.00438]\n",
            "\u001b[34m\u001b[1mtrain: \u001b[0m/content/images/train/2523.tif: ignoring corrupt image/label: negative label values [  -0.016135]\n",
            "\u001b[34m\u001b[1mtrain: \u001b[0m/content/images/train/2530.tif: ignoring corrupt image/label: non-normalized or out of bounds coordinates [     1.0284]\n",
            "\u001b[34m\u001b[1mtrain: \u001b[0m/content/images/train/2545.tif: ignoring corrupt image/label: non-normalized or out of bounds coordinates [     1.0029]\n",
            "\u001b[34m\u001b[1mtrain: \u001b[0m/content/images/train/2550.tif: ignoring corrupt image/label: non-normalized or out of bounds coordinates [     1.0012      1.0017]\n",
            "\u001b[34m\u001b[1mtrain: \u001b[0m/content/images/train/2555.tif: ignoring corrupt image/label: negative label values [  -0.007858]\n",
            "\u001b[34m\u001b[1mtrain: \u001b[0m/content/images/train/2560.tif: ignoring corrupt image/label: non-normalized or out of bounds coordinates [     1.0434      1.0185]\n",
            "\u001b[34m\u001b[1mtrain: \u001b[0m/content/images/train/2567.tif: ignoring corrupt image/label: non-normalized or out of bounds coordinates [     1.0644]\n",
            "\u001b[34m\u001b[1mtrain: \u001b[0m/content/images/train/2568.tif: ignoring corrupt image/label: negative label values [  -0.003618]\n",
            "\u001b[34m\u001b[1mtrain: \u001b[0m/content/images/train/2571.tif: ignoring corrupt image/label: non-normalized or out of bounds coordinates [     1.0002      1.0921      1.0471]\n",
            "\u001b[34m\u001b[1mtrain: \u001b[0m/content/images/train/2573.tif: ignoring corrupt image/label: negative label values [   -0.02112   -0.010122]\n",
            "\u001b[34m\u001b[1mtrain: \u001b[0m/content/images/train/2574.tif: ignoring corrupt image/label: non-normalized or out of bounds coordinates [     1.0356      1.0306]\n",
            "\u001b[34m\u001b[1mtrain: \u001b[0m/content/images/train/2591.tif: ignoring corrupt image/label: non-normalized or out of bounds coordinates [     1.0046]\n",
            "\u001b[34m\u001b[1mtrain: \u001b[0m/content/images/train/2599.tif: ignoring corrupt image/label: non-normalized or out of bounds coordinates [      1.004      1.0004]\n",
            "\u001b[34m\u001b[1mtrain: \u001b[0m/content/images/train/2618.tif: ignoring corrupt image/label: negative label values [  -0.048618]\n",
            "\u001b[34m\u001b[1mtrain: \u001b[0m/content/images/train/294.tif: ignoring corrupt image/label: negative label values [  -0.002611]\n",
            "\u001b[34m\u001b[1mtrain: \u001b[0m/content/images/train/302.tif: ignoring corrupt image/label: negative label values [  -0.000979]\n",
            "\u001b[34m\u001b[1mtrain: \u001b[0m/content/images/train/31.tif: ignoring corrupt image/label: non-normalized or out of bounds coordinates [     1.0015      1.0113]\n",
            "\u001b[34m\u001b[1mtrain: \u001b[0m/content/images/train/340.tif: ignoring corrupt image/label: non-normalized or out of bounds coordinates [     1.0048]\n",
            "\u001b[34m\u001b[1mtrain: \u001b[0m/content/images/train/345.tif: ignoring corrupt image/label: negative label values [  -0.001346   -0.001922   -0.001346   -0.002115   -0.001153   -0.000961   -0.002115   -0.001153   -0.000961   -0.001538   -0.001153   -0.001538   -0.000577   -0.000384]\n",
            "\u001b[34m\u001b[1mtrain: \u001b[0m/content/images/train/362.tif: ignoring corrupt image/label: negative label values [  -0.000755]\n",
            "\u001b[34m\u001b[1mtrain: \u001b[0m/content/images/train/433.tif: ignoring corrupt image/label: negative label values [  -0.001678    -0.00235]\n",
            "\u001b[34m\u001b[1mtrain: \u001b[0m/content/images/train/509.tif: ignoring corrupt image/label: non-normalized or out of bounds coordinates [     1.0158      1.0014      1.0105      1.0433      1.0165      1.0476      1.0138      1.0061      1.0106]\n",
            "\u001b[34m\u001b[1mtrain: \u001b[0m/content/images/train/513.tif: ignoring corrupt image/label: negative label values [  -0.004846   -0.030597]\n",
            "\u001b[34m\u001b[1mtrain: \u001b[0m/content/images/train/523.tif: ignoring corrupt image/label: non-normalized or out of bounds coordinates [     1.0005]\n",
            "\u001b[34m\u001b[1mtrain: \u001b[0m/content/images/train/525.tif: ignoring corrupt image/label: non-normalized or out of bounds coordinates [     1.0023      1.0036      1.0009      1.0003      1.0015      1.0014      1.0005]\n",
            "\u001b[34m\u001b[1mtrain: \u001b[0m/content/images/train/531.tif: ignoring corrupt image/label: non-normalized or out of bounds coordinates [     1.0011      1.0004      1.0016      1.0009      1.0018       1.002      1.0002]\n",
            "\u001b[34m\u001b[1mtrain: \u001b[0m/content/images/train/534.tif: ignoring corrupt image/label: non-normalized or out of bounds coordinates [     1.0034]\n",
            "\u001b[34m\u001b[1mtrain: \u001b[0m/content/images/train/535.tif: ignoring corrupt image/label: negative label values [  -0.015445]\n",
            "\u001b[34m\u001b[1mtrain: \u001b[0m/content/images/train/540.tif: ignoring corrupt image/label: negative label values [  -0.001444]\n",
            "\u001b[34m\u001b[1mtrain: \u001b[0m/content/images/train/546.tif: ignoring corrupt image/label: non-normalized or out of bounds coordinates [     1.0011      1.0011      1.0014      1.0002      1.0048      1.0002]\n",
            "\u001b[34m\u001b[1mtrain: \u001b[0m/content/images/train/548.tif: ignoring corrupt image/label: negative label values [  -0.000302   -0.000604   -0.001359   -0.000453   -0.001208   -0.000906   -0.019726   -0.001273   -0.002068]\n",
            "\u001b[34m\u001b[1mtrain: \u001b[0m/content/images/train/562.tif: ignoring corrupt image/label: non-normalized or out of bounds coordinates [     1.0009]\n",
            "\u001b[34m\u001b[1mtrain: \u001b[0m/content/images/train/568.tif: ignoring corrupt image/label: non-normalized or out of bounds coordinates [     1.0005]\n",
            "\u001b[34m\u001b[1mtrain: \u001b[0m/content/images/train/569.tif: ignoring corrupt image/label: negative label values [  -0.002717]\n",
            "\u001b[34m\u001b[1mtrain: \u001b[0m/content/images/train/579.tif: ignoring corrupt image/label: negative label values [  -0.001264]\n",
            "\u001b[34m\u001b[1mtrain: \u001b[0m/content/images/train/598.tif: ignoring corrupt image/label: negative label values [  -0.000361]\n",
            "\u001b[34m\u001b[1mtrain: \u001b[0m/content/images/train/600.tif: ignoring corrupt image/label: non-normalized or out of bounds coordinates [     1.0005      1.0025      1.0014]\n",
            "\u001b[34m\u001b[1mtrain: \u001b[0m/content/images/train/613.tif: ignoring corrupt image/label: negative label values [  -0.001083]\n",
            "\u001b[34m\u001b[1mtrain: \u001b[0m/content/images/train/741.tif: ignoring corrupt image/label: negative label values [  -0.001064]\n",
            "\u001b[34m\u001b[1mtrain: \u001b[0m/content/images/train/794.tif: ignoring corrupt image/label: non-normalized or out of bounds coordinates [     1.0002]\n",
            "\u001b[34m\u001b[1mtrain: \u001b[0m/content/images/train/807.tif: ignoring corrupt image/label: negative label values [  -0.004711]\n",
            "\u001b[34m\u001b[1mtrain: \u001b[0m/content/images/train/884.tif: ignoring corrupt image/label: negative label values [  -0.000456]\n",
            "\u001b[34m\u001b[1mtrain: \u001b[0m/content/images/train/885.tif: ignoring corrupt image/label: negative label values [  -0.001849]\n",
            "\u001b[34m\u001b[1mtrain: \u001b[0m/content/images/train/89.tif: ignoring corrupt image/label: negative label values [  -0.001657]\n",
            "\u001b[34m\u001b[1mtrain: \u001b[0m/content/images/train/905.tif: ignoring corrupt image/label: negative label values [  -0.003798]\n",
            "\u001b[34m\u001b[1mtrain: \u001b[0m/content/images/train/914.tif: ignoring corrupt image/label: negative label values [  -0.003193]\n",
            "\u001b[34m\u001b[1mtrain: \u001b[0m/content/images/train/92.tif: ignoring corrupt image/label: negative label values [  -0.001106   -0.000184]\n",
            "\u001b[34m\u001b[1mtrain: \u001b[0m/content/images/train/926.tif: ignoring corrupt image/label: non-normalized or out of bounds coordinates [     1.0015      1.0034]\n"
          ]
        },
        {
          "output_type": "stream",
          "name": "stderr",
          "text": [
            "\n"
          ]
        },
        {
          "output_type": "stream",
          "name": "stdout",
          "text": [
            "\u001b[34m\u001b[1malbumentations: \u001b[0mBlur(p=0.01, blur_limit=(3, 7)), MedianBlur(p=0.01, blur_limit=(3, 7)), ToGray(p=0.01, method='weighted_average', num_output_channels=3), CLAHE(p=0.01, clip_limit=(1.0, 4.0), tile_grid_size=(8, 8))\n",
            "\u001b[34m\u001b[1mval: \u001b[0mFast image access ✅ (ping: 0.1±0.0 ms, read: 110.9±43.2 MB/s, size: 28254.6 KB)\n"
          ]
        },
        {
          "output_type": "stream",
          "name": "stderr",
          "text": [
            "\u001b[34m\u001b[1mval: \u001b[0mScanning /content/labels/val.cache... 154 images, 0 backgrounds, 40 corrupt: 100%|██████████| 154/154 [00:00<?, ?it/s]"
          ]
        },
        {
          "output_type": "stream",
          "name": "stdout",
          "text": [
            "\u001b[34m\u001b[1mval: \u001b[0m/content/images/val/100.tif: ignoring corrupt image/label: negative label values [  -0.001924]\n",
            "\u001b[34m\u001b[1mval: \u001b[0m/content/images/val/1063.tif: ignoring corrupt image/label: negative label values [  -0.003622]\n",
            "\u001b[34m\u001b[1mval: \u001b[0m/content/images/val/1094.tif: ignoring corrupt image/label: non-normalized or out of bounds coordinates [     1.0011      1.0014]\n",
            "\u001b[34m\u001b[1mval: \u001b[0m/content/images/val/1104.tif: ignoring corrupt image/label: non-normalized or out of bounds coordinates [     1.0114      1.0014]\n",
            "\u001b[34m\u001b[1mval: \u001b[0m/content/images/val/1126.tif: ignoring corrupt image/label: non-normalized or out of bounds coordinates [     1.0007]\n",
            "\u001b[34m\u001b[1mval: \u001b[0m/content/images/val/1133.tif: ignoring corrupt image/label: non-normalized or out of bounds coordinates [      1.001]\n",
            "\u001b[34m\u001b[1mval: \u001b[0m/content/images/val/1141.tif: ignoring corrupt image/label: non-normalized or out of bounds coordinates [     1.0183      1.0014]\n",
            "\u001b[34m\u001b[1mval: \u001b[0m/content/images/val/1142.tif: ignoring corrupt image/label: negative label values [  -0.000756]\n",
            "\u001b[34m\u001b[1mval: \u001b[0m/content/images/val/1192.tif: ignoring corrupt image/label: non-normalized or out of bounds coordinates [     1.0062      1.0007      1.0026]\n",
            "\u001b[34m\u001b[1mval: \u001b[0m/content/images/val/1212.tif: ignoring corrupt image/label: non-normalized or out of bounds coordinates [     1.0003      1.0009      1.0012      1.0036      1.0026      1.0005]\n",
            "\u001b[34m\u001b[1mval: \u001b[0m/content/images/val/1444.tif: ignoring corrupt image/label: negative label values [  -0.001112   -0.000383]\n",
            "\u001b[34m\u001b[1mval: \u001b[0m/content/images/val/1454.tif: ignoring corrupt image/label: non-normalized or out of bounds coordinates [     1.0025      1.0022      1.0063]\n",
            "\u001b[34m\u001b[1mval: \u001b[0m/content/images/val/1459.tif: ignoring corrupt image/label: non-normalized or out of bounds coordinates [     1.0025      1.0024      1.0013      1.0011      1.0006      1.0014      1.0003      1.0005      1.0054      1.0051      1.0019      1.0014      1.0008]\n",
            "\u001b[34m\u001b[1mval: \u001b[0m/content/images/val/1530.tif: ignoring corrupt image/label: non-normalized or out of bounds coordinates [     1.0002]\n",
            "\u001b[34m\u001b[1mval: \u001b[0m/content/images/val/1590.tif: ignoring corrupt image/label: non-normalized or out of bounds coordinates [     1.0177]\n",
            "\u001b[34m\u001b[1mval: \u001b[0m/content/images/val/1806.tif: ignoring corrupt image/label: negative label values [  -0.000475]\n",
            "\u001b[34m\u001b[1mval: \u001b[0m/content/images/val/1817.tif: ignoring corrupt image/label: non-normalized or out of bounds coordinates [     1.0001]\n",
            "\u001b[34m\u001b[1mval: \u001b[0m/content/images/val/1832.tif: ignoring corrupt image/label: negative label values [   -0.00138   -0.004141   -0.000767   -0.000767   -0.001131   -0.002746]\n",
            "\u001b[34m\u001b[1mval: \u001b[0m/content/images/val/1841.tif: ignoring corrupt image/label: non-normalized or out of bounds coordinates [     1.0033]\n",
            "\u001b[34m\u001b[1mval: \u001b[0m/content/images/val/1896.tif: ignoring corrupt image/label: negative label values [  -0.036611   -0.021657   -0.001547   -0.030079]\n",
            "\u001b[34m\u001b[1mval: \u001b[0m/content/images/val/1919.tif: ignoring corrupt image/label: non-normalized or out of bounds coordinates [     1.0034]\n",
            "\u001b[34m\u001b[1mval: \u001b[0m/content/images/val/1931.tif: ignoring corrupt image/label: non-normalized or out of bounds coordinates [     1.0327]\n",
            "\u001b[34m\u001b[1mval: \u001b[0m/content/images/val/203.tif: ignoring corrupt image/label: non-normalized or out of bounds coordinates [     1.0015]\n",
            "\u001b[34m\u001b[1mval: \u001b[0m/content/images/val/2031.tif: ignoring corrupt image/label: non-normalized or out of bounds coordinates [     1.0006       1.001]\n",
            "\u001b[34m\u001b[1mval: \u001b[0m/content/images/val/2064.tif: ignoring corrupt image/label: non-normalized or out of bounds coordinates [      1.001       1.001]\n",
            "\u001b[34m\u001b[1mval: \u001b[0m/content/images/val/2131.tif: ignoring corrupt image/label: non-normalized or out of bounds coordinates [      1.001      1.0142]\n",
            "\u001b[34m\u001b[1mval: \u001b[0m/content/images/val/2168.tif: ignoring corrupt image/label: non-normalized or out of bounds coordinates [     1.0004      1.0009]\n",
            "\u001b[34m\u001b[1mval: \u001b[0m/content/images/val/2214.tif: ignoring corrupt image/label: non-normalized or out of bounds coordinates [     1.0036]\n",
            "\u001b[34m\u001b[1mval: \u001b[0m/content/images/val/2294.tif: ignoring corrupt image/label: negative label values [  -0.013066   -0.007645]\n",
            "\u001b[34m\u001b[1mval: \u001b[0m/content/images/val/2399.tif: ignoring corrupt image/label: negative label values [  -0.002062]\n",
            "\u001b[34m\u001b[1mval: \u001b[0m/content/images/val/2482.tif: ignoring corrupt image/label: negative label values [  -0.003442]\n",
            "\u001b[34m\u001b[1mval: \u001b[0m/content/images/val/2514.tif: ignoring corrupt image/label: non-normalized or out of bounds coordinates [      1.001]\n",
            "\u001b[34m\u001b[1mval: \u001b[0m/content/images/val/2552.tif: ignoring corrupt image/label: negative label values [   -0.00235   -0.001808]\n",
            "\u001b[34m\u001b[1mval: \u001b[0m/content/images/val/2557.tif: ignoring corrupt image/label: negative label values [  -0.012519]\n",
            "\u001b[34m\u001b[1mval: \u001b[0m/content/images/val/360.tif: ignoring corrupt image/label: non-normalized or out of bounds coordinates [     1.0029]\n",
            "\u001b[34m\u001b[1mval: \u001b[0m/content/images/val/584.tif: ignoring corrupt image/label: non-normalized or out of bounds coordinates [     1.0042]\n",
            "\u001b[34m\u001b[1mval: \u001b[0m/content/images/val/587.tif: ignoring corrupt image/label: non-normalized or out of bounds coordinates [     1.0041]\n",
            "\u001b[34m\u001b[1mval: \u001b[0m/content/images/val/610.tif: ignoring corrupt image/label: negative label values [  -0.000903   -0.002347   -0.001083   -0.001806   -0.001264]\n",
            "\u001b[34m\u001b[1mval: \u001b[0m/content/images/val/75.tif: ignoring corrupt image/label: non-normalized or out of bounds coordinates [     1.0003]\n",
            "\u001b[34m\u001b[1mval: \u001b[0m/content/images/val/80.tif: ignoring corrupt image/label: non-normalized or out of bounds coordinates [     1.0002]\n"
          ]
        },
        {
          "output_type": "stream",
          "name": "stderr",
          "text": [
            "\n"
          ]
        },
        {
          "output_type": "stream",
          "name": "stdout",
          "text": [
            "Plotting labels to runs/detect/satellite_model2/labels.jpg... \n",
            "\u001b[34m\u001b[1moptimizer:\u001b[0m 'optimizer=auto' found, ignoring 'lr0=0.0015' and 'momentum=0.937' and determining best 'optimizer', 'lr0' and 'momentum' automatically... \n",
            "\u001b[34m\u001b[1moptimizer:\u001b[0m AdamW(lr=0.000156, momentum=0.9) with parameter groups 77 weight(decay=0.0), 84 weight(decay=0.0005), 83 bias(decay=0.0)\n",
            "Image sizes 1024 train, 1024 val\n",
            "Using 2 dataloader workers\n",
            "Logging results to \u001b[1mruns/detect/satellite_model2\u001b[0m\n",
            "Starting training for 30 epochs...\n",
            "\n",
            "      Epoch    GPU_mem   box_loss   cls_loss   dfl_loss  Instances       Size\n"
          ]
        },
        {
          "output_type": "stream",
          "name": "stderr",
          "text": [
            "       1/30      8.27G      3.511       9.88      1.163        378       1024: 100%|██████████| 219/219 [01:30<00:00,  2.43it/s]\n",
            "                 Class     Images  Instances      Box(P          R      mAP50  mAP50-95): 100%|██████████| 29/29 [00:20<00:00,  1.45it/s]"
          ]
        },
        {
          "output_type": "stream",
          "name": "stdout",
          "text": [
            "                   all        114      35661      0.714     0.0105     0.0135     0.0057\n"
          ]
        },
        {
          "output_type": "stream",
          "name": "stderr",
          "text": [
            "\n"
          ]
        },
        {
          "output_type": "stream",
          "name": "stdout",
          "text": [
            "\n",
            "      Epoch    GPU_mem   box_loss   cls_loss   dfl_loss  Instances       Size\n"
          ]
        },
        {
          "output_type": "stream",
          "name": "stderr",
          "text": [
            "       2/30      9.74G      3.503      5.157     0.9931        199       1024: 100%|██████████| 219/219 [01:30<00:00,  2.43it/s]\n",
            "                 Class     Images  Instances      Box(P          R      mAP50  mAP50-95): 100%|██████████| 29/29 [00:19<00:00,  1.46it/s]"
          ]
        },
        {
          "output_type": "stream",
          "name": "stdout",
          "text": [
            "                   all        114      35661     0.0297     0.0474      0.045     0.0144\n"
          ]
        },
        {
          "output_type": "stream",
          "name": "stderr",
          "text": [
            "\n"
          ]
        },
        {
          "output_type": "stream",
          "name": "stdout",
          "text": [
            "\n",
            "      Epoch    GPU_mem   box_loss   cls_loss   dfl_loss  Instances       Size\n"
          ]
        },
        {
          "output_type": "stream",
          "name": "stderr",
          "text": [
            "       3/30      12.1G      3.448      4.876     0.9797        937       1024: 100%|██████████| 219/219 [01:28<00:00,  2.47it/s]\n",
            "                 Class     Images  Instances      Box(P          R      mAP50  mAP50-95): 100%|██████████| 29/29 [00:19<00:00,  1.51it/s]"
          ]
        },
        {
          "output_type": "stream",
          "name": "stdout",
          "text": [
            "                   all        114      35661      0.298     0.0351     0.0356     0.0195\n"
          ]
        },
        {
          "output_type": "stream",
          "name": "stderr",
          "text": [
            "\n"
          ]
        },
        {
          "output_type": "stream",
          "name": "stdout",
          "text": [
            "\n",
            "      Epoch    GPU_mem   box_loss   cls_loss   dfl_loss  Instances       Size\n"
          ]
        },
        {
          "output_type": "stream",
          "name": "stderr",
          "text": [
            "       4/30      13.3G      3.318      4.335     0.9506        815       1024: 100%|██████████| 219/219 [01:28<00:00,  2.46it/s]\n",
            "                 Class     Images  Instances      Box(P          R      mAP50  mAP50-95): 100%|██████████| 29/29 [00:19<00:00,  1.51it/s]"
          ]
        },
        {
          "output_type": "stream",
          "name": "stdout",
          "text": [
            "                   all        114      35661      0.477     0.0299     0.0335     0.0167\n"
          ]
        },
        {
          "output_type": "stream",
          "name": "stderr",
          "text": [
            "\n"
          ]
        },
        {
          "output_type": "stream",
          "name": "stdout",
          "text": [
            "\n",
            "      Epoch    GPU_mem   box_loss   cls_loss   dfl_loss  Instances       Size\n"
          ]
        },
        {
          "output_type": "stream",
          "name": "stderr",
          "text": [
            "       5/30      12.2G      3.316      4.306     0.9308         11       1024: 100%|██████████| 219/219 [01:29<00:00,  2.46it/s]\n",
            "                 Class     Images  Instances      Box(P          R      mAP50  mAP50-95): 100%|██████████| 29/29 [00:17<00:00,  1.65it/s]"
          ]
        },
        {
          "output_type": "stream",
          "name": "stdout",
          "text": [
            "                   all        114      35661      0.404      0.029      0.038     0.0181\n"
          ]
        },
        {
          "output_type": "stream",
          "name": "stderr",
          "text": [
            "\n"
          ]
        },
        {
          "output_type": "stream",
          "name": "stdout",
          "text": [
            "\n",
            "      Epoch    GPU_mem   box_loss   cls_loss   dfl_loss  Instances       Size\n"
          ]
        },
        {
          "output_type": "stream",
          "name": "stderr",
          "text": [
            "       6/30      14.1G      3.326      4.026     0.9152         56       1024: 100%|██████████| 219/219 [01:29<00:00,  2.46it/s]\n",
            "                 Class     Images  Instances      Box(P          R      mAP50  mAP50-95): 100%|██████████| 29/29 [00:18<00:00,  1.56it/s]\n"
          ]
        },
        {
          "output_type": "stream",
          "name": "stdout",
          "text": [
            "                   all        114      35661      0.292     0.0548      0.042     0.0217\n",
            "\n",
            "      Epoch    GPU_mem   box_loss   cls_loss   dfl_loss  Instances       Size\n"
          ]
        },
        {
          "output_type": "stream",
          "name": "stderr",
          "text": [
            "       7/30      10.8G      3.266      3.588     0.9195        620       1024: 100%|██████████| 219/219 [01:29<00:00,  2.46it/s]\n",
            "                 Class     Images  Instances      Box(P          R      mAP50  mAP50-95): 100%|██████████| 29/29 [00:19<00:00,  1.46it/s]"
          ]
        },
        {
          "output_type": "stream",
          "name": "stdout",
          "text": [
            "                   all        114      35661      0.333     0.0484     0.0428     0.0188\n"
          ]
        },
        {
          "output_type": "stream",
          "name": "stderr",
          "text": [
            "\n"
          ]
        },
        {
          "output_type": "stream",
          "name": "stdout",
          "text": [
            "\n",
            "      Epoch    GPU_mem   box_loss   cls_loss   dfl_loss  Instances       Size\n"
          ]
        },
        {
          "output_type": "stream",
          "name": "stderr",
          "text": [
            "       8/30      12.7G      3.206      3.805     0.9164        196       1024: 100%|██████████| 219/219 [01:27<00:00,  2.49it/s]\n",
            "                 Class     Images  Instances      Box(P          R      mAP50  mAP50-95): 100%|██████████| 29/29 [00:19<00:00,  1.50it/s]"
          ]
        },
        {
          "output_type": "stream",
          "name": "stdout",
          "text": [
            "                   all        114      35661      0.332      0.075     0.0538     0.0219\n"
          ]
        },
        {
          "output_type": "stream",
          "name": "stderr",
          "text": [
            "\n"
          ]
        },
        {
          "output_type": "stream",
          "name": "stdout",
          "text": [
            "\n",
            "      Epoch    GPU_mem   box_loss   cls_loss   dfl_loss  Instances       Size\n"
          ]
        },
        {
          "output_type": "stream",
          "name": "stderr",
          "text": [
            "       9/30      11.9G       3.14      3.447     0.9013         13       1024: 100%|██████████| 219/219 [01:26<00:00,  2.54it/s]\n",
            "                 Class     Images  Instances      Box(P          R      mAP50  mAP50-95): 100%|██████████| 29/29 [00:18<00:00,  1.59it/s]\n"
          ]
        },
        {
          "output_type": "stream",
          "name": "stdout",
          "text": [
            "                   all        114      35661      0.307      0.063     0.0676     0.0299\n",
            "\n",
            "      Epoch    GPU_mem   box_loss   cls_loss   dfl_loss  Instances       Size\n"
          ]
        },
        {
          "output_type": "stream",
          "name": "stderr",
          "text": [
            "      10/30      11.6G      3.188      3.306     0.9204        934       1024: 100%|██████████| 219/219 [01:27<00:00,  2.51it/s]\n",
            "                 Class     Images  Instances      Box(P          R      mAP50  mAP50-95): 100%|██████████| 29/29 [00:18<00:00,  1.55it/s]"
          ]
        },
        {
          "output_type": "stream",
          "name": "stdout",
          "text": [
            "                   all        114      35661      0.361     0.0839     0.0619      0.028\n"
          ]
        },
        {
          "output_type": "stream",
          "name": "stderr",
          "text": [
            "\n"
          ]
        },
        {
          "output_type": "stream",
          "name": "stdout",
          "text": [
            "\n",
            "      Epoch    GPU_mem   box_loss   cls_loss   dfl_loss  Instances       Size\n"
          ]
        },
        {
          "output_type": "stream",
          "name": "stderr",
          "text": [
            "      11/30      9.65G      3.132      3.178     0.9096        110       1024: 100%|██████████| 219/219 [01:29<00:00,  2.46it/s]\n",
            "                 Class     Images  Instances      Box(P          R      mAP50  mAP50-95): 100%|██████████| 29/29 [00:18<00:00,  1.56it/s]\n"
          ]
        },
        {
          "output_type": "stream",
          "name": "stdout",
          "text": [
            "                   all        114      35661      0.371     0.0804     0.0683     0.0291\n",
            "\n",
            "      Epoch    GPU_mem   box_loss   cls_loss   dfl_loss  Instances       Size\n"
          ]
        },
        {
          "output_type": "stream",
          "name": "stderr",
          "text": [
            "      12/30      11.8G      3.093      3.319     0.8925         21       1024: 100%|██████████| 219/219 [01:27<00:00,  2.49it/s]\n",
            "                 Class     Images  Instances      Box(P          R      mAP50  mAP50-95): 100%|██████████| 29/29 [00:18<00:00,  1.55it/s]"
          ]
        },
        {
          "output_type": "stream",
          "name": "stdout",
          "text": [
            "                   all        114      35661      0.396     0.0749     0.0659     0.0296\n"
          ]
        },
        {
          "output_type": "stream",
          "name": "stderr",
          "text": [
            "\n"
          ]
        },
        {
          "output_type": "stream",
          "name": "stdout",
          "text": [
            "\n",
            "      Epoch    GPU_mem   box_loss   cls_loss   dfl_loss  Instances       Size\n"
          ]
        },
        {
          "output_type": "stream",
          "name": "stderr",
          "text": [
            "      13/30      8.31G      3.106      3.089     0.8968        482       1024: 100%|██████████| 219/219 [01:27<00:00,  2.49it/s]\n",
            "                 Class     Images  Instances      Box(P          R      mAP50  mAP50-95): 100%|██████████| 29/29 [00:19<00:00,  1.50it/s]\n"
          ]
        },
        {
          "output_type": "stream",
          "name": "stdout",
          "text": [
            "                   all        114      35661      0.423      0.074     0.0657     0.0291\n",
            "\n",
            "      Epoch    GPU_mem   box_loss   cls_loss   dfl_loss  Instances       Size\n"
          ]
        },
        {
          "output_type": "stream",
          "name": "stderr",
          "text": [
            "      14/30      7.32G      3.065      3.175     0.8995         19       1024: 100%|██████████| 219/219 [01:27<00:00,  2.49it/s]\n",
            "                 Class     Images  Instances      Box(P          R      mAP50  mAP50-95): 100%|██████████| 29/29 [00:18<00:00,  1.53it/s]"
          ]
        },
        {
          "output_type": "stream",
          "name": "stdout",
          "text": [
            "                   all        114      35661      0.323     0.0743     0.0579     0.0269\n"
          ]
        },
        {
          "output_type": "stream",
          "name": "stderr",
          "text": [
            "\n"
          ]
        },
        {
          "output_type": "stream",
          "name": "stdout",
          "text": [
            "\n",
            "      Epoch    GPU_mem   box_loss   cls_loss   dfl_loss  Instances       Size\n"
          ]
        },
        {
          "output_type": "stream",
          "name": "stderr",
          "text": [
            "      15/30      7.35G      3.051      3.007     0.9074        162       1024: 100%|██████████| 219/219 [01:28<00:00,  2.47it/s]\n",
            "                 Class     Images  Instances      Box(P          R      mAP50  mAP50-95): 100%|██████████| 29/29 [00:19<00:00,  1.50it/s]"
          ]
        },
        {
          "output_type": "stream",
          "name": "stdout",
          "text": [
            "                   all        114      35661      0.323     0.0658     0.0624     0.0283\n"
          ]
        },
        {
          "output_type": "stream",
          "name": "stderr",
          "text": [
            "\n"
          ]
        },
        {
          "output_type": "stream",
          "name": "stdout",
          "text": [
            "\u001b[34m\u001b[1mEarlyStopping: \u001b[0mTraining stopped early as no improvement observed in last 6 epochs. Best results observed at epoch 9, best model saved as best.pt.\n",
            "To update EarlyStopping(patience=6) pass a new patience value, i.e. `patience=300` or use `patience=0` to disable EarlyStopping.\n",
            "\n",
            "15 epochs completed in 0.496 hours.\n",
            "Optimizer stripped from runs/detect/satellite_model2/weights/last.pt, 52.2MB\n",
            "Optimizer stripped from runs/detect/satellite_model2/weights/best.pt, 52.2MB\n",
            "\n",
            "Validating runs/detect/satellite_model2/weights/best.pt...\n",
            "Ultralytics 8.3.145 🚀 Python-3.11.12 torch-2.6.0+cu124 CUDA:0 (Tesla T4, 15095MiB)\n",
            "Model summary (fused): 92 layers, 25,874,500 parameters, 0 gradients, 78.9 GFLOPs\n"
          ]
        },
        {
          "output_type": "stream",
          "name": "stderr",
          "text": [
            "                 Class     Images  Instances      Box(P          R      mAP50  mAP50-95): 100%|██████████| 29/29 [00:35<00:00,  1.21s/it]\n"
          ]
        },
        {
          "output_type": "stream",
          "name": "stdout",
          "text": [
            "                   all        114      35661      0.283     0.0626     0.0583     0.0282\n",
            "           Truck w/Box          4          7          0          0          0          0\n",
            "         Truck Tractor          7         16     0.0337      0.188     0.0266     0.0138\n",
            "               Trailer         19         93      0.442      0.892      0.869      0.438\n",
            "        Truck w/Liquid          3         10          0          0          0          0\n",
            "       Railway Vehicle         31        383          1          0          0          0\n",
            "         Passenger Car        105      29316      0.264     0.0569     0.0894     0.0228\n",
            "             Cargo Car         63       1101      0.365     0.0418       0.08     0.0328\n",
            "              Flat Car         30        174          1          0          0          0\n",
            "              Tank car         51        462          0          0    0.00212   0.000318\n",
            "        Container Ship         81       1612     0.0717     0.0199     0.0184    0.00659\n",
            "            Liner Ship         59        939          0          0      0.011    0.00458\n",
            "        Fishing Vessel         41        349      0.166      0.115     0.0606     0.0247\n",
            "            Oil Tanker         15         45          0          0          0          0\n",
            "   Engineering Vehicle         52        528       0.15     0.0284      0.044     0.0161\n",
            "           Tower crane         25         92          0          0          0          0\n",
            "       Container Crane          5          7          1          0          0          0\n",
            "          Mobile Crane         16         28          0          0          0          0\n",
            "            Haul Truck          3         26          1          0    0.00713    0.00214\n",
            "       Scraper/Tractor          5        190          1          0          0          0\n",
            "Front Loader/Bulldozer          2          9          0          0          0          0\n",
            "             Excavator          1         13          0          0          0          0\n",
            "          Cement Mixer          4         12          0          0          0          0\n",
            "              Hut/Tent          6          7          0          0    0.00846    0.00423\n",
            "                  Shed          6         37          1          0          0          0\n",
            "              Building          2         14      0.282     0.0714     0.0395     0.0158\n",
            "      Damaged Building          2          3          0          0     0.0567     0.0162\n",
            "           Vehicle Lot          2          3          0          0       0.12     0.0241\n",
            "          Storage Tank          1          3          1          0          0          0\n",
            "    Shipping Container          2          6     0.0325      0.333     0.0285     0.0161\n",
            "                 Pylon          1          2      0.355        0.5       0.62       0.37\n",
            "                 Tower         19         42     0.0431    0.00719     0.0173     0.0082\n",
            "          Wind Turbine         13         46          0          0          0          0\n",
            "  Tower-like Structure          3          7          0          0          0          0\n",
            "       Container/Truck          3          6          0          0          0          0\n",
            "               Oil Rig          2         12          0          0          0          0\n",
            "                  Dock         13         61          1          0          0          0\n",
            "Speed: 1.1ms preprocess, 117.1ms inference, 0.0ms loss, 15.5ms postprocess per image\n",
            "Results saved to \u001b[1mruns/detect/satellite_model2\u001b[0m\n"
          ]
        },
        {
          "output_type": "execute_result",
          "data": {
            "text/plain": [
              "ultralytics.utils.metrics.DetMetrics object with attributes:\n",
              "\n",
              "ap_class_index: array([11, 12, 13, 15, 17, 18, 19, 20, 21, 23, 24, 25, 26, 27, 28, 29, 32, 34, 35, 36, 37, 38, 40, 41, 42, 44, 47, 49, 51, 52, 53, 54, 55, 56, 57, 59])\n",
              "box: ultralytics.utils.metrics.Metric object\n",
              "confusion_matrix: <ultralytics.utils.metrics.ConfusionMatrix object at 0x7e9851aad8d0>\n",
              "curves: ['Precision-Recall(B)', 'F1-Confidence(B)', 'Precision-Confidence(B)', 'Recall-Confidence(B)']\n",
              "curves_results: [[array([          0,    0.001001,    0.002002,    0.003003,    0.004004,    0.005005,    0.006006,    0.007007,    0.008008,    0.009009,     0.01001,    0.011011,    0.012012,    0.013013,    0.014014,    0.015015,    0.016016,    0.017017,    0.018018,    0.019019,     0.02002,    0.021021,    0.022022,    0.023023,\n",
              "          0.024024,    0.025025,    0.026026,    0.027027,    0.028028,    0.029029,     0.03003,    0.031031,    0.032032,    0.033033,    0.034034,    0.035035,    0.036036,    0.037037,    0.038038,    0.039039,     0.04004,    0.041041,    0.042042,    0.043043,    0.044044,    0.045045,    0.046046,    0.047047,\n",
              "          0.048048,    0.049049,     0.05005,    0.051051,    0.052052,    0.053053,    0.054054,    0.055055,    0.056056,    0.057057,    0.058058,    0.059059,     0.06006,    0.061061,    0.062062,    0.063063,    0.064064,    0.065065,    0.066066,    0.067067,    0.068068,    0.069069,     0.07007,    0.071071,\n",
              "          0.072072,    0.073073,    0.074074,    0.075075,    0.076076,    0.077077,    0.078078,    0.079079,     0.08008,    0.081081,    0.082082,    0.083083,    0.084084,    0.085085,    0.086086,    0.087087,    0.088088,    0.089089,     0.09009,    0.091091,    0.092092,    0.093093,    0.094094,    0.095095,\n",
              "          0.096096,    0.097097,    0.098098,    0.099099,      0.1001,      0.1011,      0.1021,      0.1031,      0.1041,     0.10511,     0.10611,     0.10711,     0.10811,     0.10911,     0.11011,     0.11111,     0.11211,     0.11311,     0.11411,     0.11512,     0.11612,     0.11712,     0.11812,     0.11912,\n",
              "           0.12012,     0.12112,     0.12212,     0.12312,     0.12412,     0.12513,     0.12613,     0.12713,     0.12813,     0.12913,     0.13013,     0.13113,     0.13213,     0.13313,     0.13413,     0.13514,     0.13614,     0.13714,     0.13814,     0.13914,     0.14014,     0.14114,     0.14214,     0.14314,\n",
              "           0.14414,     0.14515,     0.14615,     0.14715,     0.14815,     0.14915,     0.15015,     0.15115,     0.15215,     0.15315,     0.15415,     0.15516,     0.15616,     0.15716,     0.15816,     0.15916,     0.16016,     0.16116,     0.16216,     0.16316,     0.16416,     0.16517,     0.16617,     0.16717,\n",
              "           0.16817,     0.16917,     0.17017,     0.17117,     0.17217,     0.17317,     0.17417,     0.17518,     0.17618,     0.17718,     0.17818,     0.17918,     0.18018,     0.18118,     0.18218,     0.18318,     0.18418,     0.18519,     0.18619,     0.18719,     0.18819,     0.18919,     0.19019,     0.19119,\n",
              "           0.19219,     0.19319,     0.19419,      0.1952,      0.1962,      0.1972,      0.1982,      0.1992,      0.2002,      0.2012,      0.2022,      0.2032,      0.2042,     0.20521,     0.20621,     0.20721,     0.20821,     0.20921,     0.21021,     0.21121,     0.21221,     0.21321,     0.21421,     0.21522,\n",
              "           0.21622,     0.21722,     0.21822,     0.21922,     0.22022,     0.22122,     0.22222,     0.22322,     0.22422,     0.22523,     0.22623,     0.22723,     0.22823,     0.22923,     0.23023,     0.23123,     0.23223,     0.23323,     0.23423,     0.23524,     0.23624,     0.23724,     0.23824,     0.23924,\n",
              "           0.24024,     0.24124,     0.24224,     0.24324,     0.24424,     0.24525,     0.24625,     0.24725,     0.24825,     0.24925,     0.25025,     0.25125,     0.25225,     0.25325,     0.25425,     0.25526,     0.25626,     0.25726,     0.25826,     0.25926,     0.26026,     0.26126,     0.26226,     0.26326,\n",
              "           0.26426,     0.26527,     0.26627,     0.26727,     0.26827,     0.26927,     0.27027,     0.27127,     0.27227,     0.27327,     0.27427,     0.27528,     0.27628,     0.27728,     0.27828,     0.27928,     0.28028,     0.28128,     0.28228,     0.28328,     0.28428,     0.28529,     0.28629,     0.28729,\n",
              "           0.28829,     0.28929,     0.29029,     0.29129,     0.29229,     0.29329,     0.29429,      0.2953,      0.2963,      0.2973,      0.2983,      0.2993,      0.3003,      0.3013,      0.3023,      0.3033,      0.3043,     0.30531,     0.30631,     0.30731,     0.30831,     0.30931,     0.31031,     0.31131,\n",
              "           0.31231,     0.31331,     0.31431,     0.31532,     0.31632,     0.31732,     0.31832,     0.31932,     0.32032,     0.32132,     0.32232,     0.32332,     0.32432,     0.32533,     0.32633,     0.32733,     0.32833,     0.32933,     0.33033,     0.33133,     0.33233,     0.33333,     0.33433,     0.33534,\n",
              "           0.33634,     0.33734,     0.33834,     0.33934,     0.34034,     0.34134,     0.34234,     0.34334,     0.34434,     0.34535,     0.34635,     0.34735,     0.34835,     0.34935,     0.35035,     0.35135,     0.35235,     0.35335,     0.35435,     0.35536,     0.35636,     0.35736,     0.35836,     0.35936,\n",
              "           0.36036,     0.36136,     0.36236,     0.36336,     0.36436,     0.36537,     0.36637,     0.36737,     0.36837,     0.36937,     0.37037,     0.37137,     0.37237,     0.37337,     0.37437,     0.37538,     0.37638,     0.37738,     0.37838,     0.37938,     0.38038,     0.38138,     0.38238,     0.38338,\n",
              "           0.38438,     0.38539,     0.38639,     0.38739,     0.38839,     0.38939,     0.39039,     0.39139,     0.39239,     0.39339,     0.39439,      0.3954,      0.3964,      0.3974,      0.3984,      0.3994,      0.4004,      0.4014,      0.4024,      0.4034,      0.4044,     0.40541,     0.40641,     0.40741,\n",
              "           0.40841,     0.40941,     0.41041,     0.41141,     0.41241,     0.41341,     0.41441,     0.41542,     0.41642,     0.41742,     0.41842,     0.41942,     0.42042,     0.42142,     0.42242,     0.42342,     0.42442,     0.42543,     0.42643,     0.42743,     0.42843,     0.42943,     0.43043,     0.43143,\n",
              "           0.43243,     0.43343,     0.43443,     0.43544,     0.43644,     0.43744,     0.43844,     0.43944,     0.44044,     0.44144,     0.44244,     0.44344,     0.44444,     0.44545,     0.44645,     0.44745,     0.44845,     0.44945,     0.45045,     0.45145,     0.45245,     0.45345,     0.45445,     0.45546,\n",
              "           0.45646,     0.45746,     0.45846,     0.45946,     0.46046,     0.46146,     0.46246,     0.46346,     0.46446,     0.46547,     0.46647,     0.46747,     0.46847,     0.46947,     0.47047,     0.47147,     0.47247,     0.47347,     0.47447,     0.47548,     0.47648,     0.47748,     0.47848,     0.47948,\n",
              "           0.48048,     0.48148,     0.48248,     0.48348,     0.48448,     0.48549,     0.48649,     0.48749,     0.48849,     0.48949,     0.49049,     0.49149,     0.49249,     0.49349,     0.49449,      0.4955,      0.4965,      0.4975,      0.4985,      0.4995,      0.5005,      0.5015,      0.5025,      0.5035,\n",
              "            0.5045,     0.50551,     0.50651,     0.50751,     0.50851,     0.50951,     0.51051,     0.51151,     0.51251,     0.51351,     0.51451,     0.51552,     0.51652,     0.51752,     0.51852,     0.51952,     0.52052,     0.52152,     0.52252,     0.52352,     0.52452,     0.52553,     0.52653,     0.52753,\n",
              "           0.52853,     0.52953,     0.53053,     0.53153,     0.53253,     0.53353,     0.53453,     0.53554,     0.53654,     0.53754,     0.53854,     0.53954,     0.54054,     0.54154,     0.54254,     0.54354,     0.54454,     0.54555,     0.54655,     0.54755,     0.54855,     0.54955,     0.55055,     0.55155,\n",
              "           0.55255,     0.55355,     0.55455,     0.55556,     0.55656,     0.55756,     0.55856,     0.55956,     0.56056,     0.56156,     0.56256,     0.56356,     0.56456,     0.56557,     0.56657,     0.56757,     0.56857,     0.56957,     0.57057,     0.57157,     0.57257,     0.57357,     0.57457,     0.57558,\n",
              "           0.57658,     0.57758,     0.57858,     0.57958,     0.58058,     0.58158,     0.58258,     0.58358,     0.58458,     0.58559,     0.58659,     0.58759,     0.58859,     0.58959,     0.59059,     0.59159,     0.59259,     0.59359,     0.59459,      0.5956,      0.5966,      0.5976,      0.5986,      0.5996,\n",
              "            0.6006,      0.6016,      0.6026,      0.6036,      0.6046,     0.60561,     0.60661,     0.60761,     0.60861,     0.60961,     0.61061,     0.61161,     0.61261,     0.61361,     0.61461,     0.61562,     0.61662,     0.61762,     0.61862,     0.61962,     0.62062,     0.62162,     0.62262,     0.62362,\n",
              "           0.62462,     0.62563,     0.62663,     0.62763,     0.62863,     0.62963,     0.63063,     0.63163,     0.63263,     0.63363,     0.63463,     0.63564,     0.63664,     0.63764,     0.63864,     0.63964,     0.64064,     0.64164,     0.64264,     0.64364,     0.64464,     0.64565,     0.64665,     0.64765,\n",
              "           0.64865,     0.64965,     0.65065,     0.65165,     0.65265,     0.65365,     0.65465,     0.65566,     0.65666,     0.65766,     0.65866,     0.65966,     0.66066,     0.66166,     0.66266,     0.66366,     0.66466,     0.66567,     0.66667,     0.66767,     0.66867,     0.66967,     0.67067,     0.67167,\n",
              "           0.67267,     0.67367,     0.67467,     0.67568,     0.67668,     0.67768,     0.67868,     0.67968,     0.68068,     0.68168,     0.68268,     0.68368,     0.68468,     0.68569,     0.68669,     0.68769,     0.68869,     0.68969,     0.69069,     0.69169,     0.69269,     0.69369,     0.69469,      0.6957,\n",
              "            0.6967,      0.6977,      0.6987,      0.6997,      0.7007,      0.7017,      0.7027,      0.7037,      0.7047,     0.70571,     0.70671,     0.70771,     0.70871,     0.70971,     0.71071,     0.71171,     0.71271,     0.71371,     0.71471,     0.71572,     0.71672,     0.71772,     0.71872,     0.71972,\n",
              "           0.72072,     0.72172,     0.72272,     0.72372,     0.72472,     0.72573,     0.72673,     0.72773,     0.72873,     0.72973,     0.73073,     0.73173,     0.73273,     0.73373,     0.73473,     0.73574,     0.73674,     0.73774,     0.73874,     0.73974,     0.74074,     0.74174,     0.74274,     0.74374,\n",
              "           0.74474,     0.74575,     0.74675,     0.74775,     0.74875,     0.74975,     0.75075,     0.75175,     0.75275,     0.75375,     0.75475,     0.75576,     0.75676,     0.75776,     0.75876,     0.75976,     0.76076,     0.76176,     0.76276,     0.76376,     0.76476,     0.76577,     0.76677,     0.76777,\n",
              "           0.76877,     0.76977,     0.77077,     0.77177,     0.77277,     0.77377,     0.77477,     0.77578,     0.77678,     0.77778,     0.77878,     0.77978,     0.78078,     0.78178,     0.78278,     0.78378,     0.78478,     0.78579,     0.78679,     0.78779,     0.78879,     0.78979,     0.79079,     0.79179,\n",
              "           0.79279,     0.79379,     0.79479,      0.7958,      0.7968,      0.7978,      0.7988,      0.7998,      0.8008,      0.8018,      0.8028,      0.8038,      0.8048,     0.80581,     0.80681,     0.80781,     0.80881,     0.80981,     0.81081,     0.81181,     0.81281,     0.81381,     0.81481,     0.81582,\n",
              "           0.81682,     0.81782,     0.81882,     0.81982,     0.82082,     0.82182,     0.82282,     0.82382,     0.82482,     0.82583,     0.82683,     0.82783,     0.82883,     0.82983,     0.83083,     0.83183,     0.83283,     0.83383,     0.83483,     0.83584,     0.83684,     0.83784,     0.83884,     0.83984,\n",
              "           0.84084,     0.84184,     0.84284,     0.84384,     0.84484,     0.84585,     0.84685,     0.84785,     0.84885,     0.84985,     0.85085,     0.85185,     0.85285,     0.85385,     0.85485,     0.85586,     0.85686,     0.85786,     0.85886,     0.85986,     0.86086,     0.86186,     0.86286,     0.86386,\n",
              "           0.86486,     0.86587,     0.86687,     0.86787,     0.86887,     0.86987,     0.87087,     0.87187,     0.87287,     0.87387,     0.87487,     0.87588,     0.87688,     0.87788,     0.87888,     0.87988,     0.88088,     0.88188,     0.88288,     0.88388,     0.88488,     0.88589,     0.88689,     0.88789,\n",
              "           0.88889,     0.88989,     0.89089,     0.89189,     0.89289,     0.89389,     0.89489,      0.8959,      0.8969,      0.8979,      0.8989,      0.8999,      0.9009,      0.9019,      0.9029,      0.9039,      0.9049,     0.90591,     0.90691,     0.90791,     0.90891,     0.90991,     0.91091,     0.91191,\n",
              "           0.91291,     0.91391,     0.91491,     0.91592,     0.91692,     0.91792,     0.91892,     0.91992,     0.92092,     0.92192,     0.92292,     0.92392,     0.92492,     0.92593,     0.92693,     0.92793,     0.92893,     0.92993,     0.93093,     0.93193,     0.93293,     0.93393,     0.93493,     0.93594,\n",
              "           0.93694,     0.93794,     0.93894,     0.93994,     0.94094,     0.94194,     0.94294,     0.94394,     0.94494,     0.94595,     0.94695,     0.94795,     0.94895,     0.94995,     0.95095,     0.95195,     0.95295,     0.95395,     0.95495,     0.95596,     0.95696,     0.95796,     0.95896,     0.95996,\n",
              "           0.96096,     0.96196,     0.96296,     0.96396,     0.96496,     0.96597,     0.96697,     0.96797,     0.96897,     0.96997,     0.97097,     0.97197,     0.97297,     0.97397,     0.97497,     0.97598,     0.97698,     0.97798,     0.97898,     0.97998,     0.98098,     0.98198,     0.98298,     0.98398,\n",
              "           0.98498,     0.98599,     0.98699,     0.98799,     0.98899,     0.98999,     0.99099,     0.99199,     0.99299,     0.99399,     0.99499,       0.996,       0.997,       0.998,       0.999,           1]), array([[          0,           0,           0, ...,           0,           0,           0],\n",
              "       [        0.1,         0.1,         0.1, ...,   3.291e-05,  1.6455e-05,           0],\n",
              "       [          1,           1,           1, ...,   0.0031682,   0.0015841,           0],\n",
              "       ...,\n",
              "       [          1,           1,           1, ...,        0.25,        0.25,           0],\n",
              "       [        0.2,         0.2,         0.2, ...,  3.6536e-05,  1.8268e-05,           0],\n",
              "       [          0,           0,           0, ...,           0,           0,           0]]), 'Recall', 'Precision'], [array([          0,    0.001001,    0.002002,    0.003003,    0.004004,    0.005005,    0.006006,    0.007007,    0.008008,    0.009009,     0.01001,    0.011011,    0.012012,    0.013013,    0.014014,    0.015015,    0.016016,    0.017017,    0.018018,    0.019019,     0.02002,    0.021021,    0.022022,    0.023023,\n",
              "          0.024024,    0.025025,    0.026026,    0.027027,    0.028028,    0.029029,     0.03003,    0.031031,    0.032032,    0.033033,    0.034034,    0.035035,    0.036036,    0.037037,    0.038038,    0.039039,     0.04004,    0.041041,    0.042042,    0.043043,    0.044044,    0.045045,    0.046046,    0.047047,\n",
              "          0.048048,    0.049049,     0.05005,    0.051051,    0.052052,    0.053053,    0.054054,    0.055055,    0.056056,    0.057057,    0.058058,    0.059059,     0.06006,    0.061061,    0.062062,    0.063063,    0.064064,    0.065065,    0.066066,    0.067067,    0.068068,    0.069069,     0.07007,    0.071071,\n",
              "          0.072072,    0.073073,    0.074074,    0.075075,    0.076076,    0.077077,    0.078078,    0.079079,     0.08008,    0.081081,    0.082082,    0.083083,    0.084084,    0.085085,    0.086086,    0.087087,    0.088088,    0.089089,     0.09009,    0.091091,    0.092092,    0.093093,    0.094094,    0.095095,\n",
              "          0.096096,    0.097097,    0.098098,    0.099099,      0.1001,      0.1011,      0.1021,      0.1031,      0.1041,     0.10511,     0.10611,     0.10711,     0.10811,     0.10911,     0.11011,     0.11111,     0.11211,     0.11311,     0.11411,     0.11512,     0.11612,     0.11712,     0.11812,     0.11912,\n",
              "           0.12012,     0.12112,     0.12212,     0.12312,     0.12412,     0.12513,     0.12613,     0.12713,     0.12813,     0.12913,     0.13013,     0.13113,     0.13213,     0.13313,     0.13413,     0.13514,     0.13614,     0.13714,     0.13814,     0.13914,     0.14014,     0.14114,     0.14214,     0.14314,\n",
              "           0.14414,     0.14515,     0.14615,     0.14715,     0.14815,     0.14915,     0.15015,     0.15115,     0.15215,     0.15315,     0.15415,     0.15516,     0.15616,     0.15716,     0.15816,     0.15916,     0.16016,     0.16116,     0.16216,     0.16316,     0.16416,     0.16517,     0.16617,     0.16717,\n",
              "           0.16817,     0.16917,     0.17017,     0.17117,     0.17217,     0.17317,     0.17417,     0.17518,     0.17618,     0.17718,     0.17818,     0.17918,     0.18018,     0.18118,     0.18218,     0.18318,     0.18418,     0.18519,     0.18619,     0.18719,     0.18819,     0.18919,     0.19019,     0.19119,\n",
              "           0.19219,     0.19319,     0.19419,      0.1952,      0.1962,      0.1972,      0.1982,      0.1992,      0.2002,      0.2012,      0.2022,      0.2032,      0.2042,     0.20521,     0.20621,     0.20721,     0.20821,     0.20921,     0.21021,     0.21121,     0.21221,     0.21321,     0.21421,     0.21522,\n",
              "           0.21622,     0.21722,     0.21822,     0.21922,     0.22022,     0.22122,     0.22222,     0.22322,     0.22422,     0.22523,     0.22623,     0.22723,     0.22823,     0.22923,     0.23023,     0.23123,     0.23223,     0.23323,     0.23423,     0.23524,     0.23624,     0.23724,     0.23824,     0.23924,\n",
              "           0.24024,     0.24124,     0.24224,     0.24324,     0.24424,     0.24525,     0.24625,     0.24725,     0.24825,     0.24925,     0.25025,     0.25125,     0.25225,     0.25325,     0.25425,     0.25526,     0.25626,     0.25726,     0.25826,     0.25926,     0.26026,     0.26126,     0.26226,     0.26326,\n",
              "           0.26426,     0.26527,     0.26627,     0.26727,     0.26827,     0.26927,     0.27027,     0.27127,     0.27227,     0.27327,     0.27427,     0.27528,     0.27628,     0.27728,     0.27828,     0.27928,     0.28028,     0.28128,     0.28228,     0.28328,     0.28428,     0.28529,     0.28629,     0.28729,\n",
              "           0.28829,     0.28929,     0.29029,     0.29129,     0.29229,     0.29329,     0.29429,      0.2953,      0.2963,      0.2973,      0.2983,      0.2993,      0.3003,      0.3013,      0.3023,      0.3033,      0.3043,     0.30531,     0.30631,     0.30731,     0.30831,     0.30931,     0.31031,     0.31131,\n",
              "           0.31231,     0.31331,     0.31431,     0.31532,     0.31632,     0.31732,     0.31832,     0.31932,     0.32032,     0.32132,     0.32232,     0.32332,     0.32432,     0.32533,     0.32633,     0.32733,     0.32833,     0.32933,     0.33033,     0.33133,     0.33233,     0.33333,     0.33433,     0.33534,\n",
              "           0.33634,     0.33734,     0.33834,     0.33934,     0.34034,     0.34134,     0.34234,     0.34334,     0.34434,     0.34535,     0.34635,     0.34735,     0.34835,     0.34935,     0.35035,     0.35135,     0.35235,     0.35335,     0.35435,     0.35536,     0.35636,     0.35736,     0.35836,     0.35936,\n",
              "           0.36036,     0.36136,     0.36236,     0.36336,     0.36436,     0.36537,     0.36637,     0.36737,     0.36837,     0.36937,     0.37037,     0.37137,     0.37237,     0.37337,     0.37437,     0.37538,     0.37638,     0.37738,     0.37838,     0.37938,     0.38038,     0.38138,     0.38238,     0.38338,\n",
              "           0.38438,     0.38539,     0.38639,     0.38739,     0.38839,     0.38939,     0.39039,     0.39139,     0.39239,     0.39339,     0.39439,      0.3954,      0.3964,      0.3974,      0.3984,      0.3994,      0.4004,      0.4014,      0.4024,      0.4034,      0.4044,     0.40541,     0.40641,     0.40741,\n",
              "           0.40841,     0.40941,     0.41041,     0.41141,     0.41241,     0.41341,     0.41441,     0.41542,     0.41642,     0.41742,     0.41842,     0.41942,     0.42042,     0.42142,     0.42242,     0.42342,     0.42442,     0.42543,     0.42643,     0.42743,     0.42843,     0.42943,     0.43043,     0.43143,\n",
              "           0.43243,     0.43343,     0.43443,     0.43544,     0.43644,     0.43744,     0.43844,     0.43944,     0.44044,     0.44144,     0.44244,     0.44344,     0.44444,     0.44545,     0.44645,     0.44745,     0.44845,     0.44945,     0.45045,     0.45145,     0.45245,     0.45345,     0.45445,     0.45546,\n",
              "           0.45646,     0.45746,     0.45846,     0.45946,     0.46046,     0.46146,     0.46246,     0.46346,     0.46446,     0.46547,     0.46647,     0.46747,     0.46847,     0.46947,     0.47047,     0.47147,     0.47247,     0.47347,     0.47447,     0.47548,     0.47648,     0.47748,     0.47848,     0.47948,\n",
              "           0.48048,     0.48148,     0.48248,     0.48348,     0.48448,     0.48549,     0.48649,     0.48749,     0.48849,     0.48949,     0.49049,     0.49149,     0.49249,     0.49349,     0.49449,      0.4955,      0.4965,      0.4975,      0.4985,      0.4995,      0.5005,      0.5015,      0.5025,      0.5035,\n",
              "            0.5045,     0.50551,     0.50651,     0.50751,     0.50851,     0.50951,     0.51051,     0.51151,     0.51251,     0.51351,     0.51451,     0.51552,     0.51652,     0.51752,     0.51852,     0.51952,     0.52052,     0.52152,     0.52252,     0.52352,     0.52452,     0.52553,     0.52653,     0.52753,\n",
              "           0.52853,     0.52953,     0.53053,     0.53153,     0.53253,     0.53353,     0.53453,     0.53554,     0.53654,     0.53754,     0.53854,     0.53954,     0.54054,     0.54154,     0.54254,     0.54354,     0.54454,     0.54555,     0.54655,     0.54755,     0.54855,     0.54955,     0.55055,     0.55155,\n",
              "           0.55255,     0.55355,     0.55455,     0.55556,     0.55656,     0.55756,     0.55856,     0.55956,     0.56056,     0.56156,     0.56256,     0.56356,     0.56456,     0.56557,     0.56657,     0.56757,     0.56857,     0.56957,     0.57057,     0.57157,     0.57257,     0.57357,     0.57457,     0.57558,\n",
              "           0.57658,     0.57758,     0.57858,     0.57958,     0.58058,     0.58158,     0.58258,     0.58358,     0.58458,     0.58559,     0.58659,     0.58759,     0.58859,     0.58959,     0.59059,     0.59159,     0.59259,     0.59359,     0.59459,      0.5956,      0.5966,      0.5976,      0.5986,      0.5996,\n",
              "            0.6006,      0.6016,      0.6026,      0.6036,      0.6046,     0.60561,     0.60661,     0.60761,     0.60861,     0.60961,     0.61061,     0.61161,     0.61261,     0.61361,     0.61461,     0.61562,     0.61662,     0.61762,     0.61862,     0.61962,     0.62062,     0.62162,     0.62262,     0.62362,\n",
              "           0.62462,     0.62563,     0.62663,     0.62763,     0.62863,     0.62963,     0.63063,     0.63163,     0.63263,     0.63363,     0.63463,     0.63564,     0.63664,     0.63764,     0.63864,     0.63964,     0.64064,     0.64164,     0.64264,     0.64364,     0.64464,     0.64565,     0.64665,     0.64765,\n",
              "           0.64865,     0.64965,     0.65065,     0.65165,     0.65265,     0.65365,     0.65465,     0.65566,     0.65666,     0.65766,     0.65866,     0.65966,     0.66066,     0.66166,     0.66266,     0.66366,     0.66466,     0.66567,     0.66667,     0.66767,     0.66867,     0.66967,     0.67067,     0.67167,\n",
              "           0.67267,     0.67367,     0.67467,     0.67568,     0.67668,     0.67768,     0.67868,     0.67968,     0.68068,     0.68168,     0.68268,     0.68368,     0.68468,     0.68569,     0.68669,     0.68769,     0.68869,     0.68969,     0.69069,     0.69169,     0.69269,     0.69369,     0.69469,      0.6957,\n",
              "            0.6967,      0.6977,      0.6987,      0.6997,      0.7007,      0.7017,      0.7027,      0.7037,      0.7047,     0.70571,     0.70671,     0.70771,     0.70871,     0.70971,     0.71071,     0.71171,     0.71271,     0.71371,     0.71471,     0.71572,     0.71672,     0.71772,     0.71872,     0.71972,\n",
              "           0.72072,     0.72172,     0.72272,     0.72372,     0.72472,     0.72573,     0.72673,     0.72773,     0.72873,     0.72973,     0.73073,     0.73173,     0.73273,     0.73373,     0.73473,     0.73574,     0.73674,     0.73774,     0.73874,     0.73974,     0.74074,     0.74174,     0.74274,     0.74374,\n",
              "           0.74474,     0.74575,     0.74675,     0.74775,     0.74875,     0.74975,     0.75075,     0.75175,     0.75275,     0.75375,     0.75475,     0.75576,     0.75676,     0.75776,     0.75876,     0.75976,     0.76076,     0.76176,     0.76276,     0.76376,     0.76476,     0.76577,     0.76677,     0.76777,\n",
              "           0.76877,     0.76977,     0.77077,     0.77177,     0.77277,     0.77377,     0.77477,     0.77578,     0.77678,     0.77778,     0.77878,     0.77978,     0.78078,     0.78178,     0.78278,     0.78378,     0.78478,     0.78579,     0.78679,     0.78779,     0.78879,     0.78979,     0.79079,     0.79179,\n",
              "           0.79279,     0.79379,     0.79479,      0.7958,      0.7968,      0.7978,      0.7988,      0.7998,      0.8008,      0.8018,      0.8028,      0.8038,      0.8048,     0.80581,     0.80681,     0.80781,     0.80881,     0.80981,     0.81081,     0.81181,     0.81281,     0.81381,     0.81481,     0.81582,\n",
              "           0.81682,     0.81782,     0.81882,     0.81982,     0.82082,     0.82182,     0.82282,     0.82382,     0.82482,     0.82583,     0.82683,     0.82783,     0.82883,     0.82983,     0.83083,     0.83183,     0.83283,     0.83383,     0.83483,     0.83584,     0.83684,     0.83784,     0.83884,     0.83984,\n",
              "           0.84084,     0.84184,     0.84284,     0.84384,     0.84484,     0.84585,     0.84685,     0.84785,     0.84885,     0.84985,     0.85085,     0.85185,     0.85285,     0.85385,     0.85485,     0.85586,     0.85686,     0.85786,     0.85886,     0.85986,     0.86086,     0.86186,     0.86286,     0.86386,\n",
              "           0.86486,     0.86587,     0.86687,     0.86787,     0.86887,     0.86987,     0.87087,     0.87187,     0.87287,     0.87387,     0.87487,     0.87588,     0.87688,     0.87788,     0.87888,     0.87988,     0.88088,     0.88188,     0.88288,     0.88388,     0.88488,     0.88589,     0.88689,     0.88789,\n",
              "           0.88889,     0.88989,     0.89089,     0.89189,     0.89289,     0.89389,     0.89489,      0.8959,      0.8969,      0.8979,      0.8989,      0.8999,      0.9009,      0.9019,      0.9029,      0.9039,      0.9049,     0.90591,     0.90691,     0.90791,     0.90891,     0.90991,     0.91091,     0.91191,\n",
              "           0.91291,     0.91391,     0.91491,     0.91592,     0.91692,     0.91792,     0.91892,     0.91992,     0.92092,     0.92192,     0.92292,     0.92392,     0.92492,     0.92593,     0.92693,     0.92793,     0.92893,     0.92993,     0.93093,     0.93193,     0.93293,     0.93393,     0.93493,     0.93594,\n",
              "           0.93694,     0.93794,     0.93894,     0.93994,     0.94094,     0.94194,     0.94294,     0.94394,     0.94494,     0.94595,     0.94695,     0.94795,     0.94895,     0.94995,     0.95095,     0.95195,     0.95295,     0.95395,     0.95495,     0.95596,     0.95696,     0.95796,     0.95896,     0.95996,\n",
              "           0.96096,     0.96196,     0.96296,     0.96396,     0.96496,     0.96597,     0.96697,     0.96797,     0.96897,     0.96997,     0.97097,     0.97197,     0.97297,     0.97397,     0.97497,     0.97598,     0.97698,     0.97798,     0.97898,     0.97998,     0.98098,     0.98198,     0.98298,     0.98398,\n",
              "           0.98498,     0.98599,     0.98699,     0.98799,     0.98899,     0.98999,     0.99099,     0.99199,     0.99299,     0.99399,     0.99499,       0.996,       0.997,       0.998,       0.999,           1]), array([[          0,           0,           0, ...,           0,           0,           0],\n",
              "       [       0.02,        0.02,    0.021927, ...,           0,           0,           0],\n",
              "       [    0.21104,     0.21104,     0.22442, ...,           0,           0,           0],\n",
              "       ...,\n",
              "       [          0,           0,           0, ...,           0,           0,           0],\n",
              "       [          0,           0,           0, ...,           0,           0,           0],\n",
              "       [          0,           0,           0, ...,           0,           0,           0]]), 'Confidence', 'F1'], [array([          0,    0.001001,    0.002002,    0.003003,    0.004004,    0.005005,    0.006006,    0.007007,    0.008008,    0.009009,     0.01001,    0.011011,    0.012012,    0.013013,    0.014014,    0.015015,    0.016016,    0.017017,    0.018018,    0.019019,     0.02002,    0.021021,    0.022022,    0.023023,\n",
              "          0.024024,    0.025025,    0.026026,    0.027027,    0.028028,    0.029029,     0.03003,    0.031031,    0.032032,    0.033033,    0.034034,    0.035035,    0.036036,    0.037037,    0.038038,    0.039039,     0.04004,    0.041041,    0.042042,    0.043043,    0.044044,    0.045045,    0.046046,    0.047047,\n",
              "          0.048048,    0.049049,     0.05005,    0.051051,    0.052052,    0.053053,    0.054054,    0.055055,    0.056056,    0.057057,    0.058058,    0.059059,     0.06006,    0.061061,    0.062062,    0.063063,    0.064064,    0.065065,    0.066066,    0.067067,    0.068068,    0.069069,     0.07007,    0.071071,\n",
              "          0.072072,    0.073073,    0.074074,    0.075075,    0.076076,    0.077077,    0.078078,    0.079079,     0.08008,    0.081081,    0.082082,    0.083083,    0.084084,    0.085085,    0.086086,    0.087087,    0.088088,    0.089089,     0.09009,    0.091091,    0.092092,    0.093093,    0.094094,    0.095095,\n",
              "          0.096096,    0.097097,    0.098098,    0.099099,      0.1001,      0.1011,      0.1021,      0.1031,      0.1041,     0.10511,     0.10611,     0.10711,     0.10811,     0.10911,     0.11011,     0.11111,     0.11211,     0.11311,     0.11411,     0.11512,     0.11612,     0.11712,     0.11812,     0.11912,\n",
              "           0.12012,     0.12112,     0.12212,     0.12312,     0.12412,     0.12513,     0.12613,     0.12713,     0.12813,     0.12913,     0.13013,     0.13113,     0.13213,     0.13313,     0.13413,     0.13514,     0.13614,     0.13714,     0.13814,     0.13914,     0.14014,     0.14114,     0.14214,     0.14314,\n",
              "           0.14414,     0.14515,     0.14615,     0.14715,     0.14815,     0.14915,     0.15015,     0.15115,     0.15215,     0.15315,     0.15415,     0.15516,     0.15616,     0.15716,     0.15816,     0.15916,     0.16016,     0.16116,     0.16216,     0.16316,     0.16416,     0.16517,     0.16617,     0.16717,\n",
              "           0.16817,     0.16917,     0.17017,     0.17117,     0.17217,     0.17317,     0.17417,     0.17518,     0.17618,     0.17718,     0.17818,     0.17918,     0.18018,     0.18118,     0.18218,     0.18318,     0.18418,     0.18519,     0.18619,     0.18719,     0.18819,     0.18919,     0.19019,     0.19119,\n",
              "           0.19219,     0.19319,     0.19419,      0.1952,      0.1962,      0.1972,      0.1982,      0.1992,      0.2002,      0.2012,      0.2022,      0.2032,      0.2042,     0.20521,     0.20621,     0.20721,     0.20821,     0.20921,     0.21021,     0.21121,     0.21221,     0.21321,     0.21421,     0.21522,\n",
              "           0.21622,     0.21722,     0.21822,     0.21922,     0.22022,     0.22122,     0.22222,     0.22322,     0.22422,     0.22523,     0.22623,     0.22723,     0.22823,     0.22923,     0.23023,     0.23123,     0.23223,     0.23323,     0.23423,     0.23524,     0.23624,     0.23724,     0.23824,     0.23924,\n",
              "           0.24024,     0.24124,     0.24224,     0.24324,     0.24424,     0.24525,     0.24625,     0.24725,     0.24825,     0.24925,     0.25025,     0.25125,     0.25225,     0.25325,     0.25425,     0.25526,     0.25626,     0.25726,     0.25826,     0.25926,     0.26026,     0.26126,     0.26226,     0.26326,\n",
              "           0.26426,     0.26527,     0.26627,     0.26727,     0.26827,     0.26927,     0.27027,     0.27127,     0.27227,     0.27327,     0.27427,     0.27528,     0.27628,     0.27728,     0.27828,     0.27928,     0.28028,     0.28128,     0.28228,     0.28328,     0.28428,     0.28529,     0.28629,     0.28729,\n",
              "           0.28829,     0.28929,     0.29029,     0.29129,     0.29229,     0.29329,     0.29429,      0.2953,      0.2963,      0.2973,      0.2983,      0.2993,      0.3003,      0.3013,      0.3023,      0.3033,      0.3043,     0.30531,     0.30631,     0.30731,     0.30831,     0.30931,     0.31031,     0.31131,\n",
              "           0.31231,     0.31331,     0.31431,     0.31532,     0.31632,     0.31732,     0.31832,     0.31932,     0.32032,     0.32132,     0.32232,     0.32332,     0.32432,     0.32533,     0.32633,     0.32733,     0.32833,     0.32933,     0.33033,     0.33133,     0.33233,     0.33333,     0.33433,     0.33534,\n",
              "           0.33634,     0.33734,     0.33834,     0.33934,     0.34034,     0.34134,     0.34234,     0.34334,     0.34434,     0.34535,     0.34635,     0.34735,     0.34835,     0.34935,     0.35035,     0.35135,     0.35235,     0.35335,     0.35435,     0.35536,     0.35636,     0.35736,     0.35836,     0.35936,\n",
              "           0.36036,     0.36136,     0.36236,     0.36336,     0.36436,     0.36537,     0.36637,     0.36737,     0.36837,     0.36937,     0.37037,     0.37137,     0.37237,     0.37337,     0.37437,     0.37538,     0.37638,     0.37738,     0.37838,     0.37938,     0.38038,     0.38138,     0.38238,     0.38338,\n",
              "           0.38438,     0.38539,     0.38639,     0.38739,     0.38839,     0.38939,     0.39039,     0.39139,     0.39239,     0.39339,     0.39439,      0.3954,      0.3964,      0.3974,      0.3984,      0.3994,      0.4004,      0.4014,      0.4024,      0.4034,      0.4044,     0.40541,     0.40641,     0.40741,\n",
              "           0.40841,     0.40941,     0.41041,     0.41141,     0.41241,     0.41341,     0.41441,     0.41542,     0.41642,     0.41742,     0.41842,     0.41942,     0.42042,     0.42142,     0.42242,     0.42342,     0.42442,     0.42543,     0.42643,     0.42743,     0.42843,     0.42943,     0.43043,     0.43143,\n",
              "           0.43243,     0.43343,     0.43443,     0.43544,     0.43644,     0.43744,     0.43844,     0.43944,     0.44044,     0.44144,     0.44244,     0.44344,     0.44444,     0.44545,     0.44645,     0.44745,     0.44845,     0.44945,     0.45045,     0.45145,     0.45245,     0.45345,     0.45445,     0.45546,\n",
              "           0.45646,     0.45746,     0.45846,     0.45946,     0.46046,     0.46146,     0.46246,     0.46346,     0.46446,     0.46547,     0.46647,     0.46747,     0.46847,     0.46947,     0.47047,     0.47147,     0.47247,     0.47347,     0.47447,     0.47548,     0.47648,     0.47748,     0.47848,     0.47948,\n",
              "           0.48048,     0.48148,     0.48248,     0.48348,     0.48448,     0.48549,     0.48649,     0.48749,     0.48849,     0.48949,     0.49049,     0.49149,     0.49249,     0.49349,     0.49449,      0.4955,      0.4965,      0.4975,      0.4985,      0.4995,      0.5005,      0.5015,      0.5025,      0.5035,\n",
              "            0.5045,     0.50551,     0.50651,     0.50751,     0.50851,     0.50951,     0.51051,     0.51151,     0.51251,     0.51351,     0.51451,     0.51552,     0.51652,     0.51752,     0.51852,     0.51952,     0.52052,     0.52152,     0.52252,     0.52352,     0.52452,     0.52553,     0.52653,     0.52753,\n",
              "           0.52853,     0.52953,     0.53053,     0.53153,     0.53253,     0.53353,     0.53453,     0.53554,     0.53654,     0.53754,     0.53854,     0.53954,     0.54054,     0.54154,     0.54254,     0.54354,     0.54454,     0.54555,     0.54655,     0.54755,     0.54855,     0.54955,     0.55055,     0.55155,\n",
              "           0.55255,     0.55355,     0.55455,     0.55556,     0.55656,     0.55756,     0.55856,     0.55956,     0.56056,     0.56156,     0.56256,     0.56356,     0.56456,     0.56557,     0.56657,     0.56757,     0.56857,     0.56957,     0.57057,     0.57157,     0.57257,     0.57357,     0.57457,     0.57558,\n",
              "           0.57658,     0.57758,     0.57858,     0.57958,     0.58058,     0.58158,     0.58258,     0.58358,     0.58458,     0.58559,     0.58659,     0.58759,     0.58859,     0.58959,     0.59059,     0.59159,     0.59259,     0.59359,     0.59459,      0.5956,      0.5966,      0.5976,      0.5986,      0.5996,\n",
              "            0.6006,      0.6016,      0.6026,      0.6036,      0.6046,     0.60561,     0.60661,     0.60761,     0.60861,     0.60961,     0.61061,     0.61161,     0.61261,     0.61361,     0.61461,     0.61562,     0.61662,     0.61762,     0.61862,     0.61962,     0.62062,     0.62162,     0.62262,     0.62362,\n",
              "           0.62462,     0.62563,     0.62663,     0.62763,     0.62863,     0.62963,     0.63063,     0.63163,     0.63263,     0.63363,     0.63463,     0.63564,     0.63664,     0.63764,     0.63864,     0.63964,     0.64064,     0.64164,     0.64264,     0.64364,     0.64464,     0.64565,     0.64665,     0.64765,\n",
              "           0.64865,     0.64965,     0.65065,     0.65165,     0.65265,     0.65365,     0.65465,     0.65566,     0.65666,     0.65766,     0.65866,     0.65966,     0.66066,     0.66166,     0.66266,     0.66366,     0.66466,     0.66567,     0.66667,     0.66767,     0.66867,     0.66967,     0.67067,     0.67167,\n",
              "           0.67267,     0.67367,     0.67467,     0.67568,     0.67668,     0.67768,     0.67868,     0.67968,     0.68068,     0.68168,     0.68268,     0.68368,     0.68468,     0.68569,     0.68669,     0.68769,     0.68869,     0.68969,     0.69069,     0.69169,     0.69269,     0.69369,     0.69469,      0.6957,\n",
              "            0.6967,      0.6977,      0.6987,      0.6997,      0.7007,      0.7017,      0.7027,      0.7037,      0.7047,     0.70571,     0.70671,     0.70771,     0.70871,     0.70971,     0.71071,     0.71171,     0.71271,     0.71371,     0.71471,     0.71572,     0.71672,     0.71772,     0.71872,     0.71972,\n",
              "           0.72072,     0.72172,     0.72272,     0.72372,     0.72472,     0.72573,     0.72673,     0.72773,     0.72873,     0.72973,     0.73073,     0.73173,     0.73273,     0.73373,     0.73473,     0.73574,     0.73674,     0.73774,     0.73874,     0.73974,     0.74074,     0.74174,     0.74274,     0.74374,\n",
              "           0.74474,     0.74575,     0.74675,     0.74775,     0.74875,     0.74975,     0.75075,     0.75175,     0.75275,     0.75375,     0.75475,     0.75576,     0.75676,     0.75776,     0.75876,     0.75976,     0.76076,     0.76176,     0.76276,     0.76376,     0.76476,     0.76577,     0.76677,     0.76777,\n",
              "           0.76877,     0.76977,     0.77077,     0.77177,     0.77277,     0.77377,     0.77477,     0.77578,     0.77678,     0.77778,     0.77878,     0.77978,     0.78078,     0.78178,     0.78278,     0.78378,     0.78478,     0.78579,     0.78679,     0.78779,     0.78879,     0.78979,     0.79079,     0.79179,\n",
              "           0.79279,     0.79379,     0.79479,      0.7958,      0.7968,      0.7978,      0.7988,      0.7998,      0.8008,      0.8018,      0.8028,      0.8038,      0.8048,     0.80581,     0.80681,     0.80781,     0.80881,     0.80981,     0.81081,     0.81181,     0.81281,     0.81381,     0.81481,     0.81582,\n",
              "           0.81682,     0.81782,     0.81882,     0.81982,     0.82082,     0.82182,     0.82282,     0.82382,     0.82482,     0.82583,     0.82683,     0.82783,     0.82883,     0.82983,     0.83083,     0.83183,     0.83283,     0.83383,     0.83483,     0.83584,     0.83684,     0.83784,     0.83884,     0.83984,\n",
              "           0.84084,     0.84184,     0.84284,     0.84384,     0.84484,     0.84585,     0.84685,     0.84785,     0.84885,     0.84985,     0.85085,     0.85185,     0.85285,     0.85385,     0.85485,     0.85586,     0.85686,     0.85786,     0.85886,     0.85986,     0.86086,     0.86186,     0.86286,     0.86386,\n",
              "           0.86486,     0.86587,     0.86687,     0.86787,     0.86887,     0.86987,     0.87087,     0.87187,     0.87287,     0.87387,     0.87487,     0.87588,     0.87688,     0.87788,     0.87888,     0.87988,     0.88088,     0.88188,     0.88288,     0.88388,     0.88488,     0.88589,     0.88689,     0.88789,\n",
              "           0.88889,     0.88989,     0.89089,     0.89189,     0.89289,     0.89389,     0.89489,      0.8959,      0.8969,      0.8979,      0.8989,      0.8999,      0.9009,      0.9019,      0.9029,      0.9039,      0.9049,     0.90591,     0.90691,     0.90791,     0.90891,     0.90991,     0.91091,     0.91191,\n",
              "           0.91291,     0.91391,     0.91491,     0.91592,     0.91692,     0.91792,     0.91892,     0.91992,     0.92092,     0.92192,     0.92292,     0.92392,     0.92492,     0.92593,     0.92693,     0.92793,     0.92893,     0.92993,     0.93093,     0.93193,     0.93293,     0.93393,     0.93493,     0.93594,\n",
              "           0.93694,     0.93794,     0.93894,     0.93994,     0.94094,     0.94194,     0.94294,     0.94394,     0.94494,     0.94595,     0.94695,     0.94795,     0.94895,     0.94995,     0.95095,     0.95195,     0.95295,     0.95395,     0.95495,     0.95596,     0.95696,     0.95796,     0.95896,     0.95996,\n",
              "           0.96096,     0.96196,     0.96296,     0.96396,     0.96496,     0.96597,     0.96697,     0.96797,     0.96897,     0.96997,     0.97097,     0.97197,     0.97297,     0.97397,     0.97497,     0.97598,     0.97698,     0.97798,     0.97898,     0.97998,     0.98098,     0.98198,     0.98298,     0.98398,\n",
              "           0.98498,     0.98599,     0.98699,     0.98799,     0.98899,     0.98999,     0.99099,     0.99199,     0.99299,     0.99399,     0.99499,       0.996,       0.997,       0.998,       0.999,           1]), array([[          0,           0,           0, ...,           1,           1,           1],\n",
              "       [   0.010274,    0.010274,    0.011294, ...,           1,           1,           1],\n",
              "       [    0.11911,     0.11911,     0.12771, ...,           1,           1,           1],\n",
              "       ...,\n",
              "       [          0,           0,           0, ...,           0,           0,           0],\n",
              "       [          0,           0,           0, ...,           0,           0,           0],\n",
              "       [          0,           0,           0, ...,           1,           1,           1]]), 'Confidence', 'Precision'], [array([          0,    0.001001,    0.002002,    0.003003,    0.004004,    0.005005,    0.006006,    0.007007,    0.008008,    0.009009,     0.01001,    0.011011,    0.012012,    0.013013,    0.014014,    0.015015,    0.016016,    0.017017,    0.018018,    0.019019,     0.02002,    0.021021,    0.022022,    0.023023,\n",
              "          0.024024,    0.025025,    0.026026,    0.027027,    0.028028,    0.029029,     0.03003,    0.031031,    0.032032,    0.033033,    0.034034,    0.035035,    0.036036,    0.037037,    0.038038,    0.039039,     0.04004,    0.041041,    0.042042,    0.043043,    0.044044,    0.045045,    0.046046,    0.047047,\n",
              "          0.048048,    0.049049,     0.05005,    0.051051,    0.052052,    0.053053,    0.054054,    0.055055,    0.056056,    0.057057,    0.058058,    0.059059,     0.06006,    0.061061,    0.062062,    0.063063,    0.064064,    0.065065,    0.066066,    0.067067,    0.068068,    0.069069,     0.07007,    0.071071,\n",
              "          0.072072,    0.073073,    0.074074,    0.075075,    0.076076,    0.077077,    0.078078,    0.079079,     0.08008,    0.081081,    0.082082,    0.083083,    0.084084,    0.085085,    0.086086,    0.087087,    0.088088,    0.089089,     0.09009,    0.091091,    0.092092,    0.093093,    0.094094,    0.095095,\n",
              "          0.096096,    0.097097,    0.098098,    0.099099,      0.1001,      0.1011,      0.1021,      0.1031,      0.1041,     0.10511,     0.10611,     0.10711,     0.10811,     0.10911,     0.11011,     0.11111,     0.11211,     0.11311,     0.11411,     0.11512,     0.11612,     0.11712,     0.11812,     0.11912,\n",
              "           0.12012,     0.12112,     0.12212,     0.12312,     0.12412,     0.12513,     0.12613,     0.12713,     0.12813,     0.12913,     0.13013,     0.13113,     0.13213,     0.13313,     0.13413,     0.13514,     0.13614,     0.13714,     0.13814,     0.13914,     0.14014,     0.14114,     0.14214,     0.14314,\n",
              "           0.14414,     0.14515,     0.14615,     0.14715,     0.14815,     0.14915,     0.15015,     0.15115,     0.15215,     0.15315,     0.15415,     0.15516,     0.15616,     0.15716,     0.15816,     0.15916,     0.16016,     0.16116,     0.16216,     0.16316,     0.16416,     0.16517,     0.16617,     0.16717,\n",
              "           0.16817,     0.16917,     0.17017,     0.17117,     0.17217,     0.17317,     0.17417,     0.17518,     0.17618,     0.17718,     0.17818,     0.17918,     0.18018,     0.18118,     0.18218,     0.18318,     0.18418,     0.18519,     0.18619,     0.18719,     0.18819,     0.18919,     0.19019,     0.19119,\n",
              "           0.19219,     0.19319,     0.19419,      0.1952,      0.1962,      0.1972,      0.1982,      0.1992,      0.2002,      0.2012,      0.2022,      0.2032,      0.2042,     0.20521,     0.20621,     0.20721,     0.20821,     0.20921,     0.21021,     0.21121,     0.21221,     0.21321,     0.21421,     0.21522,\n",
              "           0.21622,     0.21722,     0.21822,     0.21922,     0.22022,     0.22122,     0.22222,     0.22322,     0.22422,     0.22523,     0.22623,     0.22723,     0.22823,     0.22923,     0.23023,     0.23123,     0.23223,     0.23323,     0.23423,     0.23524,     0.23624,     0.23724,     0.23824,     0.23924,\n",
              "           0.24024,     0.24124,     0.24224,     0.24324,     0.24424,     0.24525,     0.24625,     0.24725,     0.24825,     0.24925,     0.25025,     0.25125,     0.25225,     0.25325,     0.25425,     0.25526,     0.25626,     0.25726,     0.25826,     0.25926,     0.26026,     0.26126,     0.26226,     0.26326,\n",
              "           0.26426,     0.26527,     0.26627,     0.26727,     0.26827,     0.26927,     0.27027,     0.27127,     0.27227,     0.27327,     0.27427,     0.27528,     0.27628,     0.27728,     0.27828,     0.27928,     0.28028,     0.28128,     0.28228,     0.28328,     0.28428,     0.28529,     0.28629,     0.28729,\n",
              "           0.28829,     0.28929,     0.29029,     0.29129,     0.29229,     0.29329,     0.29429,      0.2953,      0.2963,      0.2973,      0.2983,      0.2993,      0.3003,      0.3013,      0.3023,      0.3033,      0.3043,     0.30531,     0.30631,     0.30731,     0.30831,     0.30931,     0.31031,     0.31131,\n",
              "           0.31231,     0.31331,     0.31431,     0.31532,     0.31632,     0.31732,     0.31832,     0.31932,     0.32032,     0.32132,     0.32232,     0.32332,     0.32432,     0.32533,     0.32633,     0.32733,     0.32833,     0.32933,     0.33033,     0.33133,     0.33233,     0.33333,     0.33433,     0.33534,\n",
              "           0.33634,     0.33734,     0.33834,     0.33934,     0.34034,     0.34134,     0.34234,     0.34334,     0.34434,     0.34535,     0.34635,     0.34735,     0.34835,     0.34935,     0.35035,     0.35135,     0.35235,     0.35335,     0.35435,     0.35536,     0.35636,     0.35736,     0.35836,     0.35936,\n",
              "           0.36036,     0.36136,     0.36236,     0.36336,     0.36436,     0.36537,     0.36637,     0.36737,     0.36837,     0.36937,     0.37037,     0.37137,     0.37237,     0.37337,     0.37437,     0.37538,     0.37638,     0.37738,     0.37838,     0.37938,     0.38038,     0.38138,     0.38238,     0.38338,\n",
              "           0.38438,     0.38539,     0.38639,     0.38739,     0.38839,     0.38939,     0.39039,     0.39139,     0.39239,     0.39339,     0.39439,      0.3954,      0.3964,      0.3974,      0.3984,      0.3994,      0.4004,      0.4014,      0.4024,      0.4034,      0.4044,     0.40541,     0.40641,     0.40741,\n",
              "           0.40841,     0.40941,     0.41041,     0.41141,     0.41241,     0.41341,     0.41441,     0.41542,     0.41642,     0.41742,     0.41842,     0.41942,     0.42042,     0.42142,     0.42242,     0.42342,     0.42442,     0.42543,     0.42643,     0.42743,     0.42843,     0.42943,     0.43043,     0.43143,\n",
              "           0.43243,     0.43343,     0.43443,     0.43544,     0.43644,     0.43744,     0.43844,     0.43944,     0.44044,     0.44144,     0.44244,     0.44344,     0.44444,     0.44545,     0.44645,     0.44745,     0.44845,     0.44945,     0.45045,     0.45145,     0.45245,     0.45345,     0.45445,     0.45546,\n",
              "           0.45646,     0.45746,     0.45846,     0.45946,     0.46046,     0.46146,     0.46246,     0.46346,     0.46446,     0.46547,     0.46647,     0.46747,     0.46847,     0.46947,     0.47047,     0.47147,     0.47247,     0.47347,     0.47447,     0.47548,     0.47648,     0.47748,     0.47848,     0.47948,\n",
              "           0.48048,     0.48148,     0.48248,     0.48348,     0.48448,     0.48549,     0.48649,     0.48749,     0.48849,     0.48949,     0.49049,     0.49149,     0.49249,     0.49349,     0.49449,      0.4955,      0.4965,      0.4975,      0.4985,      0.4995,      0.5005,      0.5015,      0.5025,      0.5035,\n",
              "            0.5045,     0.50551,     0.50651,     0.50751,     0.50851,     0.50951,     0.51051,     0.51151,     0.51251,     0.51351,     0.51451,     0.51552,     0.51652,     0.51752,     0.51852,     0.51952,     0.52052,     0.52152,     0.52252,     0.52352,     0.52452,     0.52553,     0.52653,     0.52753,\n",
              "           0.52853,     0.52953,     0.53053,     0.53153,     0.53253,     0.53353,     0.53453,     0.53554,     0.53654,     0.53754,     0.53854,     0.53954,     0.54054,     0.54154,     0.54254,     0.54354,     0.54454,     0.54555,     0.54655,     0.54755,     0.54855,     0.54955,     0.55055,     0.55155,\n",
              "           0.55255,     0.55355,     0.55455,     0.55556,     0.55656,     0.55756,     0.55856,     0.55956,     0.56056,     0.56156,     0.56256,     0.56356,     0.56456,     0.56557,     0.56657,     0.56757,     0.56857,     0.56957,     0.57057,     0.57157,     0.57257,     0.57357,     0.57457,     0.57558,\n",
              "           0.57658,     0.57758,     0.57858,     0.57958,     0.58058,     0.58158,     0.58258,     0.58358,     0.58458,     0.58559,     0.58659,     0.58759,     0.58859,     0.58959,     0.59059,     0.59159,     0.59259,     0.59359,     0.59459,      0.5956,      0.5966,      0.5976,      0.5986,      0.5996,\n",
              "            0.6006,      0.6016,      0.6026,      0.6036,      0.6046,     0.60561,     0.60661,     0.60761,     0.60861,     0.60961,     0.61061,     0.61161,     0.61261,     0.61361,     0.61461,     0.61562,     0.61662,     0.61762,     0.61862,     0.61962,     0.62062,     0.62162,     0.62262,     0.62362,\n",
              "           0.62462,     0.62563,     0.62663,     0.62763,     0.62863,     0.62963,     0.63063,     0.63163,     0.63263,     0.63363,     0.63463,     0.63564,     0.63664,     0.63764,     0.63864,     0.63964,     0.64064,     0.64164,     0.64264,     0.64364,     0.64464,     0.64565,     0.64665,     0.64765,\n",
              "           0.64865,     0.64965,     0.65065,     0.65165,     0.65265,     0.65365,     0.65465,     0.65566,     0.65666,     0.65766,     0.65866,     0.65966,     0.66066,     0.66166,     0.66266,     0.66366,     0.66466,     0.66567,     0.66667,     0.66767,     0.66867,     0.66967,     0.67067,     0.67167,\n",
              "           0.67267,     0.67367,     0.67467,     0.67568,     0.67668,     0.67768,     0.67868,     0.67968,     0.68068,     0.68168,     0.68268,     0.68368,     0.68468,     0.68569,     0.68669,     0.68769,     0.68869,     0.68969,     0.69069,     0.69169,     0.69269,     0.69369,     0.69469,      0.6957,\n",
              "            0.6967,      0.6977,      0.6987,      0.6997,      0.7007,      0.7017,      0.7027,      0.7037,      0.7047,     0.70571,     0.70671,     0.70771,     0.70871,     0.70971,     0.71071,     0.71171,     0.71271,     0.71371,     0.71471,     0.71572,     0.71672,     0.71772,     0.71872,     0.71972,\n",
              "           0.72072,     0.72172,     0.72272,     0.72372,     0.72472,     0.72573,     0.72673,     0.72773,     0.72873,     0.72973,     0.73073,     0.73173,     0.73273,     0.73373,     0.73473,     0.73574,     0.73674,     0.73774,     0.73874,     0.73974,     0.74074,     0.74174,     0.74274,     0.74374,\n",
              "           0.74474,     0.74575,     0.74675,     0.74775,     0.74875,     0.74975,     0.75075,     0.75175,     0.75275,     0.75375,     0.75475,     0.75576,     0.75676,     0.75776,     0.75876,     0.75976,     0.76076,     0.76176,     0.76276,     0.76376,     0.76476,     0.76577,     0.76677,     0.76777,\n",
              "           0.76877,     0.76977,     0.77077,     0.77177,     0.77277,     0.77377,     0.77477,     0.77578,     0.77678,     0.77778,     0.77878,     0.77978,     0.78078,     0.78178,     0.78278,     0.78378,     0.78478,     0.78579,     0.78679,     0.78779,     0.78879,     0.78979,     0.79079,     0.79179,\n",
              "           0.79279,     0.79379,     0.79479,      0.7958,      0.7968,      0.7978,      0.7988,      0.7998,      0.8008,      0.8018,      0.8028,      0.8038,      0.8048,     0.80581,     0.80681,     0.80781,     0.80881,     0.80981,     0.81081,     0.81181,     0.81281,     0.81381,     0.81481,     0.81582,\n",
              "           0.81682,     0.81782,     0.81882,     0.81982,     0.82082,     0.82182,     0.82282,     0.82382,     0.82482,     0.82583,     0.82683,     0.82783,     0.82883,     0.82983,     0.83083,     0.83183,     0.83283,     0.83383,     0.83483,     0.83584,     0.83684,     0.83784,     0.83884,     0.83984,\n",
              "           0.84084,     0.84184,     0.84284,     0.84384,     0.84484,     0.84585,     0.84685,     0.84785,     0.84885,     0.84985,     0.85085,     0.85185,     0.85285,     0.85385,     0.85485,     0.85586,     0.85686,     0.85786,     0.85886,     0.85986,     0.86086,     0.86186,     0.86286,     0.86386,\n",
              "           0.86486,     0.86587,     0.86687,     0.86787,     0.86887,     0.86987,     0.87087,     0.87187,     0.87287,     0.87387,     0.87487,     0.87588,     0.87688,     0.87788,     0.87888,     0.87988,     0.88088,     0.88188,     0.88288,     0.88388,     0.88488,     0.88589,     0.88689,     0.88789,\n",
              "           0.88889,     0.88989,     0.89089,     0.89189,     0.89289,     0.89389,     0.89489,      0.8959,      0.8969,      0.8979,      0.8989,      0.8999,      0.9009,      0.9019,      0.9029,      0.9039,      0.9049,     0.90591,     0.90691,     0.90791,     0.90891,     0.90991,     0.91091,     0.91191,\n",
              "           0.91291,     0.91391,     0.91491,     0.91592,     0.91692,     0.91792,     0.91892,     0.91992,     0.92092,     0.92192,     0.92292,     0.92392,     0.92492,     0.92593,     0.92693,     0.92793,     0.92893,     0.92993,     0.93093,     0.93193,     0.93293,     0.93393,     0.93493,     0.93594,\n",
              "           0.93694,     0.93794,     0.93894,     0.93994,     0.94094,     0.94194,     0.94294,     0.94394,     0.94494,     0.94595,     0.94695,     0.94795,     0.94895,     0.94995,     0.95095,     0.95195,     0.95295,     0.95395,     0.95495,     0.95596,     0.95696,     0.95796,     0.95896,     0.95996,\n",
              "           0.96096,     0.96196,     0.96296,     0.96396,     0.96496,     0.96597,     0.96697,     0.96797,     0.96897,     0.96997,     0.97097,     0.97197,     0.97297,     0.97397,     0.97497,     0.97598,     0.97698,     0.97798,     0.97898,     0.97998,     0.98098,     0.98198,     0.98298,     0.98398,\n",
              "           0.98498,     0.98599,     0.98699,     0.98799,     0.98899,     0.98999,     0.99099,     0.99199,     0.99299,     0.99399,     0.99499,       0.996,       0.997,       0.998,       0.999,           1]), array([[          0,           0,           0, ...,           0,           0,           0],\n",
              "       [      0.375,       0.375,       0.375, ...,           0,           0,           0],\n",
              "       [    0.92473,     0.92473,     0.92473, ...,           0,           0,           0],\n",
              "       ...,\n",
              "       [          0,           0,           0, ...,           0,           0,           0],\n",
              "       [          0,           0,           0, ...,           0,           0,           0],\n",
              "       [          0,           0,           0, ...,           0,           0,           0]]), 'Confidence', 'Recall']]\n",
              "fitness: np.float64(0.03124251994014077)\n",
              "keys: ['metrics/precision(B)', 'metrics/recall(B)', 'metrics/mAP50(B)', 'metrics/mAP50-95(B)']\n",
              "maps: array([   0.028236,    0.028236,    0.028236,    0.028236,    0.028236,    0.028236,    0.028236,    0.028236,    0.028236,    0.028236,    0.028236,           0,    0.013835,     0.43774,    0.028236,           0,    0.028236,           0,    0.022793,    0.032822,           0,  0.00031799,    0.028236,   0.0065881,\n",
              "         0.0045823,    0.024722,           0,    0.016145,           0,           0,    0.028236,    0.028236,           0,    0.028236,   0.0021383,           0,           0,           0,           0,    0.028236,   0.0042277,           0,    0.015798,    0.028236,    0.016193,    0.028236,    0.028236,    0.024079,\n",
              "          0.028236,           0,    0.028236,    0.016076,     0.37024,   0.0081968,           0,           0,           0,           0,    0.028236,           0])\n",
              "names: {0: 'Fixed-wing Aircraft', 1: 'Small Aircraft', 2: 'Cargo Plane', 3: 'Helicopter', 4: 'Passenger Vehicle', 5: 'Small Car', 6: 'Bus', 7: 'Pickup Truck', 8: 'Utility Truck', 9: 'Truck', 10: 'Cargo Truck', 11: 'Truck w/Box', 12: 'Truck Tractor', 13: 'Trailer', 14: 'Truck w/Flatbed', 15: 'Truck w/Liquid', 16: 'Crane Truck', 17: 'Railway Vehicle', 18: 'Passenger Car', 19: 'Cargo Car', 20: 'Flat Car', 21: 'Tank car', 22: 'Locomotive', 23: 'Container Ship', 24: 'Liner Ship', 25: 'Fishing Vessel', 26: 'Oil Tanker', 27: 'Engineering Vehicle', 28: 'Tower crane', 29: 'Container Crane', 30: 'Reach Stacker', 31: 'Straddle Carrier', 32: 'Mobile Crane', 33: 'Dump Truck', 34: 'Haul Truck', 35: 'Scraper/Tractor', 36: 'Front Loader/Bulldozer', 37: 'Excavator', 38: 'Cement Mixer', 39: 'Ground Grader', 40: 'Hut/Tent', 41: 'Shed', 42: 'Building', 43: 'Aircraft Hangar', 44: 'Damaged Building', 45: 'Facility', 46: 'Construction Site', 47: 'Vehicle Lot', 48: 'Helipad', 49: 'Storage Tank', 50: 'Shipping Container Lot', 51: 'Shipping Container', 52: 'Pylon', 53: 'Tower', 54: 'Wind Turbine', 55: 'Tower-like Structure', 56: 'Container/Truck', 57: 'Oil Rig', 58: 'Pier', 59: 'Dock'}\n",
              "plot: True\n",
              "results_dict: {'metrics/precision(B)': np.float64(0.2834643036611758), 'metrics/recall(B)': np.float64(0.06259752624059976), 'metrics/mAP50(B)': np.float64(0.05830010627897158), 'metrics/mAP50-95(B)': np.float64(0.02823612145804846), 'fitness': np.float64(0.03124251994014077)}\n",
              "save_dir: PosixPath('runs/detect/satellite_model2')\n",
              "speed: {'preprocess': 1.057026087720627, 'inference': 117.06057739473165, 'loss': 0.003010175437099717, 'postprocess': 15.544687070172458}\n",
              "task: 'detect'"
            ]
          },
          "metadata": {},
          "execution_count": 3
        }
      ]
    },
    {
      "cell_type": "code",
      "source": [
        "from ultralytics import YOLO\n",
        "\n",
        "# Load your trained model (replace with your model path if different)\n",
        "model = YOLO(\"/content/runs/detect/satellite_model2/weights/best.pt\")\n",
        "\n",
        "# Run validation\n",
        "metrics = model.val(\n",
        "    data=\"data.yaml\",   # Path to your data YAML file\n",
        "    imgsz=1024,         # Match training image size\n",
        "    batch=2,            # Same or smaller batch to avoid OOM\n",
        "    verbose=True\n",
        ")\n"
      ],
      "metadata": {
        "colab": {
          "base_uri": "https://localhost:8080/"
        },
        "id": "Z-fp6zDf4kCi",
        "outputId": "526a3a2f-f620-499d-8934-4bb35f8c1d1b"
      },
      "execution_count": 4,
      "outputs": [
        {
          "output_type": "stream",
          "name": "stdout",
          "text": [
            "Ultralytics 8.3.145 🚀 Python-3.11.12 torch-2.6.0+cu124 CUDA:0 (Tesla T4, 15095MiB)\n",
            "Model summary (fused): 92 layers, 25,874,500 parameters, 0 gradients, 78.9 GFLOPs\n",
            "\u001b[34m\u001b[1mval: \u001b[0mFast image access ✅ (ping: 0.0±0.0 ms, read: 1440.1±876.4 MB/s, size: 29037.5 KB)\n"
          ]
        },
        {
          "output_type": "stream",
          "name": "stderr",
          "text": [
            "\u001b[34m\u001b[1mval: \u001b[0mScanning /content/labels/val.cache... 154 images, 0 backgrounds, 40 corrupt: 100%|██████████| 154/154 [00:00<?, ?it/s]"
          ]
        },
        {
          "output_type": "stream",
          "name": "stdout",
          "text": [
            "\u001b[34m\u001b[1mval: \u001b[0m/content/images/val/100.tif: ignoring corrupt image/label: negative label values [  -0.001924]\n",
            "\u001b[34m\u001b[1mval: \u001b[0m/content/images/val/1063.tif: ignoring corrupt image/label: negative label values [  -0.003622]\n",
            "\u001b[34m\u001b[1mval: \u001b[0m/content/images/val/1094.tif: ignoring corrupt image/label: non-normalized or out of bounds coordinates [     1.0011      1.0014]\n",
            "\u001b[34m\u001b[1mval: \u001b[0m/content/images/val/1104.tif: ignoring corrupt image/label: non-normalized or out of bounds coordinates [     1.0114      1.0014]\n",
            "\u001b[34m\u001b[1mval: \u001b[0m/content/images/val/1126.tif: ignoring corrupt image/label: non-normalized or out of bounds coordinates [     1.0007]\n",
            "\u001b[34m\u001b[1mval: \u001b[0m/content/images/val/1133.tif: ignoring corrupt image/label: non-normalized or out of bounds coordinates [      1.001]\n",
            "\u001b[34m\u001b[1mval: \u001b[0m/content/images/val/1141.tif: ignoring corrupt image/label: non-normalized or out of bounds coordinates [     1.0183      1.0014]\n",
            "\u001b[34m\u001b[1mval: \u001b[0m/content/images/val/1142.tif: ignoring corrupt image/label: negative label values [  -0.000756]\n",
            "\u001b[34m\u001b[1mval: \u001b[0m/content/images/val/1192.tif: ignoring corrupt image/label: non-normalized or out of bounds coordinates [     1.0062      1.0007      1.0026]\n",
            "\u001b[34m\u001b[1mval: \u001b[0m/content/images/val/1212.tif: ignoring corrupt image/label: non-normalized or out of bounds coordinates [     1.0003      1.0009      1.0012      1.0036      1.0026      1.0005]\n",
            "\u001b[34m\u001b[1mval: \u001b[0m/content/images/val/1444.tif: ignoring corrupt image/label: negative label values [  -0.001112   -0.000383]\n",
            "\u001b[34m\u001b[1mval: \u001b[0m/content/images/val/1454.tif: ignoring corrupt image/label: non-normalized or out of bounds coordinates [     1.0025      1.0022      1.0063]\n",
            "\u001b[34m\u001b[1mval: \u001b[0m/content/images/val/1459.tif: ignoring corrupt image/label: non-normalized or out of bounds coordinates [     1.0025      1.0024      1.0013      1.0011      1.0006      1.0014      1.0003      1.0005      1.0054      1.0051      1.0019      1.0014      1.0008]\n",
            "\u001b[34m\u001b[1mval: \u001b[0m/content/images/val/1530.tif: ignoring corrupt image/label: non-normalized or out of bounds coordinates [     1.0002]\n",
            "\u001b[34m\u001b[1mval: \u001b[0m/content/images/val/1590.tif: ignoring corrupt image/label: non-normalized or out of bounds coordinates [     1.0177]\n",
            "\u001b[34m\u001b[1mval: \u001b[0m/content/images/val/1806.tif: ignoring corrupt image/label: negative label values [  -0.000475]\n",
            "\u001b[34m\u001b[1mval: \u001b[0m/content/images/val/1817.tif: ignoring corrupt image/label: non-normalized or out of bounds coordinates [     1.0001]\n",
            "\u001b[34m\u001b[1mval: \u001b[0m/content/images/val/1832.tif: ignoring corrupt image/label: negative label values [   -0.00138   -0.004141   -0.000767   -0.000767   -0.001131   -0.002746]\n",
            "\u001b[34m\u001b[1mval: \u001b[0m/content/images/val/1841.tif: ignoring corrupt image/label: non-normalized or out of bounds coordinates [     1.0033]\n",
            "\u001b[34m\u001b[1mval: \u001b[0m/content/images/val/1896.tif: ignoring corrupt image/label: negative label values [  -0.036611   -0.021657   -0.001547   -0.030079]\n",
            "\u001b[34m\u001b[1mval: \u001b[0m/content/images/val/1919.tif: ignoring corrupt image/label: non-normalized or out of bounds coordinates [     1.0034]\n",
            "\u001b[34m\u001b[1mval: \u001b[0m/content/images/val/1931.tif: ignoring corrupt image/label: non-normalized or out of bounds coordinates [     1.0327]\n",
            "\u001b[34m\u001b[1mval: \u001b[0m/content/images/val/203.tif: ignoring corrupt image/label: non-normalized or out of bounds coordinates [     1.0015]\n",
            "\u001b[34m\u001b[1mval: \u001b[0m/content/images/val/2031.tif: ignoring corrupt image/label: non-normalized or out of bounds coordinates [     1.0006       1.001]\n",
            "\u001b[34m\u001b[1mval: \u001b[0m/content/images/val/2064.tif: ignoring corrupt image/label: non-normalized or out of bounds coordinates [      1.001       1.001]\n",
            "\u001b[34m\u001b[1mval: \u001b[0m/content/images/val/2131.tif: ignoring corrupt image/label: non-normalized or out of bounds coordinates [      1.001      1.0142]\n",
            "\u001b[34m\u001b[1mval: \u001b[0m/content/images/val/2168.tif: ignoring corrupt image/label: non-normalized or out of bounds coordinates [     1.0004      1.0009]\n",
            "\u001b[34m\u001b[1mval: \u001b[0m/content/images/val/2214.tif: ignoring corrupt image/label: non-normalized or out of bounds coordinates [     1.0036]\n",
            "\u001b[34m\u001b[1mval: \u001b[0m/content/images/val/2294.tif: ignoring corrupt image/label: negative label values [  -0.013066   -0.007645]\n",
            "\u001b[34m\u001b[1mval: \u001b[0m/content/images/val/2399.tif: ignoring corrupt image/label: negative label values [  -0.002062]\n",
            "\u001b[34m\u001b[1mval: \u001b[0m/content/images/val/2482.tif: ignoring corrupt image/label: negative label values [  -0.003442]\n",
            "\u001b[34m\u001b[1mval: \u001b[0m/content/images/val/2514.tif: ignoring corrupt image/label: non-normalized or out of bounds coordinates [      1.001]\n",
            "\u001b[34m\u001b[1mval: \u001b[0m/content/images/val/2552.tif: ignoring corrupt image/label: negative label values [   -0.00235   -0.001808]\n",
            "\u001b[34m\u001b[1mval: \u001b[0m/content/images/val/2557.tif: ignoring corrupt image/label: negative label values [  -0.012519]\n",
            "\u001b[34m\u001b[1mval: \u001b[0m/content/images/val/360.tif: ignoring corrupt image/label: non-normalized or out of bounds coordinates [     1.0029]\n",
            "\u001b[34m\u001b[1mval: \u001b[0m/content/images/val/584.tif: ignoring corrupt image/label: non-normalized or out of bounds coordinates [     1.0042]\n",
            "\u001b[34m\u001b[1mval: \u001b[0m/content/images/val/587.tif: ignoring corrupt image/label: non-normalized or out of bounds coordinates [     1.0041]\n",
            "\u001b[34m\u001b[1mval: \u001b[0m/content/images/val/610.tif: ignoring corrupt image/label: negative label values [  -0.000903   -0.002347   -0.001083   -0.001806   -0.001264]\n",
            "\u001b[34m\u001b[1mval: \u001b[0m/content/images/val/75.tif: ignoring corrupt image/label: non-normalized or out of bounds coordinates [     1.0003]\n",
            "\u001b[34m\u001b[1mval: \u001b[0m/content/images/val/80.tif: ignoring corrupt image/label: non-normalized or out of bounds coordinates [     1.0002]\n"
          ]
        },
        {
          "output_type": "stream",
          "name": "stderr",
          "text": [
            "\n",
            "                 Class     Images  Instances      Box(P          R      mAP50  mAP50-95): 100%|██████████| 57/57 [00:22<00:00,  2.50it/s]\n"
          ]
        },
        {
          "output_type": "stream",
          "name": "stdout",
          "text": [
            "                   all        114      35661      0.309     0.0631     0.0678     0.0301\n",
            "           Truck w/Box          4          7          0          0    0.00521   0.000521\n",
            "         Truck Tractor          7         16     0.0423      0.188      0.034     0.0188\n",
            "               Trailer         19         93      0.612      0.882      0.872      0.444\n",
            "        Truck w/Liquid          3         10          0          0          0          0\n",
            "       Railway Vehicle         31        383          1          0          0          0\n",
            "         Passenger Car        105      29316      0.322       0.05     0.0994     0.0261\n",
            "             Cargo Car         63       1101      0.521     0.0493     0.0903     0.0364\n",
            "              Flat Car         30        174          1          0          0          0\n",
            "              Tank car         51        462          0          0     0.0104    0.00225\n",
            "        Container Ship         81       1612     0.0848      0.018     0.0208    0.00708\n",
            "            Liner Ship         59        939     0.0294    0.00106     0.0146    0.00606\n",
            "        Fishing Vessel         41        349      0.163      0.086     0.0634      0.024\n",
            "            Oil Tanker         15         45          0          0          0          0\n",
            "   Engineering Vehicle         52        528      0.119     0.0227     0.0411     0.0173\n",
            "           Tower crane         25         92          0          0          0          0\n",
            "       Container Crane          5          7          1          0          0          0\n",
            "          Mobile Crane         16         28          0          0          0          0\n",
            "            Haul Truck          3         26          1          0     0.0232     0.0124\n",
            "       Scraper/Tractor          5        190          1          0          0          0\n",
            "Front Loader/Bulldozer          2          9          0          0          0          0\n",
            "             Excavator          1         13          0          0          0          0\n",
            "          Cement Mixer          4         12          0          0          0          0\n",
            "              Hut/Tent          6          7          0          0    0.00436    0.00174\n",
            "                  Shed          6         37          1          0          0          0\n",
            "              Building          2         14      0.175     0.0714      0.039     0.0117\n",
            "      Damaged Building          2          3          1          0     0.0571     0.0174\n",
            "           Vehicle Lot          2          3      0.329      0.219      0.178     0.0356\n",
            "          Storage Tank          1          3          1          0          0          0\n",
            "    Shipping Container          2          6     0.0265      0.167     0.0411     0.0177\n",
            "                 Pylon          1          2      0.515        0.5      0.828      0.396\n",
            "                 Tower         19         42      0.173     0.0165      0.018    0.00835\n",
            "          Wind Turbine         13         46          0          0          0          0\n",
            "  Tower-like Structure          3          7          0          0          0          0\n",
            "       Container/Truck          3          6          0          0          0          0\n",
            "               Oil Rig          2         12          0          0          0          0\n",
            "                  Dock         13         61          0          0          0          0\n",
            "Speed: 1.5ms preprocess, 67.2ms inference, 0.0ms loss, 7.3ms postprocess per image\n",
            "Results saved to \u001b[1mruns/detect/val\u001b[0m\n"
          ]
        }
      ]
    },
    {
      "cell_type": "code",
      "source": [
        "import os\n",
        "import matplotlib.pyplot as plt\n",
        "import cv2\n",
        "\n",
        "# Change this if the val run directory name differs\n",
        "val_dir = \"runs/val/predict\"\n",
        "images = [os.path.join(val_dir, img) for img in os.listdir(val_dir) if img.endswith((\".jpg\", \".png\"))]\n",
        "\n",
        "# Display a few sample predictions\n",
        "for i, img_path in enumerate(images[:5]):  # Show first 5 images\n",
        "    img = cv2.imread(img_path)\n",
        "    img = cv2.cvtColor(img, cv2.COLOR_BGR2RGB)\n",
        "    plt.figure(figsize=(10, 10))\n",
        "    plt.imshow(img)\n",
        "    plt.title(f\"Prediction {i+1}\")\n",
        "    plt.axis('off')\n",
        "    plt.show()\n"
      ],
      "metadata": {
        "id": "PUP8OSeFCXsu"
      },
      "execution_count": null,
      "outputs": []
    },
    {
      "cell_type": "code",
      "source": [
        "model = YOLO('/content/runs/detect/satellite_model2/weights/best.pt')\n"
      ],
      "metadata": {
        "id": "VR-geqwZDVB6"
      },
      "execution_count": 5,
      "outputs": []
    },
    {
      "cell_type": "code",
      "source": [
        "# Path to your input image\n",
        "image_path = \"/content/3.png\"\n",
        "\n",
        "# Run inference\n",
        "results = model(image_path)"
      ],
      "metadata": {
        "id": "sV2NHPGQDr9y"
      },
      "execution_count": null,
      "outputs": []
    },
    {
      "cell_type": "code",
      "source": [
        "from ultralytics import YOLO\n",
        "import cv2\n",
        "import matplotlib.pyplot as plt\n",
        "\n",
        "# 1. Load your trained model\n",
        "model = YOLO('/content/runs/detect/satellite_model2/weights/best.pt')\n",
        "\n",
        "# 2. Run inference on the image\n",
        "results = model(\"/content/stitched_satellite_image.png\", imgsz=1024, conf=0.25, save=True)  # Adjust conf threshold as needed\n",
        "\n",
        "# 3. Display the result\n",
        "result_img = results[0].plot()  # Returns a numpy image with bounding boxes\n",
        "\n",
        "plt.figure(figsize=(12, 12))\n",
        "plt.imshow(result_img)\n",
        "plt.axis(\"off\")\n",
        "plt.title(\"Detected Objects\")\n",
        "plt.show()"
      ],
      "metadata": {
        "id": "Pj8bOpXXD7mN"
      },
      "execution_count": null,
      "outputs": []
    },
    {
      "cell_type": "code",
      "source": [
        "!pip install -q opencv-python ultralytics"
      ],
      "metadata": {
        "id": "aGfjfBw1EG5p"
      },
      "execution_count": 10,
      "outputs": []
    },
    {
      "cell_type": "code",
      "source": [
        "def tile_and_predict(image_path, tile_size=1024, stride=1024, conf_thresh=0.3):\n",
        "    image = cv2.imread(image_path)\n",
        "    h, w, _ = image.shape\n",
        "    results_all = []\n",
        "\n",
        "    for y in range(0, h, stride):\n",
        "        for x in range(0, w, stride):\n",
        "            tile = image[y:y+tile_size, x:x+tile_size]\n",
        "            if tile.shape[0] < tile_size or tile.shape[1] < tile_size:\n",
        "                continue\n",
        "\n",
        "            result = model(tile, conf=conf_thresh)[0]\n",
        "\n",
        "            if result.boxes is not None:\n",
        "                for box in result.boxes:\n",
        "                    xyxy = box.xyxy[0].clone()  # clone fixes RuntimeError\n",
        "                    x1, y1, x2, y2 = xyxy\n",
        "                    x1 += x\n",
        "                    x2 += x\n",
        "                    y1 += y\n",
        "                    y2 += y\n",
        "                    results_all.append((int(box.cls[0]), float(box.conf[0]), x1, y1, x2, y2))\n",
        "\n",
        "    return results_all\n"
      ],
      "metadata": {
        "id": "SbMm0zxfEq2o"
      },
      "execution_count": 11,
      "outputs": []
    },
    {
      "cell_type": "code",
      "source": [
        "def get_color(cls_id):\n",
        "    np.random.seed(cls_id)\n",
        "    return tuple(int(x) for x in np.random.randint(0, 255, 3))\n",
        "\n",
        "def draw_boxes(image_path, detections, class_names, output_path=\"result.jpg\"):\n",
        "    image = cv2.imread(image_path)\n",
        "    for cls_id, conf, x1, y1, x2, y2 in detections:\n",
        "        label = f\"{class_names[cls_id]} {conf:.2f}\"\n",
        "        color = get_color(cls_id)\n",
        "        cv2.rectangle(image, (int(x1), int(y1)), (int(x2), int(y2)), color, 2)\n",
        "        cv2.putText(image, label, (int(x1), int(y1) - 5), cv2.FONT_HERSHEY_SIMPLEX, 0.5, color, 1)\n",
        "    cv2.imwrite(output_path, image)\n",
        "    print(f\"✅ Output saved as {output_path}\")"
      ],
      "metadata": {
        "id": "SJrRrvYCEt67"
      },
      "execution_count": 12,
      "outputs": []
    },
    {
      "cell_type": "code",
      "source": [
        "detections = tile_and_predict(\"/content/stitched_satellite_image.png\")"
      ],
      "metadata": {
        "colab": {
          "base_uri": "https://localhost:8080/"
        },
        "id": "671DBCADExc6",
        "outputId": "fbf8dee5-4052-4df5-813e-3a2130530b3a"
      },
      "execution_count": 13,
      "outputs": [
        {
          "output_type": "stream",
          "name": "stdout",
          "text": [
            "\n",
            "0: 1024x1024 (no detections), 77.5ms\n",
            "Speed: 6.8ms preprocess, 77.5ms inference, 0.9ms postprocess per image at shape (1, 3, 1024, 1024)\n",
            "\n",
            "0: 1024x1024 (no detections), 68.2ms\n",
            "Speed: 4.9ms preprocess, 68.2ms inference, 0.9ms postprocess per image at shape (1, 3, 1024, 1024)\n",
            "\n",
            "0: 1024x1024 (no detections), 55.1ms\n",
            "Speed: 4.9ms preprocess, 55.1ms inference, 0.8ms postprocess per image at shape (1, 3, 1024, 1024)\n",
            "\n",
            "0: 1024x1024 (no detections), 54.9ms\n",
            "Speed: 4.7ms preprocess, 54.9ms inference, 0.8ms postprocess per image at shape (1, 3, 1024, 1024)\n",
            "\n",
            "0: 1024x1024 (no detections), 53.8ms\n",
            "Speed: 5.3ms preprocess, 53.8ms inference, 0.7ms postprocess per image at shape (1, 3, 1024, 1024)\n",
            "\n",
            "0: 1024x1024 (no detections), 48.8ms\n",
            "Speed: 4.9ms preprocess, 48.8ms inference, 3.3ms postprocess per image at shape (1, 3, 1024, 1024)\n",
            "\n",
            "0: 1024x1024 (no detections), 46.7ms\n",
            "Speed: 7.3ms preprocess, 46.7ms inference, 3.4ms postprocess per image at shape (1, 3, 1024, 1024)\n",
            "\n",
            "0: 1024x1024 1 Trailer, 44.4ms\n",
            "Speed: 11.6ms preprocess, 44.4ms inference, 1.7ms postprocess per image at shape (1, 3, 1024, 1024)\n",
            "\n",
            "0: 1024x1024 4 Shipping Containers, 46.8ms\n",
            "Speed: 5.5ms preprocess, 46.8ms inference, 1.5ms postprocess per image at shape (1, 3, 1024, 1024)\n",
            "\n",
            "0: 1024x1024 1 Trailer, 46.3ms\n",
            "Speed: 4.7ms preprocess, 46.3ms inference, 1.4ms postprocess per image at shape (1, 3, 1024, 1024)\n",
            "\n",
            "0: 1024x1024 (no detections), 46.9ms\n",
            "Speed: 5.1ms preprocess, 46.9ms inference, 0.9ms postprocess per image at shape (1, 3, 1024, 1024)\n",
            "\n",
            "0: 1024x1024 (no detections), 48.9ms\n",
            "Speed: 5.1ms preprocess, 48.9ms inference, 0.7ms postprocess per image at shape (1, 3, 1024, 1024)\n",
            "\n",
            "0: 1024x1024 1 Trailer, 49.0ms\n",
            "Speed: 5.6ms preprocess, 49.0ms inference, 1.5ms postprocess per image at shape (1, 3, 1024, 1024)\n",
            "\n",
            "0: 1024x1024 (no detections), 49.3ms\n",
            "Speed: 5.2ms preprocess, 49.3ms inference, 0.7ms postprocess per image at shape (1, 3, 1024, 1024)\n",
            "\n",
            "0: 1024x1024 (no detections), 49.5ms\n",
            "Speed: 5.9ms preprocess, 49.5ms inference, 0.8ms postprocess per image at shape (1, 3, 1024, 1024)\n",
            "\n",
            "0: 1024x1024 (no detections), 49.2ms\n",
            "Speed: 5.1ms preprocess, 49.2ms inference, 4.4ms postprocess per image at shape (1, 3, 1024, 1024)\n",
            "\n",
            "0: 1024x1024 (no detections), 46.9ms\n",
            "Speed: 6.3ms preprocess, 46.9ms inference, 0.8ms postprocess per image at shape (1, 3, 1024, 1024)\n",
            "\n",
            "0: 1024x1024 (no detections), 48.1ms\n",
            "Speed: 5.2ms preprocess, 48.1ms inference, 0.8ms postprocess per image at shape (1, 3, 1024, 1024)\n",
            "\n",
            "0: 1024x1024 (no detections), 47.6ms\n",
            "Speed: 5.6ms preprocess, 47.6ms inference, 0.7ms postprocess per image at shape (1, 3, 1024, 1024)\n",
            "\n",
            "0: 1024x1024 (no detections), 47.4ms\n",
            "Speed: 5.0ms preprocess, 47.4ms inference, 0.8ms postprocess per image at shape (1, 3, 1024, 1024)\n",
            "\n",
            "0: 1024x1024 (no detections), 48.5ms\n",
            "Speed: 4.7ms preprocess, 48.5ms inference, 1.1ms postprocess per image at shape (1, 3, 1024, 1024)\n",
            "\n",
            "0: 1024x1024 1 Shipping Container, 48.6ms\n",
            "Speed: 5.6ms preprocess, 48.6ms inference, 2.3ms postprocess per image at shape (1, 3, 1024, 1024)\n",
            "\n",
            "0: 1024x1024 (no detections), 47.8ms\n",
            "Speed: 6.3ms preprocess, 47.8ms inference, 1.3ms postprocess per image at shape (1, 3, 1024, 1024)\n",
            "\n",
            "0: 1024x1024 1 Truck Tractor, 1 Trailer, 47.2ms\n",
            "Speed: 7.3ms preprocess, 47.2ms inference, 3.0ms postprocess per image at shape (1, 3, 1024, 1024)\n",
            "\n",
            "0: 1024x1024 (no detections), 46.1ms\n",
            "Speed: 5.9ms preprocess, 46.1ms inference, 1.1ms postprocess per image at shape (1, 3, 1024, 1024)\n",
            "\n",
            "0: 1024x1024 (no detections), 46.6ms\n",
            "Speed: 9.4ms preprocess, 46.6ms inference, 1.1ms postprocess per image at shape (1, 3, 1024, 1024)\n",
            "\n",
            "0: 1024x1024 (no detections), 48.6ms\n",
            "Speed: 6.3ms preprocess, 48.6ms inference, 1.0ms postprocess per image at shape (1, 3, 1024, 1024)\n",
            "\n",
            "0: 1024x1024 (no detections), 49.4ms\n",
            "Speed: 5.5ms preprocess, 49.4ms inference, 1.0ms postprocess per image at shape (1, 3, 1024, 1024)\n",
            "\n",
            "0: 1024x1024 (no detections), 51.1ms\n",
            "Speed: 5.5ms preprocess, 51.1ms inference, 1.0ms postprocess per image at shape (1, 3, 1024, 1024)\n",
            "\n",
            "0: 1024x1024 (no detections), 49.1ms\n",
            "Speed: 5.4ms preprocess, 49.1ms inference, 1.0ms postprocess per image at shape (1, 3, 1024, 1024)\n",
            "\n",
            "0: 1024x1024 (no detections), 49.2ms\n",
            "Speed: 5.5ms preprocess, 49.2ms inference, 0.9ms postprocess per image at shape (1, 3, 1024, 1024)\n",
            "\n",
            "0: 1024x1024 (no detections), 49.1ms\n",
            "Speed: 5.5ms preprocess, 49.1ms inference, 0.9ms postprocess per image at shape (1, 3, 1024, 1024)\n",
            "\n",
            "0: 1024x1024 (no detections), 46.4ms\n",
            "Speed: 11.4ms preprocess, 46.4ms inference, 1.0ms postprocess per image at shape (1, 3, 1024, 1024)\n",
            "\n",
            "0: 1024x1024 1 Trailer, 48.3ms\n",
            "Speed: 8.3ms preprocess, 48.3ms inference, 1.9ms postprocess per image at shape (1, 3, 1024, 1024)\n",
            "\n",
            "0: 1024x1024 1 Fishing Vessel, 48.5ms\n",
            "Speed: 6.7ms preprocess, 48.5ms inference, 1.7ms postprocess per image at shape (1, 3, 1024, 1024)\n",
            "\n",
            "0: 1024x1024 (no detections), 48.3ms\n",
            "Speed: 5.8ms preprocess, 48.3ms inference, 0.9ms postprocess per image at shape (1, 3, 1024, 1024)\n",
            "\n",
            "0: 1024x1024 (no detections), 48.4ms\n",
            "Speed: 6.0ms preprocess, 48.4ms inference, 1.0ms postprocess per image at shape (1, 3, 1024, 1024)\n",
            "\n",
            "0: 1024x1024 (no detections), 47.9ms\n",
            "Speed: 5.6ms preprocess, 47.9ms inference, 1.0ms postprocess per image at shape (1, 3, 1024, 1024)\n",
            "\n",
            "0: 1024x1024 (no detections), 47.9ms\n",
            "Speed: 6.2ms preprocess, 47.9ms inference, 0.9ms postprocess per image at shape (1, 3, 1024, 1024)\n",
            "\n",
            "0: 1024x1024 1 Truck Tractor, 3 Shipping Containers, 48.6ms\n",
            "Speed: 5.6ms preprocess, 48.6ms inference, 1.8ms postprocess per image at shape (1, 3, 1024, 1024)\n",
            "\n",
            "0: 1024x1024 (no detections), 47.1ms\n",
            "Speed: 5.8ms preprocess, 47.1ms inference, 0.8ms postprocess per image at shape (1, 3, 1024, 1024)\n",
            "\n",
            "0: 1024x1024 (no detections), 48.9ms\n",
            "Speed: 5.8ms preprocess, 48.9ms inference, 0.9ms postprocess per image at shape (1, 3, 1024, 1024)\n",
            "\n",
            "0: 1024x1024 (no detections), 47.9ms\n",
            "Speed: 8.3ms preprocess, 47.9ms inference, 0.9ms postprocess per image at shape (1, 3, 1024, 1024)\n",
            "\n",
            "0: 1024x1024 (no detections), 49.8ms\n",
            "Speed: 5.4ms preprocess, 49.8ms inference, 0.9ms postprocess per image at shape (1, 3, 1024, 1024)\n",
            "\n",
            "0: 1024x1024 1 Truck Tractor, 1 Shipping Container Lot, 50.5ms\n",
            "Speed: 5.3ms preprocess, 50.5ms inference, 1.9ms postprocess per image at shape (1, 3, 1024, 1024)\n",
            "\n",
            "0: 1024x1024 2 Shipping Container Lots, 47.6ms\n",
            "Speed: 6.1ms preprocess, 47.6ms inference, 1.7ms postprocess per image at shape (1, 3, 1024, 1024)\n",
            "\n",
            "0: 1024x1024 (no detections), 47.4ms\n",
            "Speed: 5.5ms preprocess, 47.4ms inference, 1.2ms postprocess per image at shape (1, 3, 1024, 1024)\n",
            "\n",
            "0: 1024x1024 (no detections), 48.6ms\n",
            "Speed: 5.9ms preprocess, 48.6ms inference, 1.0ms postprocess per image at shape (1, 3, 1024, 1024)\n",
            "\n",
            "0: 1024x1024 (no detections), 49.0ms\n",
            "Speed: 6.2ms preprocess, 49.0ms inference, 1.5ms postprocess per image at shape (1, 3, 1024, 1024)\n",
            "\n",
            "0: 1024x1024 (no detections), 48.7ms\n",
            "Speed: 6.3ms preprocess, 48.7ms inference, 1.2ms postprocess per image at shape (1, 3, 1024, 1024)\n",
            "\n",
            "0: 1024x1024 (no detections), 49.3ms\n",
            "Speed: 6.0ms preprocess, 49.3ms inference, 1.1ms postprocess per image at shape (1, 3, 1024, 1024)\n",
            "\n",
            "0: 1024x1024 (no detections), 49.8ms\n",
            "Speed: 5.5ms preprocess, 49.8ms inference, 1.1ms postprocess per image at shape (1, 3, 1024, 1024)\n",
            "\n",
            "0: 1024x1024 (no detections), 48.9ms\n",
            "Speed: 6.7ms preprocess, 48.9ms inference, 1.2ms postprocess per image at shape (1, 3, 1024, 1024)\n",
            "\n",
            "0: 1024x1024 (no detections), 47.7ms\n",
            "Speed: 8.2ms preprocess, 47.7ms inference, 1.1ms postprocess per image at shape (1, 3, 1024, 1024)\n",
            "\n",
            "0: 1024x1024 1 Shipping Container, 48.4ms\n",
            "Speed: 6.4ms preprocess, 48.4ms inference, 1.9ms postprocess per image at shape (1, 3, 1024, 1024)\n",
            "\n",
            "0: 1024x1024 (no detections), 47.7ms\n",
            "Speed: 7.3ms preprocess, 47.7ms inference, 1.1ms postprocess per image at shape (1, 3, 1024, 1024)\n",
            "\n",
            "0: 1024x1024 (no detections), 48.9ms\n",
            "Speed: 6.7ms preprocess, 48.9ms inference, 1.2ms postprocess per image at shape (1, 3, 1024, 1024)\n",
            "\n",
            "0: 1024x1024 (no detections), 48.1ms\n",
            "Speed: 7.6ms preprocess, 48.1ms inference, 1.1ms postprocess per image at shape (1, 3, 1024, 1024)\n",
            "\n",
            "0: 1024x1024 (no detections), 48.4ms\n",
            "Speed: 6.4ms preprocess, 48.4ms inference, 1.1ms postprocess per image at shape (1, 3, 1024, 1024)\n",
            "\n",
            "0: 1024x1024 (no detections), 49.5ms\n",
            "Speed: 5.3ms preprocess, 49.5ms inference, 0.7ms postprocess per image at shape (1, 3, 1024, 1024)\n",
            "\n",
            "0: 1024x1024 (no detections), 49.4ms\n",
            "Speed: 4.9ms preprocess, 49.4ms inference, 0.8ms postprocess per image at shape (1, 3, 1024, 1024)\n",
            "\n",
            "0: 1024x1024 (no detections), 48.7ms\n",
            "Speed: 4.9ms preprocess, 48.7ms inference, 0.7ms postprocess per image at shape (1, 3, 1024, 1024)\n",
            "\n",
            "0: 1024x1024 (no detections), 47.0ms\n",
            "Speed: 5.4ms preprocess, 47.0ms inference, 0.7ms postprocess per image at shape (1, 3, 1024, 1024)\n",
            "\n",
            "0: 1024x1024 (no detections), 48.1ms\n",
            "Speed: 5.2ms preprocess, 48.1ms inference, 0.7ms postprocess per image at shape (1, 3, 1024, 1024)\n",
            "\n",
            "0: 1024x1024 1 Trailer, 48.6ms\n",
            "Speed: 6.0ms preprocess, 48.6ms inference, 1.6ms postprocess per image at shape (1, 3, 1024, 1024)\n",
            "\n",
            "0: 1024x1024 (no detections), 49.3ms\n",
            "Speed: 4.8ms preprocess, 49.3ms inference, 0.8ms postprocess per image at shape (1, 3, 1024, 1024)\n",
            "\n",
            "0: 1024x1024 (no detections), 49.7ms\n",
            "Speed: 4.8ms preprocess, 49.7ms inference, 0.7ms postprocess per image at shape (1, 3, 1024, 1024)\n",
            "\n",
            "0: 1024x1024 (no detections), 49.8ms\n",
            "Speed: 6.0ms preprocess, 49.8ms inference, 0.7ms postprocess per image at shape (1, 3, 1024, 1024)\n",
            "\n",
            "0: 1024x1024 (no detections), 49.5ms\n",
            "Speed: 5.5ms preprocess, 49.5ms inference, 0.8ms postprocess per image at shape (1, 3, 1024, 1024)\n",
            "\n",
            "0: 1024x1024 (no detections), 49.5ms\n",
            "Speed: 4.7ms preprocess, 49.5ms inference, 0.7ms postprocess per image at shape (1, 3, 1024, 1024)\n",
            "\n",
            "0: 1024x1024 (no detections), 48.6ms\n",
            "Speed: 4.6ms preprocess, 48.6ms inference, 0.7ms postprocess per image at shape (1, 3, 1024, 1024)\n",
            "\n",
            "0: 1024x1024 (no detections), 48.3ms\n",
            "Speed: 5.1ms preprocess, 48.3ms inference, 0.7ms postprocess per image at shape (1, 3, 1024, 1024)\n",
            "\n",
            "0: 1024x1024 (no detections), 46.5ms\n",
            "Speed: 7.2ms preprocess, 46.5ms inference, 0.7ms postprocess per image at shape (1, 3, 1024, 1024)\n",
            "\n",
            "0: 1024x1024 (no detections), 48.0ms\n",
            "Speed: 4.6ms preprocess, 48.0ms inference, 0.7ms postprocess per image at shape (1, 3, 1024, 1024)\n",
            "\n",
            "0: 1024x1024 (no detections), 49.0ms\n",
            "Speed: 4.6ms preprocess, 49.0ms inference, 0.7ms postprocess per image at shape (1, 3, 1024, 1024)\n",
            "\n",
            "0: 1024x1024 (no detections), 49.7ms\n",
            "Speed: 4.9ms preprocess, 49.7ms inference, 0.7ms postprocess per image at shape (1, 3, 1024, 1024)\n",
            "\n",
            "0: 1024x1024 (no detections), 49.7ms\n",
            "Speed: 5.3ms preprocess, 49.7ms inference, 0.7ms postprocess per image at shape (1, 3, 1024, 1024)\n",
            "\n",
            "0: 1024x1024 1 Trailer, 1 Shipping Container, 49.7ms\n",
            "Speed: 6.1ms preprocess, 49.7ms inference, 1.5ms postprocess per image at shape (1, 3, 1024, 1024)\n",
            "\n",
            "0: 1024x1024 (no detections), 49.0ms\n",
            "Speed: 4.8ms preprocess, 49.0ms inference, 0.7ms postprocess per image at shape (1, 3, 1024, 1024)\n",
            "\n",
            "0: 1024x1024 (no detections), 50.3ms\n",
            "Speed: 5.2ms preprocess, 50.3ms inference, 0.7ms postprocess per image at shape (1, 3, 1024, 1024)\n",
            "\n",
            "0: 1024x1024 (no detections), 49.6ms\n",
            "Speed: 5.0ms preprocess, 49.6ms inference, 0.7ms postprocess per image at shape (1, 3, 1024, 1024)\n",
            "\n",
            "0: 1024x1024 (no detections), 49.4ms\n",
            "Speed: 4.8ms preprocess, 49.4ms inference, 0.7ms postprocess per image at shape (1, 3, 1024, 1024)\n",
            "\n",
            "0: 1024x1024 (no detections), 48.4ms\n",
            "Speed: 5.7ms preprocess, 48.4ms inference, 0.7ms postprocess per image at shape (1, 3, 1024, 1024)\n",
            "\n",
            "0: 1024x1024 (no detections), 47.3ms\n",
            "Speed: 4.9ms preprocess, 47.3ms inference, 0.8ms postprocess per image at shape (1, 3, 1024, 1024)\n",
            "\n",
            "0: 1024x1024 (no detections), 48.5ms\n",
            "Speed: 5.1ms preprocess, 48.5ms inference, 1.1ms postprocess per image at shape (1, 3, 1024, 1024)\n",
            "\n",
            "0: 1024x1024 (no detections), 49.8ms\n",
            "Speed: 5.9ms preprocess, 49.8ms inference, 0.8ms postprocess per image at shape (1, 3, 1024, 1024)\n",
            "\n",
            "0: 1024x1024 (no detections), 49.9ms\n",
            "Speed: 5.0ms preprocess, 49.9ms inference, 0.7ms postprocess per image at shape (1, 3, 1024, 1024)\n",
            "\n",
            "0: 1024x1024 (no detections), 49.8ms\n",
            "Speed: 5.3ms preprocess, 49.8ms inference, 0.8ms postprocess per image at shape (1, 3, 1024, 1024)\n",
            "\n",
            "0: 1024x1024 (no detections), 50.4ms\n",
            "Speed: 5.3ms preprocess, 50.4ms inference, 0.7ms postprocess per image at shape (1, 3, 1024, 1024)\n",
            "\n",
            "0: 1024x1024 (no detections), 49.6ms\n",
            "Speed: 5.2ms preprocess, 49.6ms inference, 0.7ms postprocess per image at shape (1, 3, 1024, 1024)\n",
            "\n",
            "0: 1024x1024 (no detections), 49.0ms\n",
            "Speed: 5.1ms preprocess, 49.0ms inference, 0.8ms postprocess per image at shape (1, 3, 1024, 1024)\n",
            "\n",
            "0: 1024x1024 (no detections), 47.9ms\n",
            "Speed: 4.9ms preprocess, 47.9ms inference, 0.7ms postprocess per image at shape (1, 3, 1024, 1024)\n",
            "\n",
            "0: 1024x1024 (no detections), 47.9ms\n",
            "Speed: 5.6ms preprocess, 47.9ms inference, 1.0ms postprocess per image at shape (1, 3, 1024, 1024)\n",
            "\n",
            "0: 1024x1024 (no detections), 49.1ms\n",
            "Speed: 5.4ms preprocess, 49.1ms inference, 0.7ms postprocess per image at shape (1, 3, 1024, 1024)\n",
            "\n",
            "0: 1024x1024 (no detections), 50.3ms\n",
            "Speed: 5.2ms preprocess, 50.3ms inference, 0.8ms postprocess per image at shape (1, 3, 1024, 1024)\n",
            "\n",
            "0: 1024x1024 (no detections), 49.8ms\n",
            "Speed: 5.4ms preprocess, 49.8ms inference, 0.7ms postprocess per image at shape (1, 3, 1024, 1024)\n",
            "\n",
            "0: 1024x1024 (no detections), 50.4ms\n",
            "Speed: 4.7ms preprocess, 50.4ms inference, 1.3ms postprocess per image at shape (1, 3, 1024, 1024)\n",
            "\n",
            "0: 1024x1024 1 Shipping Container, 49.8ms\n",
            "Speed: 6.3ms preprocess, 49.8ms inference, 1.5ms postprocess per image at shape (1, 3, 1024, 1024)\n",
            "\n",
            "0: 1024x1024 3 Shipping Container Lots, 49.8ms\n",
            "Speed: 5.2ms preprocess, 49.8ms inference, 1.4ms postprocess per image at shape (1, 3, 1024, 1024)\n",
            "\n",
            "0: 1024x1024 1 Trailer, 48.3ms\n",
            "Speed: 5.1ms preprocess, 48.3ms inference, 1.4ms postprocess per image at shape (1, 3, 1024, 1024)\n"
          ]
        }
      ]
    },
    {
      "cell_type": "code",
      "source": [
        "import numpy as np\n",
        "# Now call draw_boxes with the generated detections\n",
        "draw_boxes(\"/content/stitched_satellite_image.png\", detections, model.names)"
      ],
      "metadata": {
        "colab": {
          "base_uri": "https://localhost:8080/"
        },
        "id": "LptHwPcfE1_-",
        "outputId": "2420b05e-5b46-43eb-98c6-a93a5b6a1942"
      },
      "execution_count": 15,
      "outputs": [
        {
          "output_type": "stream",
          "name": "stdout",
          "text": [
            "✅ Output saved as result.jpg\n"
          ]
        }
      ]
    },
    {
      "cell_type": "code",
      "source": [
        "import os\n",
        "import cv2\n",
        "from ultralytics import YOLO\n",
        "\n",
        "# Load the model\n",
        "model = YOLO('/content/runs/detect/satellite_model2/weights/best.pt')\n",
        "\n",
        "\n",
        "# Load your large image\n",
        "img = cv2.imread(\"/content/stitched_satellite_image.png\")\n",
        "H, W, _ = img.shape\n",
        "\n",
        "tile_size = 1024\n",
        "stride = 1024  # You can use <1024 for overlapping tiles\n",
        "os.makedirs(\"detected_tiles\", exist_ok=True)\n",
        "\n",
        "# Slide window across image\n",
        "for y in range(0, H, stride):\n",
        "    for x in range(0, W, stride):\n",
        "        tile = img[y:y + tile_size, x:x + tile_size]\n",
        "\n",
        "        if tile.shape[0] != tile_size or tile.shape[1] != tile_size:\n",
        "            continue  # Skip edge tiles if smaller than expected\n",
        "\n",
        "        # Save temp tile\n",
        "        tile_path = \"temp_tile.png\"\n",
        "        cv2.imwrite(tile_path, tile)\n",
        "\n",
        "        # Run YOLO on the tile\n",
        "        results = model(tile_path, imgsz=1024, conf=0.25, verbose=False)\n",
        "\n",
        "        # Check if objects were detected\n",
        "        if len(results[0].boxes) > 0:\n",
        "            save_path = f\"detected_tiles/tile_{x}_{y}.png\"\n",
        "            cv2.imwrite(save_path, tile)\n",
        "            print(f\"✅ Detected objects in tile at ({x}, {y}) → saved.\")\n",
        "        else:\n",
        "            print(f\"⛔ No detection in tile at ({x}, {y}) → skipped.\")\n"
      ],
      "metadata": {
        "colab": {
          "base_uri": "https://localhost:8080/"
        },
        "id": "23D0UVKFGdpQ",
        "outputId": "befdc2cf-369f-4212-b1e2-43012b30040c"
      },
      "execution_count": 20,
      "outputs": [
        {
          "output_type": "stream",
          "name": "stdout",
          "text": [
            "⛔ No detection in tile at (0, 0) → skipped.\n",
            "⛔ No detection in tile at (1024, 0) → skipped.\n",
            "⛔ No detection in tile at (2048, 0) → skipped.\n",
            "✅ Detected objects in tile at (3072, 0) → saved.\n",
            "⛔ No detection in tile at (4096, 0) → skipped.\n",
            "⛔ No detection in tile at (5120, 0) → skipped.\n",
            "⛔ No detection in tile at (6144, 0) → skipped.\n",
            "✅ Detected objects in tile at (7168, 0) → saved.\n",
            "✅ Detected objects in tile at (8192, 0) → saved.\n",
            "✅ Detected objects in tile at (9216, 0) → saved.\n",
            "⛔ No detection in tile at (0, 1024) → skipped.\n",
            "⛔ No detection in tile at (1024, 1024) → skipped.\n",
            "✅ Detected objects in tile at (2048, 1024) → saved.\n",
            "⛔ No detection in tile at (3072, 1024) → skipped.\n",
            "⛔ No detection in tile at (4096, 1024) → skipped.\n",
            "⛔ No detection in tile at (5120, 1024) → skipped.\n",
            "⛔ No detection in tile at (6144, 1024) → skipped.\n",
            "✅ Detected objects in tile at (7168, 1024) → saved.\n",
            "⛔ No detection in tile at (8192, 1024) → skipped.\n",
            "⛔ No detection in tile at (9216, 1024) → skipped.\n",
            "⛔ No detection in tile at (0, 2048) → skipped.\n",
            "✅ Detected objects in tile at (1024, 2048) → saved.\n",
            "⛔ No detection in tile at (2048, 2048) → skipped.\n",
            "✅ Detected objects in tile at (3072, 2048) → saved.\n",
            "⛔ No detection in tile at (4096, 2048) → skipped.\n",
            "⛔ No detection in tile at (5120, 2048) → skipped.\n",
            "⛔ No detection in tile at (6144, 2048) → skipped.\n",
            "⛔ No detection in tile at (7168, 2048) → skipped.\n",
            "⛔ No detection in tile at (8192, 2048) → skipped.\n",
            "⛔ No detection in tile at (9216, 2048) → skipped.\n",
            "⛔ No detection in tile at (0, 3072) → skipped.\n",
            "⛔ No detection in tile at (1024, 3072) → skipped.\n",
            "⛔ No detection in tile at (2048, 3072) → skipped.\n",
            "✅ Detected objects in tile at (3072, 3072) → saved.\n",
            "✅ Detected objects in tile at (4096, 3072) → saved.\n",
            "⛔ No detection in tile at (5120, 3072) → skipped.\n",
            "⛔ No detection in tile at (6144, 3072) → skipped.\n",
            "⛔ No detection in tile at (7168, 3072) → skipped.\n",
            "⛔ No detection in tile at (8192, 3072) → skipped.\n",
            "✅ Detected objects in tile at (9216, 3072) → saved.\n",
            "⛔ No detection in tile at (0, 4096) → skipped.\n",
            "⛔ No detection in tile at (1024, 4096) → skipped.\n",
            "⛔ No detection in tile at (2048, 4096) → skipped.\n",
            "⛔ No detection in tile at (3072, 4096) → skipped.\n",
            "✅ Detected objects in tile at (4096, 4096) → saved.\n",
            "✅ Detected objects in tile at (5120, 4096) → saved.\n",
            "⛔ No detection in tile at (6144, 4096) → skipped.\n",
            "⛔ No detection in tile at (7168, 4096) → skipped.\n",
            "⛔ No detection in tile at (8192, 4096) → skipped.\n",
            "⛔ No detection in tile at (9216, 4096) → skipped.\n",
            "⛔ No detection in tile at (0, 5120) → skipped.\n",
            "⛔ No detection in tile at (1024, 5120) → skipped.\n",
            "✅ Detected objects in tile at (2048, 5120) → saved.\n",
            "⛔ No detection in tile at (3072, 5120) → skipped.\n",
            "✅ Detected objects in tile at (4096, 5120) → saved.\n",
            "⛔ No detection in tile at (5120, 5120) → skipped.\n",
            "⛔ No detection in tile at (6144, 5120) → skipped.\n",
            "⛔ No detection in tile at (7168, 5120) → skipped.\n",
            "⛔ No detection in tile at (8192, 5120) → skipped.\n",
            "⛔ No detection in tile at (9216, 5120) → skipped.\n",
            "⛔ No detection in tile at (0, 6144) → skipped.\n",
            "⛔ No detection in tile at (1024, 6144) → skipped.\n",
            "⛔ No detection in tile at (2048, 6144) → skipped.\n",
            "⛔ No detection in tile at (3072, 6144) → skipped.\n",
            "✅ Detected objects in tile at (4096, 6144) → saved.\n",
            "⛔ No detection in tile at (5120, 6144) → skipped.\n",
            "⛔ No detection in tile at (6144, 6144) → skipped.\n",
            "⛔ No detection in tile at (7168, 6144) → skipped.\n",
            "⛔ No detection in tile at (8192, 6144) → skipped.\n",
            "✅ Detected objects in tile at (9216, 6144) → saved.\n",
            "⛔ No detection in tile at (0, 7168) → skipped.\n",
            "⛔ No detection in tile at (1024, 7168) → skipped.\n",
            "⛔ No detection in tile at (2048, 7168) → skipped.\n",
            "⛔ No detection in tile at (3072, 7168) → skipped.\n",
            "⛔ No detection in tile at (4096, 7168) → skipped.\n",
            "⛔ No detection in tile at (5120, 7168) → skipped.\n",
            "⛔ No detection in tile at (6144, 7168) → skipped.\n",
            "✅ Detected objects in tile at (7168, 7168) → saved.\n",
            "⛔ No detection in tile at (8192, 7168) → skipped.\n",
            "⛔ No detection in tile at (9216, 7168) → skipped.\n",
            "⛔ No detection in tile at (0, 8192) → skipped.\n",
            "⛔ No detection in tile at (1024, 8192) → skipped.\n",
            "⛔ No detection in tile at (2048, 8192) → skipped.\n",
            "⛔ No detection in tile at (3072, 8192) → skipped.\n",
            "⛔ No detection in tile at (4096, 8192) → skipped.\n",
            "⛔ No detection in tile at (5120, 8192) → skipped.\n",
            "⛔ No detection in tile at (6144, 8192) → skipped.\n",
            "⛔ No detection in tile at (7168, 8192) → skipped.\n",
            "⛔ No detection in tile at (8192, 8192) → skipped.\n",
            "⛔ No detection in tile at (9216, 8192) → skipped.\n",
            "⛔ No detection in tile at (0, 9216) → skipped.\n",
            "⛔ No detection in tile at (1024, 9216) → skipped.\n",
            "⛔ No detection in tile at (2048, 9216) → skipped.\n",
            "⛔ No detection in tile at (3072, 9216) → skipped.\n",
            "⛔ No detection in tile at (4096, 9216) → skipped.\n",
            "⛔ No detection in tile at (5120, 9216) → skipped.\n",
            "⛔ No detection in tile at (6144, 9216) → skipped.\n",
            "✅ Detected objects in tile at (7168, 9216) → saved.\n",
            "✅ Detected objects in tile at (8192, 9216) → saved.\n",
            "✅ Detected objects in tile at (9216, 9216) → saved.\n"
          ]
        }
      ]
    },
    {
      "cell_type": "code",
      "source": [
        "import shutil\n",
        "\n",
        "# Replace 'folder_name' with the actual folder path you want to delete\n",
        "folder_path = '/content/detected_tiles'\n",
        "\n",
        "# Delete the folder\n",
        "shutil.rmtree(folder_path)\n",
        "\n",
        "print(f\"✅ Deleted folder: {folder_path}\")\n"
      ],
      "metadata": {
        "colab": {
          "base_uri": "https://localhost:8080/"
        },
        "id": "D91L2xDvH2RI",
        "outputId": "155b6f33-400c-45a2-a34f-6933d2e40343"
      },
      "execution_count": 21,
      "outputs": [
        {
          "output_type": "stream",
          "name": "stdout",
          "text": [
            "✅ Deleted folder: /content/detected_tiles\n"
          ]
        }
      ]
    },
    {
      "cell_type": "code",
      "source": [
        "import os\n",
        "import cv2\n",
        "from ultralytics import YOLO\n",
        "\n",
        "# Load YOLOv8 model\n",
        "# Load the model\n",
        "model = YOLO('/content/runs/detect/satellite_model2/weights/best.pt')\n",
        "\n",
        "\n",
        "# Load your large image\n",
        "img = cv2.imread(\"/content/stitched_satellite_image.png\")\n",
        "H, W, _ = img.shape\n",
        "\n",
        "# Parameters\n",
        "tile_size = 1024\n",
        "stride = 1024\n",
        "os.makedirs(\"detected_tiles3\", exist_ok=True)\n",
        "\n",
        "# Class names\n",
        "class_names = model.names  # {0: 'building', 1: 'vehicle', ...}\n",
        "\n",
        "# Tiling and detection\n",
        "for y in range(0, H, stride):\n",
        "    for x in range(0, W, stride):\n",
        "        tile = img[y:y + tile_size, x:x + tile_size]\n",
        "\n",
        "        if tile.shape[0] != tile_size or tile.shape[1] != tile_size:\n",
        "            continue\n",
        "\n",
        "        # Save temp tile\n",
        "        tile_path = \"temp_tile.png\"\n",
        "        cv2.imwrite(tile_path, tile)\n",
        "\n",
        "        # Inference\n",
        "        results = model(tile_path, imgsz=1024, conf=0.25, verbose=False)\n",
        "\n",
        "        # Check for detections\n",
        "        if len(results[0].boxes) > 0:\n",
        "            # Draw boxes and labels on the tile\n",
        "            for box in results[0].boxes:\n",
        "                # Get box coords\n",
        "                x1, y1, x2, y2 = map(int, box.xyxy[0].tolist())\n",
        "                cls_id = int(box.cls[0])\n",
        "                conf = float(box.conf[0])\n",
        "\n",
        "                label = f\"{class_names[cls_id]} {conf:.2f}\"\n",
        "\n",
        "                # Draw rectangle and label\n",
        "                cv2.rectangle(tile, (x1, y1), (x2, y2), (0, 255, 0), 2)\n",
        "                cv2.putText(tile, label, (x1, y1 - 5), cv2.FONT_HERSHEY_SIMPLEX,\n",
        "                            0.5, (255, 255, 255), 2, lineType=cv2.LINE_AA)\n",
        "\n",
        "            # Save the annotated tile\n",
        "            save_path = f\"detected_tiles/tile_{x}_{y}.png\"\n",
        "            cv2.imwrite(save_path, tile)\n",
        "            print(f\"✅ Detected & saved annotated tile ({x}, {y})\")\n",
        "        else:\n",
        "            print(f\"⛔ No detection in tile ({x}, {y})\")\n"
      ],
      "metadata": {
        "colab": {
          "base_uri": "https://localhost:8080/"
        },
        "id": "nKrdIUaEIFnf",
        "outputId": "e520badd-1359-4bb1-f15b-611696cac652"
      },
      "execution_count": 25,
      "outputs": [
        {
          "output_type": "stream",
          "name": "stdout",
          "text": [
            "⛔ No detection in tile (0, 0)\n",
            "⛔ No detection in tile (1024, 0)\n",
            "⛔ No detection in tile (2048, 0)\n",
            "✅ Detected & saved annotated tile (3072, 0)\n",
            "⛔ No detection in tile (4096, 0)\n",
            "⛔ No detection in tile (5120, 0)\n",
            "⛔ No detection in tile (6144, 0)\n",
            "✅ Detected & saved annotated tile (7168, 0)\n",
            "✅ Detected & saved annotated tile (8192, 0)\n",
            "✅ Detected & saved annotated tile (9216, 0)\n",
            "⛔ No detection in tile (0, 1024)\n",
            "⛔ No detection in tile (1024, 1024)\n",
            "✅ Detected & saved annotated tile (2048, 1024)\n",
            "⛔ No detection in tile (3072, 1024)\n",
            "⛔ No detection in tile (4096, 1024)\n",
            "⛔ No detection in tile (5120, 1024)\n",
            "⛔ No detection in tile (6144, 1024)\n",
            "✅ Detected & saved annotated tile (7168, 1024)\n",
            "⛔ No detection in tile (8192, 1024)\n",
            "⛔ No detection in tile (9216, 1024)\n",
            "⛔ No detection in tile (0, 2048)\n",
            "✅ Detected & saved annotated tile (1024, 2048)\n",
            "⛔ No detection in tile (2048, 2048)\n",
            "✅ Detected & saved annotated tile (3072, 2048)\n",
            "⛔ No detection in tile (4096, 2048)\n",
            "⛔ No detection in tile (5120, 2048)\n",
            "⛔ No detection in tile (6144, 2048)\n",
            "⛔ No detection in tile (7168, 2048)\n",
            "⛔ No detection in tile (8192, 2048)\n",
            "⛔ No detection in tile (9216, 2048)\n",
            "⛔ No detection in tile (0, 3072)\n",
            "⛔ No detection in tile (1024, 3072)\n",
            "⛔ No detection in tile (2048, 3072)\n",
            "✅ Detected & saved annotated tile (3072, 3072)\n",
            "✅ Detected & saved annotated tile (4096, 3072)\n",
            "⛔ No detection in tile (5120, 3072)\n",
            "⛔ No detection in tile (6144, 3072)\n",
            "⛔ No detection in tile (7168, 3072)\n",
            "⛔ No detection in tile (8192, 3072)\n",
            "✅ Detected & saved annotated tile (9216, 3072)\n",
            "⛔ No detection in tile (0, 4096)\n",
            "⛔ No detection in tile (1024, 4096)\n",
            "⛔ No detection in tile (2048, 4096)\n",
            "⛔ No detection in tile (3072, 4096)\n",
            "✅ Detected & saved annotated tile (4096, 4096)\n",
            "✅ Detected & saved annotated tile (5120, 4096)\n",
            "⛔ No detection in tile (6144, 4096)\n",
            "⛔ No detection in tile (7168, 4096)\n",
            "⛔ No detection in tile (8192, 4096)\n",
            "⛔ No detection in tile (9216, 4096)\n",
            "⛔ No detection in tile (0, 5120)\n",
            "⛔ No detection in tile (1024, 5120)\n",
            "✅ Detected & saved annotated tile (2048, 5120)\n",
            "⛔ No detection in tile (3072, 5120)\n",
            "✅ Detected & saved annotated tile (4096, 5120)\n",
            "⛔ No detection in tile (5120, 5120)\n",
            "⛔ No detection in tile (6144, 5120)\n",
            "⛔ No detection in tile (7168, 5120)\n",
            "⛔ No detection in tile (8192, 5120)\n",
            "⛔ No detection in tile (9216, 5120)\n",
            "⛔ No detection in tile (0, 6144)\n",
            "⛔ No detection in tile (1024, 6144)\n",
            "⛔ No detection in tile (2048, 6144)\n",
            "⛔ No detection in tile (3072, 6144)\n",
            "✅ Detected & saved annotated tile (4096, 6144)\n",
            "⛔ No detection in tile (5120, 6144)\n",
            "⛔ No detection in tile (6144, 6144)\n",
            "⛔ No detection in tile (7168, 6144)\n",
            "⛔ No detection in tile (8192, 6144)\n",
            "✅ Detected & saved annotated tile (9216, 6144)\n",
            "⛔ No detection in tile (0, 7168)\n",
            "⛔ No detection in tile (1024, 7168)\n",
            "⛔ No detection in tile (2048, 7168)\n",
            "⛔ No detection in tile (3072, 7168)\n",
            "⛔ No detection in tile (4096, 7168)\n",
            "⛔ No detection in tile (5120, 7168)\n",
            "⛔ No detection in tile (6144, 7168)\n",
            "✅ Detected & saved annotated tile (7168, 7168)\n",
            "⛔ No detection in tile (8192, 7168)\n",
            "⛔ No detection in tile (9216, 7168)\n",
            "⛔ No detection in tile (0, 8192)\n",
            "⛔ No detection in tile (1024, 8192)\n",
            "⛔ No detection in tile (2048, 8192)\n",
            "⛔ No detection in tile (3072, 8192)\n",
            "⛔ No detection in tile (4096, 8192)\n",
            "⛔ No detection in tile (5120, 8192)\n",
            "⛔ No detection in tile (6144, 8192)\n",
            "⛔ No detection in tile (7168, 8192)\n",
            "⛔ No detection in tile (8192, 8192)\n",
            "⛔ No detection in tile (9216, 8192)\n",
            "⛔ No detection in tile (0, 9216)\n",
            "⛔ No detection in tile (1024, 9216)\n",
            "⛔ No detection in tile (2048, 9216)\n",
            "⛔ No detection in tile (3072, 9216)\n",
            "⛔ No detection in tile (4096, 9216)\n",
            "⛔ No detection in tile (5120, 9216)\n",
            "⛔ No detection in tile (6144, 9216)\n",
            "✅ Detected & saved annotated tile (7168, 9216)\n",
            "✅ Detected & saved annotated tile (8192, 9216)\n",
            "✅ Detected & saved annotated tile (9216, 9216)\n"
          ]
        }
      ]
    },
    {
      "cell_type": "code",
      "source": [
        "!zip -r detected_tiles.zip detected_tiles\n"
      ],
      "metadata": {
        "colab": {
          "base_uri": "https://localhost:8080/"
        },
        "id": "pP5UkRx7JKwJ",
        "outputId": "3f6884d7-e9bf-4903-b632-4de32f765657"
      },
      "execution_count": 26,
      "outputs": [
        {
          "output_type": "stream",
          "name": "stdout",
          "text": [
            "  adding: detected_tiles/ (stored 0%)\n",
            "  adding: detected_tiles/tile_4096_4096.png (deflated 8%)\n",
            "  adding: detected_tiles/tile_9216_6144.png (deflated 6%)\n",
            "  adding: detected_tiles/tile_4096_6144.png (deflated 13%)\n",
            "  adding: detected_tiles/tile_2048_1024.png (deflated 7%)\n",
            "  adding: detected_tiles/tile_5120_4096.png (deflated 2%)\n",
            "  adding: detected_tiles/tile_7168_0.png (deflated 5%)\n",
            "  adding: detected_tiles/tile_3072_0.png (deflated 9%)\n",
            "  adding: detected_tiles/tile_9216_9216.png (deflated 4%)\n",
            "  adding: detected_tiles/tile_9216_3072.png (deflated 4%)\n",
            "  adding: detected_tiles/tile_7168_1024.png (deflated 5%)\n",
            "  adding: detected_tiles/tile_4096_5120.png (deflated 12%)\n",
            "  adding: detected_tiles/tile_7168_9216.png (deflated 11%)\n",
            "  adding: detected_tiles/tile_4096_3072.png (deflated 6%)\n",
            "  adding: detected_tiles/tile_8192_0.png (deflated 4%)\n",
            "  adding: detected_tiles/tile_3072_3072.png (deflated 14%)\n",
            "  adding: detected_tiles/tile_2048_5120.png (deflated 15%)\n",
            "  adding: detected_tiles/tile_9216_0.png (deflated 4%)\n",
            "  adding: detected_tiles/tile_8192_9216.png (deflated 5%)\n",
            "  adding: detected_tiles/tile_7168_7168.png (deflated 5%)\n",
            "  adding: detected_tiles/tile_1024_2048.png (deflated 8%)\n",
            "  adding: detected_tiles/tile_3072_2048.png (deflated 7%)\n"
          ]
        }
      ]
    },
    {
      "cell_type": "code",
      "source": [
        "!zip -r detected_tiles2.zip detected_tiles2\n"
      ],
      "metadata": {
        "colab": {
          "base_uri": "https://localhost:8080/"
        },
        "id": "B2S3FSHwKBe9",
        "outputId": "1373e800-51f2-49c9-d8b7-1b8f44589176"
      },
      "execution_count": 27,
      "outputs": [
        {
          "output_type": "stream",
          "name": "stdout",
          "text": [
            "  adding: detected_tiles2/ (stored 0%)\n"
          ]
        }
      ]
    },
    {
      "cell_type": "code",
      "source": [
        "!zip -r detected_tiles3.zip detected_tiles3\n"
      ],
      "metadata": {
        "colab": {
          "base_uri": "https://localhost:8080/"
        },
        "id": "R-EiATAqKFcH",
        "outputId": "37e33d3e-a7ed-46e1-8f6c-3487a1076478"
      },
      "execution_count": 28,
      "outputs": [
        {
          "output_type": "stream",
          "name": "stdout",
          "text": [
            "  adding: detected_tiles3/ (stored 0%)\n"
          ]
        }
      ]
    },
    {
      "cell_type": "code",
      "source": [],
      "metadata": {
        "id": "sPMdRxSSKHvs"
      },
      "execution_count": null,
      "outputs": []
    }
  ]
}
