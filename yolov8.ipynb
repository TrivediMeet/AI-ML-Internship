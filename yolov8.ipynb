{
  "nbformat": 4,
  "nbformat_minor": 0,
  "metadata": {
    "colab": {
      "provenance": [],
      "gpuType": "T4"
    },
    "kernelspec": {
      "name": "python3",
      "display_name": "Python 3"
    },
    "language_info": {
      "name": "python"
    },
    "accelerator": "GPU"
  },
  "cells": [
    {
      "cell_type": "code",
      "execution_count": null,
      "metadata": {
        "colab": {
          "base_uri": "https://localhost:8080/"
        },
        "id": "LuZPbb7R0cHP",
        "outputId": "56b07365-af1d-424c-9897-784e9084b85d"
      },
      "outputs": [
        {
          "output_type": "stream",
          "name": "stdout",
          "text": [
            "🧹 Old dataset deleted\n"
          ]
        }
      ],
      "source": [
        "!rm -rf /root/.cache/kagglehub/datasets/hassanmojab/xview-dataset\n",
        "print(\"🧹 Old dataset deleted\")"
      ]
    },
    {
      "cell_type": "code",
      "source": [
        "!pip install -q kagglehub\n",
        "\n",
        "import kagglehub\n",
        "\n",
        "# Download the dataset\n",
        "path = kagglehub.dataset_download(\"hassanmojab/xview-dataset\")\n",
        "\n",
        "print(\"✅ Downloaded to:\", path)"
      ],
      "metadata": {
        "colab": {
          "base_uri": "https://localhost:8080/"
        },
        "id": "npUvbk0D0gY9",
        "outputId": "d49b756e-3d8d-4305-dfbb-6ed895ea2bcf"
      },
      "execution_count": null,
      "outputs": [
        {
          "output_type": "stream",
          "name": "stdout",
          "text": [
            "Downloading from https://www.kaggle.com/api/v1/datasets/download/hassanmojab/xview-dataset?dataset_version_number=1...\n"
          ]
        },
        {
          "output_type": "stream",
          "name": "stderr",
          "text": [
            "100%|██████████| 19.4G/19.4G [03:07<00:00, 111MB/s]"
          ]
        },
        {
          "output_type": "stream",
          "name": "stdout",
          "text": [
            "Extracting files...\n"
          ]
        },
        {
          "output_type": "stream",
          "name": "stderr",
          "text": [
            "\n"
          ]
        },
        {
          "output_type": "stream",
          "name": "stdout",
          "text": [
            "✅ Downloaded to: /root/.cache/kagglehub/datasets/hassanmojab/xview-dataset/versions/1\n"
          ]
        }
      ]
    },
    {
      "cell_type": "code",
      "source": [
        "import os\n",
        "\n",
        "path = \"/root/.cache/kagglehub/datasets/hassanmojab/xview-dataset/versions/1\"\n",
        "print(\"📂 Contents of downloaded dataset:\")\n",
        "print(os.listdir(path))"
      ],
      "metadata": {
        "colab": {
          "base_uri": "https://localhost:8080/"
        },
        "id": "Tzo-PExE0wpb",
        "outputId": "2b263828-8312-460e-e80e-dc21e6a6265f"
      },
      "execution_count": null,
      "outputs": [
        {
          "output_type": "stream",
          "name": "stdout",
          "text": [
            "📂 Contents of downloaded dataset:\n",
            "['__notebook_source__.ipynb', 'train_images', 'val_images', 'train_labels']\n"
          ]
        }
      ]
    },
    {
      "cell_type": "code",
      "source": [
        "pip cache purge"
      ],
      "metadata": {
        "colab": {
          "base_uri": "https://localhost:8080/"
        },
        "id": "EyOjaeny3OZz",
        "outputId": "4c42bbdb-44c0-4d95-ac3f-1707d0c291ac"
      },
      "execution_count": null,
      "outputs": [
        {
          "output_type": "stream",
          "name": "stdout",
          "text": [
            "\u001b[33mWARNING: No matching packages\u001b[0m\u001b[33m\n",
            "\u001b[0mFiles removed: 0\n"
          ]
        }
      ]
    },
    {
      "cell_type": "code",
      "source": [
        "!pip install -q ultralytics geopandas seaborn matplotlib"
      ],
      "metadata": {
        "colab": {
          "base_uri": "https://localhost:8080/"
        },
        "id": "KN1hRYrE3hQI",
        "outputId": "e3b1a420-028d-4d36-b2b6-11ce0008ea63"
      },
      "execution_count": null,
      "outputs": [
        {
          "output_type": "stream",
          "name": "stdout",
          "text": [
            "\u001b[2K   \u001b[90m━━━━━━━━━━━━━━━━━━━━━━━━━━━━━━━━━━━━━━━━\u001b[0m \u001b[32m1.0/1.0 MB\u001b[0m \u001b[31m26.6 MB/s\u001b[0m eta \u001b[36m0:00:00\u001b[0m\n",
            "\u001b[2K   \u001b[90m━━━━━━━━━━━━━━━━━━━━━━━━━━━━━━━━━━━━━━━━\u001b[0m \u001b[32m363.4/363.4 MB\u001b[0m \u001b[31m3.5 MB/s\u001b[0m eta \u001b[36m0:00:00\u001b[0m\n",
            "\u001b[2K   \u001b[90m━━━━━━━━━━━━━━━━━━━━━━━━━━━━━━━━━━━━━━━━\u001b[0m \u001b[32m13.8/13.8 MB\u001b[0m \u001b[31m122.6 MB/s\u001b[0m eta \u001b[36m0:00:00\u001b[0m\n",
            "\u001b[2K   \u001b[90m━━━━━━━━━━━━━━━━━━━━━━━━━━━━━━━━━━━━━━━━\u001b[0m \u001b[32m24.6/24.6 MB\u001b[0m \u001b[31m88.8 MB/s\u001b[0m eta \u001b[36m0:00:00\u001b[0m\n",
            "\u001b[2K   \u001b[90m━━━━━━━━━━━━━━━━━━━━━━━━━━━━━━━━━━━━━━━━\u001b[0m \u001b[32m883.7/883.7 kB\u001b[0m \u001b[31m57.6 MB/s\u001b[0m eta \u001b[36m0:00:00\u001b[0m\n",
            "\u001b[2K   \u001b[90m━━━━━━━━━━━━━━━━━━━━━━━━━━━━━━━━━━━━━━━━\u001b[0m \u001b[32m664.8/664.8 MB\u001b[0m \u001b[31m2.8 MB/s\u001b[0m eta \u001b[36m0:00:00\u001b[0m\n",
            "\u001b[2K   \u001b[90m━━━━━━━━━━━━━━━━━━━━━━━━━━━━━━━━━━━━━━━━\u001b[0m \u001b[32m211.5/211.5 MB\u001b[0m \u001b[31m5.5 MB/s\u001b[0m eta \u001b[36m0:00:00\u001b[0m\n",
            "\u001b[2K   \u001b[90m━━━━━━━━━━━━━━━━━━━━━━━━━━━━━━━━━━━━━━━━\u001b[0m \u001b[32m56.3/56.3 MB\u001b[0m \u001b[31m12.8 MB/s\u001b[0m eta \u001b[36m0:00:00\u001b[0m\n",
            "\u001b[2K   \u001b[90m━━━━━━━━━━━━━━━━━━━━━━━━━━━━━━━━━━━━━━━━\u001b[0m \u001b[32m127.9/127.9 MB\u001b[0m \u001b[31m7.2 MB/s\u001b[0m eta \u001b[36m0:00:00\u001b[0m\n",
            "\u001b[2K   \u001b[90m━━━━━━━━━━━━━━━━━━━━━━━━━━━━━━━━━━━━━━━━\u001b[0m \u001b[32m207.5/207.5 MB\u001b[0m \u001b[31m5.4 MB/s\u001b[0m eta \u001b[36m0:00:00\u001b[0m\n",
            "\u001b[2K   \u001b[90m━━━━━━━━━━━━━━━━━━━━━━━━━━━━━━━━━━━━━━━━\u001b[0m \u001b[32m21.1/21.1 MB\u001b[0m \u001b[31m43.6 MB/s\u001b[0m eta \u001b[36m0:00:00\u001b[0m\n",
            "\u001b[?25h"
          ]
        }
      ]
    },
    {
      "cell_type": "code",
      "source": [
        "import os\n",
        "import json\n",
        "import shutil\n",
        "import yaml\n",
        "import seaborn as sns\n",
        "import matplotlib.pyplot as plt\n",
        "from collections import Counter\n",
        "from PIL import Image\n",
        "from ultralytics import YOLO"
      ],
      "metadata": {
        "id": "i8FP22e_3nFf"
      },
      "execution_count": null,
      "outputs": []
    },
    {
      "cell_type": "code",
      "source": [
        "# ===============================\n",
        "# 📂 DATASET PATHS\n",
        "# ===============================\n",
        "base_path = \"/root/.cache/kagglehub/datasets/hassanmojab/xview-dataset/versions/1\"\n",
        "train_img_dir = os.path.join(base_path, \"train_images\")\n",
        "val_img_dir = os.path.join(base_path, \"val_images\")\n",
        "label_file = os.path.join(base_path, \"train_labels\", \"xView_train.geojson\")"
      ],
      "metadata": {
        "id": "5qQaI4EO4DyT"
      },
      "execution_count": null,
      "outputs": []
    },
    {
      "cell_type": "code",
      "source": [
        "label_file = os.path.join(base_path, \"train_labels\", \"train_labels\", \"xView_train.geojson\")"
      ],
      "metadata": {
        "id": "L6WnxfzQ-2td"
      },
      "execution_count": null,
      "outputs": []
    },
    {
      "cell_type": "code",
      "source": [
        "# ===============================\n",
        "# 🔠 CLASS MAPPING\n",
        "# ===============================\n",
        "xview_classes = {\n",
        "    0: \"Fixed-wing Aircraft\", 1: \"Small Aircraft\", 2: \"Cargo Plane\", 3: \"Helicopter\",\n",
        "    4: \"Passenger Vehicle\", 5: \"Small Car\", 6: \"Bus\", 7: \"Pickup Truck\",\n",
        "    8: \"Utility Truck\", 9: \"Truck\", 10: \"Cargo Truck\", 11: \"Truck w/Box\",\n",
        "    12: \"Truck Tractor\", 13: \"Trailer\", 14: \"Truck w/Flatbed\", 15: \"Truck w/Liquid\",\n",
        "    16: \"Crane Truck\", 17: \"Railway Vehicle\", 18: \"Passenger Car\", 19: \"Cargo Car\",\n",
        "    20: \"Flat Car\", 21: \"Tank car\", 22: \"Locomotive\", 23: \"Container Ship\",\n",
        "    24: \"Liner Ship\", 25: \"Fishing Vessel\", 26: \"Oil Tanker\", 27: \"Engineering Vehicle\",\n",
        "    28: \"Tower crane\", 29: \"Container Crane\", 30: \"Reach Stacker\", 31: \"Straddle Carrier\",\n",
        "    32: \"Mobile Crane\", 33: \"Dump Truck\", 34: \"Haul Truck\", 35: \"Scraper/Tractor\",\n",
        "    36: \"Front Loader/Bulldozer\", 37: \"Excavator\", 38: \"Cement Mixer\", 39: \"Ground Grader\",\n",
        "    40: \"Hut/Tent\", 41: \"Shed\", 42: \"Building\", 43: \"Aircraft Hangar\", 44: \"Damaged Building\",\n",
        "    45: \"Facility\", 46: \"Construction Site\", 47: \"Vehicle Lot\", 48: \"Helipad\",\n",
        "    49: \"Storage Tank\", 50: \"Shipping Container Lot\", 51: \"Shipping Container\", 52: \"Pylon\",\n",
        "    53: \"Tower\", 54: \"Wind Turbine\", 55: \"Tower-like Structure\", 56: \"Container/Truck\",\n",
        "    57: \"Oil Rig\", 58: \"Pier\", 59: \"Dock\"\n",
        "}\n",
        "\n",
        "sorted_ids = sorted(xview_classes.keys())\n",
        "typeid_to_yolo = {tid: i for i, tid in enumerate(sorted_ids)}\n",
        "class_names = [xview_classes[tid] for tid in sorted_ids]"
      ],
      "metadata": {
        "id": "OenDMYld4V1b"
      },
      "execution_count": null,
      "outputs": []
    },
    {
      "cell_type": "code",
      "source": [
        "# ===============================\n",
        "# 📁 OUTPUT STRUCTURE\n",
        "# ===============================\n",
        "os.makedirs(\"images/train\", exist_ok=True)\n",
        "os.makedirs(\"images/val\", exist_ok=True)"
      ],
      "metadata": {
        "id": "moW6k6nU4YF0"
      },
      "execution_count": null,
      "outputs": []
    },
    {
      "cell_type": "code",
      "source": [
        "os.makedirs(\"labels/train\", exist_ok=True)\n",
        "os.makedirs(\"labels/val\", exist_ok=True)"
      ],
      "metadata": {
        "id": "8cQssnkQAfMF"
      },
      "execution_count": null,
      "outputs": []
    },
    {
      "cell_type": "code",
      "source": [
        "# # Copy images\n",
        "# for fname in os.listdir(train_img_dir):\n",
        "#     if fname.endswith(\".tif\"):\n",
        "#         shutil.copy(os.path.join(train_img_dir, fname), os.path.join(\"images/train\", fname))\n",
        "\n",
        "# for fname in os.listdir(val_img_dir):\n",
        "#     if fname.endswith(\".tif\"):\n",
        "#         shutil.copy(os.path.join(val_img_dir, fname), os.path.join(\"images/val\", fname))"
      ],
      "metadata": {
        "id": "_AZ0mQDy4akb"
      },
      "execution_count": null,
      "outputs": []
    },
    {
      "cell_type": "code",
      "source": [
        "base_path = \"/root/.cache/kagglehub/datasets/hassanmojab/xview-dataset/versions/1\"\n",
        "\n",
        "train_img_src = os.path.join(base_path, \"train_images\", \"train_images\")\n",
        "val_img_src   = os.path.join(base_path, \"val_images\", \"val_images\")\n",
        "\n",
        "label_file = os.path.join(base_path, \"train_labels\", \"xView_train.geojson\")"
      ],
      "metadata": {
        "id": "oEVITQhyAJsP"
      },
      "execution_count": null,
      "outputs": []
    },
    {
      "cell_type": "code",
      "source": [
        "# ===============================\n",
        "# 5️⃣ Convert GeoJSON to YOLO Labels\n",
        "# ===============================\n",
        "with open(label_file) as f:\n",
        "    data = json.load(f)\n",
        "\n",
        "created_labels = 0\n",
        "\n",
        "for feat in data[\"features\"]:\n",
        "    props = feat[\"properties\"]\n",
        "    image_id = props.get(\"image_id\")\n",
        "    bbox = props.get(\"bounds_imcoords\")\n",
        "    type_id = props.get(\"type_id\")\n",
        "\n",
        "    if not image_id or not bbox or type_id not in typeid_to_yolo:\n",
        "        continue\n",
        "\n",
        "    try:\n",
        "        x1, y1, x2, y2 = map(float, bbox.split(','))\n",
        "    except:\n",
        "        continue\n",
        "\n",
        "    # Determine if the image is in train or val set\n",
        "    if os.path.exists(os.path.join(\"images/train\", image_id)):\n",
        "        label_path = os.path.join(\"labels/train\", os.path.splitext(image_id)[0] + \".txt\")\n",
        "        img_path = os.path.join(\"images/train\", image_id)\n",
        "    elif os.path.exists(os.path.join(\"images/val\", image_id)):\n",
        "        label_path = os.path.join(\"labels/val\", os.path.splitext(image_id)[0] + \".txt\")\n",
        "        img_path = os.path.join(\"images/val\", image_id)\n",
        "    else:\n",
        "        continue\n",
        "\n",
        "    with Image.open(img_path) as img:\n",
        "        img_w, img_h = img.size\n",
        "\n",
        "    x_center = ((x1 + x2) / 2) / img_w\n",
        "    y_center = ((y1 + y2) / 2) / img_h\n",
        "    w = (x2 - x1) / img_w\n",
        "    h = (y2 - y1) / img_h\n",
        "    yolo_id = typeid_to_yolo[type_id]\n",
        "\n",
        "    with open(label_path, \"a\") as out:\n",
        "        out.write(f\"{yolo_id} {x_center:.6f} {y_center:.6f} {w:.6f} {h:.6f}\\n\")\n",
        "        created_labels += 1\n",
        "\n",
        "print(f\"✅ Created {created_labels} YOLO-format labels\")"
      ],
      "metadata": {
        "colab": {
          "base_uri": "https://localhost:8080/"
        },
        "id": "vbJrZs-N4rei",
        "outputId": "db9dbb6a-7d14-4df2-e549-3081895ebdba"
      },
      "execution_count": null,
      "outputs": [
        {
          "output_type": "stream",
          "name": "stdout",
          "text": [
            "✅ Created 265522 YOLO-format labels\n"
          ]
        }
      ]
    },
    {
      "cell_type": "code",
      "source": [
        "# ===============================\n",
        "# 📄 CREATE data.yaml\n",
        "# ===============================\n",
        "data_yaml = {\n",
        "    'train': 'images/train',\n",
        "    'val': 'images/val',\n",
        "    'nc': len(class_names),\n",
        "    'names': class_names\n",
        "}\n",
        "\n",
        "with open(\"data.yaml\", \"w\") as f:\n",
        "    yaml.dump(data_yaml)\n",
        "\n",
        "print(\"✅ data.yaml created!\")"
      ],
      "metadata": {
        "colab": {
          "base_uri": "https://localhost:8080/"
        },
        "id": "l6CyCg2_5HQg",
        "outputId": "04fc245d-edcf-4d15-ea1a-8b55abb0a8cf"
      },
      "execution_count": null,
      "outputs": [
        {
          "output_type": "stream",
          "name": "stdout",
          "text": [
            "✅ data.yaml created!\n"
          ]
        }
      ]
    },
    {
      "cell_type": "code",
      "source": [
        "import yaml\n",
        "\n",
        "xview_names = [\n",
        "    \"Fixed-wing Aircraft\", \"Small Aircraft\", \"Cargo Plane\", \"Helicopter\", \"Passenger Vehicle\", \"Small Car\", \"Bus\",\n",
        "    \"Pickup Truck\", \"Utility Truck\", \"Truck\", \"Cargo Truck\", \"Truck w/Box\", \"Truck Tractor\", \"Trailer\",\n",
        "    \"Truck w/Flatbed\", \"Truck w/Liquid\", \"Crane Truck\", \"Railway Vehicle\", \"Passenger Car\", \"Cargo Car\",\n",
        "    \"Flat Car\", \"Tank car\", \"Locomotive\", \"Container Ship\", \"Liner Ship\", \"Fishing Vessel\", \"Oil Tanker\",\n",
        "    \"Engineering Vehicle\", \"Tower crane\", \"Container Crane\", \"Reach Stacker\", \"Straddle Carrier\", \"Mobile Crane\",\n",
        "    \"Dump Truck\", \"Haul Truck\", \"Scraper/Tractor\", \"Front Loader/Bulldozer\", \"Excavator\", \"Cement Mixer\",\n",
        "    \"Ground Grader\", \"Hut/Tent\", \"Shed\", \"Building\", \"Aircraft Hangar\", \"Damaged Building\", \"Facility\",\n",
        "    \"Construction Site\", \"Vehicle Lot\", \"Helipad\", \"Storage Tank\", \"Shipping Container Lot\", \"Shipping Container\",\n",
        "    \"Pylon\", \"Tower\", \"Wind Turbine\", \"Tower-like Structure\", \"Container/Truck\", \"Oil Rig\", \"Pier\", \"Dock\"\n",
        "]\n",
        "\n",
        "data_yaml = {\n",
        "    'train': 'images/train',\n",
        "    'val': 'images/val',\n",
        "    'nc': 60,\n",
        "    'names': xview_names\n",
        "}\n",
        "\n",
        "# Overwrite and save cleanly\n",
        "with open(\"data.yaml\", \"w\", encoding='utf-8') as f:\n",
        "    yaml.dump(data_yaml, f, default_flow_style=False)\n",
        "\n",
        "print(\"✅ data.yaml written successfully\")\n",
        "\n",
        "# Let's also double-check:\n",
        "with open(\"data.yaml\", \"r\") as f:\n",
        "    print(\"\\n📄 data.yaml preview:\")\n",
        "    print(f.read())\n"
      ],
      "metadata": {
        "colab": {
          "base_uri": "https://localhost:8080/"
        },
        "id": "VCh8T1zy7M0l",
        "outputId": "c3835d01-ad0b-417d-99bf-abd84189513f"
      },
      "execution_count": null,
      "outputs": [
        {
          "output_type": "stream",
          "name": "stdout",
          "text": [
            "✅ data.yaml written successfully\n",
            "\n",
            "📄 data.yaml preview:\n",
            "names:\n",
            "- Fixed-wing Aircraft\n",
            "- Small Aircraft\n",
            "- Cargo Plane\n",
            "- Helicopter\n",
            "- Passenger Vehicle\n",
            "- Small Car\n",
            "- Bus\n",
            "- Pickup Truck\n",
            "- Utility Truck\n",
            "- Truck\n",
            "- Cargo Truck\n",
            "- Truck w/Box\n",
            "- Truck Tractor\n",
            "- Trailer\n",
            "- Truck w/Flatbed\n",
            "- Truck w/Liquid\n",
            "- Crane Truck\n",
            "- Railway Vehicle\n",
            "- Passenger Car\n",
            "- Cargo Car\n",
            "- Flat Car\n",
            "- Tank car\n",
            "- Locomotive\n",
            "- Container Ship\n",
            "- Liner Ship\n",
            "- Fishing Vessel\n",
            "- Oil Tanker\n",
            "- Engineering Vehicle\n",
            "- Tower crane\n",
            "- Container Crane\n",
            "- Reach Stacker\n",
            "- Straddle Carrier\n",
            "- Mobile Crane\n",
            "- Dump Truck\n",
            "- Haul Truck\n",
            "- Scraper/Tractor\n",
            "- Front Loader/Bulldozer\n",
            "- Excavator\n",
            "- Cement Mixer\n",
            "- Ground Grader\n",
            "- Hut/Tent\n",
            "- Shed\n",
            "- Building\n",
            "- Aircraft Hangar\n",
            "- Damaged Building\n",
            "- Facility\n",
            "- Construction Site\n",
            "- Vehicle Lot\n",
            "- Helipad\n",
            "- Storage Tank\n",
            "- Shipping Container Lot\n",
            "- Shipping Container\n",
            "- Pylon\n",
            "- Tower\n",
            "- Wind Turbine\n",
            "- Tower-like Structure\n",
            "- Container/Truck\n",
            "- Oil Rig\n",
            "- Pier\n",
            "- Dock\n",
            "nc: 60\n",
            "train: images/train\n",
            "val: images/val\n",
            "\n"
          ]
        }
      ]
    },
    {
      "cell_type": "code",
      "source": [
        "# ===============================\n",
        "# 🧠 TRAIN YOLOv8\n",
        "# ===============================\n",
        "model = YOLO(\"yolov8m.pt\")  # Use 'n', 's', 'l', or 'x' as needed\n",
        "\n",
        "model.train(\n",
        "    data=\"data.yaml\",\n",
        "    epochs=100,\n",
        "    imgsz=640,\n",
        "    patience=10,\n",
        "    batch=16,\n",
        "    workers=2,\n",
        "    name=\"xview_yolo8\",\n",
        "    augment=True,\n",
        "    pretrained=True,\n",
        "    verbose=True\n",
        ")"
      ],
      "metadata": {
        "colab": {
          "base_uri": "https://localhost:8080/",
          "height": 1000
        },
        "id": "NnGhTi6d5X6x",
        "outputId": "82e512cb-289a-4a9c-d460-2ebbfef1a69f"
      },
      "execution_count": null,
      "outputs": [
        {
          "output_type": "stream",
          "name": "stdout",
          "text": [
            "Ultralytics 8.3.144 🚀 Python-3.11.12 torch-2.6.0+cu124 CUDA:0 (Tesla T4, 15095MiB)\n",
            "\u001b[34m\u001b[1mengine/trainer: \u001b[0magnostic_nms=False, amp=True, augment=True, auto_augment=randaugment, batch=16, bgr=0.0, box=7.5, cache=False, cfg=None, classes=None, close_mosaic=10, cls=0.5, conf=None, copy_paste=0.0, copy_paste_mode=flip, cos_lr=False, cutmix=0.0, data=data.yaml, degrees=0.0, deterministic=True, device=None, dfl=1.5, dnn=False, dropout=0.0, dynamic=False, embed=None, epochs=100, erasing=0.4, exist_ok=False, fliplr=0.5, flipud=0.0, format=torchscript, fraction=1.0, freeze=None, half=False, hsv_h=0.015, hsv_s=0.7, hsv_v=0.4, imgsz=640, int8=False, iou=0.7, keras=False, kobj=1.0, line_width=None, lr0=0.01, lrf=0.01, mask_ratio=4, max_det=300, mixup=0.0, mode=train, model=yolov8m.pt, momentum=0.937, mosaic=1.0, multi_scale=False, name=xview_yolo83, nbs=64, nms=False, opset=None, optimize=False, optimizer=auto, overlap_mask=True, patience=10, perspective=0.0, plots=True, pose=12.0, pretrained=True, profile=False, project=None, rect=False, resume=False, retina_masks=False, save=True, save_conf=False, save_crop=False, save_dir=runs/detect/xview_yolo83, save_frames=False, save_json=False, save_period=-1, save_txt=False, scale=0.5, seed=0, shear=0.0, show=False, show_boxes=True, show_conf=True, show_labels=True, simplify=True, single_cls=False, source=None, split=val, stream_buffer=False, task=detect, time=None, tracker=botsort.yaml, translate=0.1, val=True, verbose=True, vid_stride=1, visualize=False, warmup_bias_lr=0.1, warmup_epochs=3.0, warmup_momentum=0.8, weight_decay=0.0005, workers=2, workspace=None\n",
            "Overriding model.yaml nc=80 with nc=60\n",
            "\n",
            "                   from  n    params  module                                       arguments                     \n",
            "  0                  -1  1      1392  ultralytics.nn.modules.conv.Conv             [3, 48, 3, 2]                 \n",
            "  1                  -1  1     41664  ultralytics.nn.modules.conv.Conv             [48, 96, 3, 2]                \n",
            "  2                  -1  2    111360  ultralytics.nn.modules.block.C2f             [96, 96, 2, True]             \n",
            "  3                  -1  1    166272  ultralytics.nn.modules.conv.Conv             [96, 192, 3, 2]               \n",
            "  4                  -1  4    813312  ultralytics.nn.modules.block.C2f             [192, 192, 4, True]           \n",
            "  5                  -1  1    664320  ultralytics.nn.modules.conv.Conv             [192, 384, 3, 2]              \n",
            "  6                  -1  4   3248640  ultralytics.nn.modules.block.C2f             [384, 384, 4, True]           \n",
            "  7                  -1  1   1991808  ultralytics.nn.modules.conv.Conv             [384, 576, 3, 2]              \n",
            "  8                  -1  2   3985920  ultralytics.nn.modules.block.C2f             [576, 576, 2, True]           \n",
            "  9                  -1  1    831168  ultralytics.nn.modules.block.SPPF            [576, 576, 5]                 \n",
            " 10                  -1  1         0  torch.nn.modules.upsampling.Upsample         [None, 2, 'nearest']          \n",
            " 11             [-1, 6]  1         0  ultralytics.nn.modules.conv.Concat           [1]                           \n",
            " 12                  -1  2   1993728  ultralytics.nn.modules.block.C2f             [960, 384, 2]                 \n",
            " 13                  -1  1         0  torch.nn.modules.upsampling.Upsample         [None, 2, 'nearest']          \n",
            " 14             [-1, 4]  1         0  ultralytics.nn.modules.conv.Concat           [1]                           \n",
            " 15                  -1  2    517632  ultralytics.nn.modules.block.C2f             [576, 192, 2]                 \n",
            " 16                  -1  1    332160  ultralytics.nn.modules.conv.Conv             [192, 192, 3, 2]              \n",
            " 17            [-1, 12]  1         0  ultralytics.nn.modules.conv.Concat           [1]                           \n",
            " 18                  -1  2   1846272  ultralytics.nn.modules.block.C2f             [576, 384, 2]                 \n",
            " 19                  -1  1   1327872  ultralytics.nn.modules.conv.Conv             [384, 384, 3, 2]              \n",
            " 20             [-1, 9]  1         0  ultralytics.nn.modules.conv.Concat           [1]                           \n",
            " 21                  -1  2   4207104  ultralytics.nn.modules.block.C2f             [960, 576, 2]                 \n",
            " 22        [15, 18, 21]  1   3810436  ultralytics.nn.modules.head.Detect           [60, [192, 384, 576]]         \n",
            "Model summary: 169 layers, 25,891,060 parameters, 25,891,044 gradients, 79.3 GFLOPs\n",
            "\n",
            "Transferred 469/475 items from pretrained weights\n",
            "Freezing layer 'model.22.dfl.conv.weight'\n",
            "\u001b[34m\u001b[1mAMP: \u001b[0mrunning Automatic Mixed Precision (AMP) checks...\n",
            "\u001b[34m\u001b[1mAMP: \u001b[0mchecks passed ✅\n",
            "\u001b[34m\u001b[1mtrain: \u001b[0mFast image access ✅ (ping: 0.0±0.0 ms, read: 182.9±35.5 MB/s, size: 26891.6 KB)\n"
          ]
        },
        {
          "output_type": "stream",
          "name": "stderr",
          "text": [
            "\u001b[34m\u001b[1mtrain: \u001b[0mScanning /content/labels/train... 0 images, 846 backgrounds, 0 corrupt: 100%|██████████| 846/846 [00:07<00:00, 114.31it/s]"
          ]
        },
        {
          "output_type": "stream",
          "name": "stdout",
          "text": [
            "WARNING ⚠️ \u001b[34m\u001b[1mtrain: \u001b[0mNo labels found in /content/labels/train.cache. See https://docs.ultralytics.com/datasets for dataset formatting guidance.\n",
            "\u001b[34m\u001b[1mtrain: \u001b[0mNew cache created: /content/labels/train.cache\n",
            "WARNING ⚠️ Labels are missing or empty in /content/labels/train.cache, training may not work correctly. See https://docs.ultralytics.com/datasets for dataset formatting guidance.\n"
          ]
        },
        {
          "output_type": "stream",
          "name": "stderr",
          "text": [
            "\n"
          ]
        },
        {
          "output_type": "stream",
          "name": "stdout",
          "text": [
            "\u001b[34m\u001b[1malbumentations: \u001b[0mBlur(p=0.01, blur_limit=(3, 7)), MedianBlur(p=0.01, blur_limit=(3, 7)), ToGray(p=0.01, method='weighted_average', num_output_channels=3), CLAHE(p=0.01, clip_limit=(1.0, 4.0), tile_grid_size=(8, 8))\n",
            "\u001b[34m\u001b[1mval: \u001b[0mFast image access ✅ (ping: 0.0±0.0 ms, read: 397.6±536.5 MB/s, size: 24647.1 KB)\n"
          ]
        },
        {
          "output_type": "stream",
          "name": "stderr",
          "text": [
            "\u001b[34m\u001b[1mval: \u001b[0mScanning /content/labels/val... 0 images, 281 backgrounds, 0 corrupt: 100%|██████████| 281/281 [00:10<00:00, 28.02it/s]"
          ]
        },
        {
          "output_type": "stream",
          "name": "stdout",
          "text": [
            "WARNING ⚠️ \u001b[34m\u001b[1mval: \u001b[0mNo labels found in /content/labels/val.cache. See https://docs.ultralytics.com/datasets for dataset formatting guidance.\n",
            "\u001b[34m\u001b[1mval: \u001b[0mNew cache created: /content/labels/val.cache\n",
            "WARNING ⚠️ Labels are missing or empty in /content/labels/val.cache, training may not work correctly. See https://docs.ultralytics.com/datasets for dataset formatting guidance.\n"
          ]
        },
        {
          "output_type": "stream",
          "name": "stderr",
          "text": [
            "\n"
          ]
        },
        {
          "output_type": "stream",
          "name": "stdout",
          "text": [
            "Plotting labels to runs/detect/xview_yolo83/labels.jpg... \n",
            "WARNING ⚠️ zero-size array to reduction operation maximum which has no identity\n",
            "\u001b[34m\u001b[1moptimizer:\u001b[0m 'optimizer=auto' found, ignoring 'lr0=0.01' and 'momentum=0.937' and determining best 'optimizer', 'lr0' and 'momentum' automatically... \n",
            "\u001b[34m\u001b[1moptimizer:\u001b[0m AdamW(lr=0.000156, momentum=0.9) with parameter groups 77 weight(decay=0.0), 84 weight(decay=0.0005), 83 bias(decay=0.0)\n",
            "Image sizes 640 train, 640 val\n",
            "Using 2 dataloader workers\n",
            "Logging results to \u001b[1mruns/detect/xview_yolo83\u001b[0m\n",
            "Starting training for 100 epochs...\n",
            "\n",
            "      Epoch    GPU_mem   box_loss   cls_loss   dfl_loss  Instances       Size\n"
          ]
        },
        {
          "output_type": "stream",
          "name": "stderr",
          "text": [
            "      1/100       6.2G          0      240.3          0          0        640:  64%|██████▍   | 34/53 [01:35<00:53,  2.81s/it]\n"
          ]
        },
        {
          "output_type": "error",
          "ename": "KeyboardInterrupt",
          "evalue": "",
          "traceback": [
            "\u001b[0;31m---------------------------------------------------------------------------\u001b[0m",
            "\u001b[0;31mKeyboardInterrupt\u001b[0m                         Traceback (most recent call last)",
            "\u001b[0;32m<ipython-input-29-4d6cdecf7ab3>\u001b[0m in \u001b[0;36m<cell line: 0>\u001b[0;34m()\u001b[0m\n\u001b[1;32m      4\u001b[0m \u001b[0mmodel\u001b[0m \u001b[0;34m=\u001b[0m \u001b[0mYOLO\u001b[0m\u001b[0;34m(\u001b[0m\u001b[0;34m\"yolov8m.pt\"\u001b[0m\u001b[0;34m)\u001b[0m  \u001b[0;31m# Use 'n', 's', 'l', or 'x' as needed\u001b[0m\u001b[0;34m\u001b[0m\u001b[0;34m\u001b[0m\u001b[0m\n\u001b[1;32m      5\u001b[0m \u001b[0;34m\u001b[0m\u001b[0m\n\u001b[0;32m----> 6\u001b[0;31m model.train(\n\u001b[0m\u001b[1;32m      7\u001b[0m     \u001b[0mdata\u001b[0m\u001b[0;34m=\u001b[0m\u001b[0;34m\"data.yaml\"\u001b[0m\u001b[0;34m,\u001b[0m\u001b[0;34m\u001b[0m\u001b[0;34m\u001b[0m\u001b[0m\n\u001b[1;32m      8\u001b[0m     \u001b[0mepochs\u001b[0m\u001b[0;34m=\u001b[0m\u001b[0;36m100\u001b[0m\u001b[0;34m,\u001b[0m\u001b[0;34m\u001b[0m\u001b[0;34m\u001b[0m\u001b[0m\n",
            "\u001b[0;32m/usr/local/lib/python3.11/dist-packages/ultralytics/engine/model.py\u001b[0m in \u001b[0;36mtrain\u001b[0;34m(self, trainer, **kwargs)\u001b[0m\n\u001b[1;32m    794\u001b[0m \u001b[0;34m\u001b[0m\u001b[0m\n\u001b[1;32m    795\u001b[0m         \u001b[0mself\u001b[0m\u001b[0;34m.\u001b[0m\u001b[0mtrainer\u001b[0m\u001b[0;34m.\u001b[0m\u001b[0mhub_session\u001b[0m \u001b[0;34m=\u001b[0m \u001b[0mself\u001b[0m\u001b[0;34m.\u001b[0m\u001b[0msession\u001b[0m  \u001b[0;31m# attach optional HUB session\u001b[0m\u001b[0;34m\u001b[0m\u001b[0;34m\u001b[0m\u001b[0m\n\u001b[0;32m--> 796\u001b[0;31m         \u001b[0mself\u001b[0m\u001b[0;34m.\u001b[0m\u001b[0mtrainer\u001b[0m\u001b[0;34m.\u001b[0m\u001b[0mtrain\u001b[0m\u001b[0;34m(\u001b[0m\u001b[0;34m)\u001b[0m\u001b[0;34m\u001b[0m\u001b[0;34m\u001b[0m\u001b[0m\n\u001b[0m\u001b[1;32m    797\u001b[0m         \u001b[0;31m# Update model and cfg after training\u001b[0m\u001b[0;34m\u001b[0m\u001b[0;34m\u001b[0m\u001b[0m\n\u001b[1;32m    798\u001b[0m         \u001b[0;32mif\u001b[0m \u001b[0mRANK\u001b[0m \u001b[0;32min\u001b[0m \u001b[0;34m{\u001b[0m\u001b[0;34m-\u001b[0m\u001b[0;36m1\u001b[0m\u001b[0;34m,\u001b[0m \u001b[0;36m0\u001b[0m\u001b[0;34m}\u001b[0m\u001b[0;34m:\u001b[0m\u001b[0;34m\u001b[0m\u001b[0;34m\u001b[0m\u001b[0m\n",
            "\u001b[0;32m/usr/local/lib/python3.11/dist-packages/ultralytics/engine/trainer.py\u001b[0m in \u001b[0;36mtrain\u001b[0;34m(self)\u001b[0m\n\u001b[1;32m    225\u001b[0m \u001b[0;34m\u001b[0m\u001b[0m\n\u001b[1;32m    226\u001b[0m         \u001b[0;32melse\u001b[0m\u001b[0;34m:\u001b[0m\u001b[0;34m\u001b[0m\u001b[0;34m\u001b[0m\u001b[0m\n\u001b[0;32m--> 227\u001b[0;31m             \u001b[0mself\u001b[0m\u001b[0;34m.\u001b[0m\u001b[0m_do_train\u001b[0m\u001b[0;34m(\u001b[0m\u001b[0mworld_size\u001b[0m\u001b[0;34m)\u001b[0m\u001b[0;34m\u001b[0m\u001b[0;34m\u001b[0m\u001b[0m\n\u001b[0m\u001b[1;32m    228\u001b[0m \u001b[0;34m\u001b[0m\u001b[0m\n\u001b[1;32m    229\u001b[0m     \u001b[0;32mdef\u001b[0m \u001b[0m_setup_scheduler\u001b[0m\u001b[0;34m(\u001b[0m\u001b[0mself\u001b[0m\u001b[0;34m)\u001b[0m\u001b[0;34m:\u001b[0m\u001b[0;34m\u001b[0m\u001b[0;34m\u001b[0m\u001b[0m\n",
            "\u001b[0;32m/usr/local/lib/python3.11/dist-packages/ultralytics/engine/trainer.py\u001b[0m in \u001b[0;36m_do_train\u001b[0;34m(self, world_size)\u001b[0m\n\u001b[1;32m    386\u001b[0m                 \u001b[0mpbar\u001b[0m \u001b[0;34m=\u001b[0m \u001b[0mTQDM\u001b[0m\u001b[0;34m(\u001b[0m\u001b[0menumerate\u001b[0m\u001b[0;34m(\u001b[0m\u001b[0mself\u001b[0m\u001b[0;34m.\u001b[0m\u001b[0mtrain_loader\u001b[0m\u001b[0;34m)\u001b[0m\u001b[0;34m,\u001b[0m \u001b[0mtotal\u001b[0m\u001b[0;34m=\u001b[0m\u001b[0mnb\u001b[0m\u001b[0;34m)\u001b[0m\u001b[0;34m\u001b[0m\u001b[0;34m\u001b[0m\u001b[0m\n\u001b[1;32m    387\u001b[0m             \u001b[0mself\u001b[0m\u001b[0;34m.\u001b[0m\u001b[0mtloss\u001b[0m \u001b[0;34m=\u001b[0m \u001b[0;32mNone\u001b[0m\u001b[0;34m\u001b[0m\u001b[0;34m\u001b[0m\u001b[0m\n\u001b[0;32m--> 388\u001b[0;31m             \u001b[0;32mfor\u001b[0m \u001b[0mi\u001b[0m\u001b[0;34m,\u001b[0m \u001b[0mbatch\u001b[0m \u001b[0;32min\u001b[0m \u001b[0mpbar\u001b[0m\u001b[0;34m:\u001b[0m\u001b[0;34m\u001b[0m\u001b[0;34m\u001b[0m\u001b[0m\n\u001b[0m\u001b[1;32m    389\u001b[0m                 \u001b[0mself\u001b[0m\u001b[0;34m.\u001b[0m\u001b[0mrun_callbacks\u001b[0m\u001b[0;34m(\u001b[0m\u001b[0;34m\"on_train_batch_start\"\u001b[0m\u001b[0;34m)\u001b[0m\u001b[0;34m\u001b[0m\u001b[0;34m\u001b[0m\u001b[0m\n\u001b[1;32m    390\u001b[0m                 \u001b[0;31m# Warmup\u001b[0m\u001b[0;34m\u001b[0m\u001b[0;34m\u001b[0m\u001b[0m\n",
            "\u001b[0;32m/usr/local/lib/python3.11/dist-packages/tqdm/std.py\u001b[0m in \u001b[0;36m__iter__\u001b[0;34m(self)\u001b[0m\n\u001b[1;32m   1179\u001b[0m \u001b[0;34m\u001b[0m\u001b[0m\n\u001b[1;32m   1180\u001b[0m         \u001b[0;32mtry\u001b[0m\u001b[0;34m:\u001b[0m\u001b[0;34m\u001b[0m\u001b[0;34m\u001b[0m\u001b[0m\n\u001b[0;32m-> 1181\u001b[0;31m             \u001b[0;32mfor\u001b[0m \u001b[0mobj\u001b[0m \u001b[0;32min\u001b[0m \u001b[0miterable\u001b[0m\u001b[0;34m:\u001b[0m\u001b[0;34m\u001b[0m\u001b[0;34m\u001b[0m\u001b[0m\n\u001b[0m\u001b[1;32m   1182\u001b[0m                 \u001b[0;32myield\u001b[0m \u001b[0mobj\u001b[0m\u001b[0;34m\u001b[0m\u001b[0;34m\u001b[0m\u001b[0m\n\u001b[1;32m   1183\u001b[0m                 \u001b[0;31m# Update and possibly print the progressbar.\u001b[0m\u001b[0;34m\u001b[0m\u001b[0;34m\u001b[0m\u001b[0m\n",
            "\u001b[0;32m/usr/local/lib/python3.11/dist-packages/ultralytics/data/build.py\u001b[0m in \u001b[0;36m__iter__\u001b[0;34m(self)\u001b[0m\n\u001b[1;32m     65\u001b[0m         \u001b[0;34m\"\"\"Create an iterator that yields indefinitely from the underlying iterator.\"\"\"\u001b[0m\u001b[0;34m\u001b[0m\u001b[0;34m\u001b[0m\u001b[0m\n\u001b[1;32m     66\u001b[0m         \u001b[0;32mfor\u001b[0m \u001b[0m_\u001b[0m \u001b[0;32min\u001b[0m \u001b[0mrange\u001b[0m\u001b[0;34m(\u001b[0m\u001b[0mlen\u001b[0m\u001b[0;34m(\u001b[0m\u001b[0mself\u001b[0m\u001b[0;34m)\u001b[0m\u001b[0;34m)\u001b[0m\u001b[0;34m:\u001b[0m\u001b[0;34m\u001b[0m\u001b[0;34m\u001b[0m\u001b[0m\n\u001b[0;32m---> 67\u001b[0;31m             \u001b[0;32myield\u001b[0m \u001b[0mnext\u001b[0m\u001b[0;34m(\u001b[0m\u001b[0mself\u001b[0m\u001b[0;34m.\u001b[0m\u001b[0miterator\u001b[0m\u001b[0;34m)\u001b[0m\u001b[0;34m\u001b[0m\u001b[0;34m\u001b[0m\u001b[0m\n\u001b[0m\u001b[1;32m     68\u001b[0m \u001b[0;34m\u001b[0m\u001b[0m\n\u001b[1;32m     69\u001b[0m     \u001b[0;32mdef\u001b[0m \u001b[0m__del__\u001b[0m\u001b[0;34m(\u001b[0m\u001b[0mself\u001b[0m\u001b[0;34m)\u001b[0m\u001b[0;34m:\u001b[0m\u001b[0;34m\u001b[0m\u001b[0;34m\u001b[0m\u001b[0m\n",
            "\u001b[0;32m/usr/local/lib/python3.11/dist-packages/torch/utils/data/dataloader.py\u001b[0m in \u001b[0;36m__next__\u001b[0;34m(self)\u001b[0m\n\u001b[1;32m    706\u001b[0m                 \u001b[0;31m# TODO(https://github.com/pytorch/pytorch/issues/76750)\u001b[0m\u001b[0;34m\u001b[0m\u001b[0;34m\u001b[0m\u001b[0m\n\u001b[1;32m    707\u001b[0m                 \u001b[0mself\u001b[0m\u001b[0;34m.\u001b[0m\u001b[0m_reset\u001b[0m\u001b[0;34m(\u001b[0m\u001b[0;34m)\u001b[0m  \u001b[0;31m# type: ignore[call-arg]\u001b[0m\u001b[0;34m\u001b[0m\u001b[0;34m\u001b[0m\u001b[0m\n\u001b[0;32m--> 708\u001b[0;31m             \u001b[0mdata\u001b[0m \u001b[0;34m=\u001b[0m \u001b[0mself\u001b[0m\u001b[0;34m.\u001b[0m\u001b[0m_next_data\u001b[0m\u001b[0;34m(\u001b[0m\u001b[0;34m)\u001b[0m\u001b[0;34m\u001b[0m\u001b[0;34m\u001b[0m\u001b[0m\n\u001b[0m\u001b[1;32m    709\u001b[0m             \u001b[0mself\u001b[0m\u001b[0;34m.\u001b[0m\u001b[0m_num_yielded\u001b[0m \u001b[0;34m+=\u001b[0m \u001b[0;36m1\u001b[0m\u001b[0;34m\u001b[0m\u001b[0;34m\u001b[0m\u001b[0m\n\u001b[1;32m    710\u001b[0m             if (\n",
            "\u001b[0;32m/usr/local/lib/python3.11/dist-packages/torch/utils/data/dataloader.py\u001b[0m in \u001b[0;36m_next_data\u001b[0;34m(self)\u001b[0m\n\u001b[1;32m   1456\u001b[0m \u001b[0;34m\u001b[0m\u001b[0m\n\u001b[1;32m   1457\u001b[0m             \u001b[0;32massert\u001b[0m \u001b[0;32mnot\u001b[0m \u001b[0mself\u001b[0m\u001b[0;34m.\u001b[0m\u001b[0m_shutdown\u001b[0m \u001b[0;32mand\u001b[0m \u001b[0mself\u001b[0m\u001b[0;34m.\u001b[0m\u001b[0m_tasks_outstanding\u001b[0m \u001b[0;34m>\u001b[0m \u001b[0;36m0\u001b[0m\u001b[0;34m\u001b[0m\u001b[0;34m\u001b[0m\u001b[0m\n\u001b[0;32m-> 1458\u001b[0;31m             \u001b[0midx\u001b[0m\u001b[0;34m,\u001b[0m \u001b[0mdata\u001b[0m \u001b[0;34m=\u001b[0m \u001b[0mself\u001b[0m\u001b[0;34m.\u001b[0m\u001b[0m_get_data\u001b[0m\u001b[0;34m(\u001b[0m\u001b[0;34m)\u001b[0m\u001b[0;34m\u001b[0m\u001b[0;34m\u001b[0m\u001b[0m\n\u001b[0m\u001b[1;32m   1459\u001b[0m             \u001b[0mself\u001b[0m\u001b[0;34m.\u001b[0m\u001b[0m_tasks_outstanding\u001b[0m \u001b[0;34m-=\u001b[0m \u001b[0;36m1\u001b[0m\u001b[0;34m\u001b[0m\u001b[0;34m\u001b[0m\u001b[0m\n\u001b[1;32m   1460\u001b[0m             \u001b[0;32mif\u001b[0m \u001b[0mself\u001b[0m\u001b[0;34m.\u001b[0m\u001b[0m_dataset_kind\u001b[0m \u001b[0;34m==\u001b[0m \u001b[0m_DatasetKind\u001b[0m\u001b[0;34m.\u001b[0m\u001b[0mIterable\u001b[0m\u001b[0;34m:\u001b[0m\u001b[0;34m\u001b[0m\u001b[0;34m\u001b[0m\u001b[0m\n",
            "\u001b[0;32m/usr/local/lib/python3.11/dist-packages/torch/utils/data/dataloader.py\u001b[0m in \u001b[0;36m_get_data\u001b[0;34m(self)\u001b[0m\n\u001b[1;32m   1408\u001b[0m         \u001b[0;32melif\u001b[0m \u001b[0mself\u001b[0m\u001b[0;34m.\u001b[0m\u001b[0m_pin_memory\u001b[0m\u001b[0;34m:\u001b[0m\u001b[0;34m\u001b[0m\u001b[0;34m\u001b[0m\u001b[0m\n\u001b[1;32m   1409\u001b[0m             \u001b[0;32mwhile\u001b[0m \u001b[0mself\u001b[0m\u001b[0;34m.\u001b[0m\u001b[0m_pin_memory_thread\u001b[0m\u001b[0;34m.\u001b[0m\u001b[0mis_alive\u001b[0m\u001b[0;34m(\u001b[0m\u001b[0;34m)\u001b[0m\u001b[0;34m:\u001b[0m\u001b[0;34m\u001b[0m\u001b[0;34m\u001b[0m\u001b[0m\n\u001b[0;32m-> 1410\u001b[0;31m                 \u001b[0msuccess\u001b[0m\u001b[0;34m,\u001b[0m \u001b[0mdata\u001b[0m \u001b[0;34m=\u001b[0m \u001b[0mself\u001b[0m\u001b[0;34m.\u001b[0m\u001b[0m_try_get_data\u001b[0m\u001b[0;34m(\u001b[0m\u001b[0;34m)\u001b[0m\u001b[0;34m\u001b[0m\u001b[0;34m\u001b[0m\u001b[0m\n\u001b[0m\u001b[1;32m   1411\u001b[0m                 \u001b[0;32mif\u001b[0m \u001b[0msuccess\u001b[0m\u001b[0;34m:\u001b[0m\u001b[0;34m\u001b[0m\u001b[0;34m\u001b[0m\u001b[0m\n\u001b[1;32m   1412\u001b[0m                     \u001b[0;32mreturn\u001b[0m \u001b[0mdata\u001b[0m\u001b[0;34m\u001b[0m\u001b[0;34m\u001b[0m\u001b[0m\n",
            "\u001b[0;32m/usr/local/lib/python3.11/dist-packages/torch/utils/data/dataloader.py\u001b[0m in \u001b[0;36m_try_get_data\u001b[0;34m(self, timeout)\u001b[0m\n\u001b[1;32m   1249\u001b[0m         \u001b[0;31m#   (bool: whether successfully get data, any: data if successful else None)\u001b[0m\u001b[0;34m\u001b[0m\u001b[0;34m\u001b[0m\u001b[0m\n\u001b[1;32m   1250\u001b[0m         \u001b[0;32mtry\u001b[0m\u001b[0;34m:\u001b[0m\u001b[0;34m\u001b[0m\u001b[0;34m\u001b[0m\u001b[0m\n\u001b[0;32m-> 1251\u001b[0;31m             \u001b[0mdata\u001b[0m \u001b[0;34m=\u001b[0m \u001b[0mself\u001b[0m\u001b[0;34m.\u001b[0m\u001b[0m_data_queue\u001b[0m\u001b[0;34m.\u001b[0m\u001b[0mget\u001b[0m\u001b[0;34m(\u001b[0m\u001b[0mtimeout\u001b[0m\u001b[0;34m=\u001b[0m\u001b[0mtimeout\u001b[0m\u001b[0;34m)\u001b[0m\u001b[0;34m\u001b[0m\u001b[0;34m\u001b[0m\u001b[0m\n\u001b[0m\u001b[1;32m   1252\u001b[0m             \u001b[0;32mreturn\u001b[0m \u001b[0;34m(\u001b[0m\u001b[0;32mTrue\u001b[0m\u001b[0;34m,\u001b[0m \u001b[0mdata\u001b[0m\u001b[0;34m)\u001b[0m\u001b[0;34m\u001b[0m\u001b[0;34m\u001b[0m\u001b[0m\n\u001b[1;32m   1253\u001b[0m         \u001b[0;32mexcept\u001b[0m \u001b[0mException\u001b[0m \u001b[0;32mas\u001b[0m \u001b[0me\u001b[0m\u001b[0;34m:\u001b[0m\u001b[0;34m\u001b[0m\u001b[0;34m\u001b[0m\u001b[0m\n",
            "\u001b[0;32m/usr/lib/python3.11/queue.py\u001b[0m in \u001b[0;36mget\u001b[0;34m(self, block, timeout)\u001b[0m\n\u001b[1;32m    178\u001b[0m                     \u001b[0;32mif\u001b[0m \u001b[0mremaining\u001b[0m \u001b[0;34m<=\u001b[0m \u001b[0;36m0.0\u001b[0m\u001b[0;34m:\u001b[0m\u001b[0;34m\u001b[0m\u001b[0;34m\u001b[0m\u001b[0m\n\u001b[1;32m    179\u001b[0m                         \u001b[0;32mraise\u001b[0m \u001b[0mEmpty\u001b[0m\u001b[0;34m\u001b[0m\u001b[0;34m\u001b[0m\u001b[0m\n\u001b[0;32m--> 180\u001b[0;31m                     \u001b[0mself\u001b[0m\u001b[0;34m.\u001b[0m\u001b[0mnot_empty\u001b[0m\u001b[0;34m.\u001b[0m\u001b[0mwait\u001b[0m\u001b[0;34m(\u001b[0m\u001b[0mremaining\u001b[0m\u001b[0;34m)\u001b[0m\u001b[0;34m\u001b[0m\u001b[0;34m\u001b[0m\u001b[0m\n\u001b[0m\u001b[1;32m    181\u001b[0m             \u001b[0mitem\u001b[0m \u001b[0;34m=\u001b[0m \u001b[0mself\u001b[0m\u001b[0;34m.\u001b[0m\u001b[0m_get\u001b[0m\u001b[0;34m(\u001b[0m\u001b[0;34m)\u001b[0m\u001b[0;34m\u001b[0m\u001b[0;34m\u001b[0m\u001b[0m\n\u001b[1;32m    182\u001b[0m             \u001b[0mself\u001b[0m\u001b[0;34m.\u001b[0m\u001b[0mnot_full\u001b[0m\u001b[0;34m.\u001b[0m\u001b[0mnotify\u001b[0m\u001b[0;34m(\u001b[0m\u001b[0;34m)\u001b[0m\u001b[0;34m\u001b[0m\u001b[0;34m\u001b[0m\u001b[0m\n",
            "\u001b[0;32m/usr/lib/python3.11/threading.py\u001b[0m in \u001b[0;36mwait\u001b[0;34m(self, timeout)\u001b[0m\n\u001b[1;32m    329\u001b[0m             \u001b[0;32melse\u001b[0m\u001b[0;34m:\u001b[0m\u001b[0;34m\u001b[0m\u001b[0;34m\u001b[0m\u001b[0m\n\u001b[1;32m    330\u001b[0m                 \u001b[0;32mif\u001b[0m \u001b[0mtimeout\u001b[0m \u001b[0;34m>\u001b[0m \u001b[0;36m0\u001b[0m\u001b[0;34m:\u001b[0m\u001b[0;34m\u001b[0m\u001b[0;34m\u001b[0m\u001b[0m\n\u001b[0;32m--> 331\u001b[0;31m                     \u001b[0mgotit\u001b[0m \u001b[0;34m=\u001b[0m \u001b[0mwaiter\u001b[0m\u001b[0;34m.\u001b[0m\u001b[0macquire\u001b[0m\u001b[0;34m(\u001b[0m\u001b[0;32mTrue\u001b[0m\u001b[0;34m,\u001b[0m \u001b[0mtimeout\u001b[0m\u001b[0;34m)\u001b[0m\u001b[0;34m\u001b[0m\u001b[0;34m\u001b[0m\u001b[0m\n\u001b[0m\u001b[1;32m    332\u001b[0m                 \u001b[0;32melse\u001b[0m\u001b[0;34m:\u001b[0m\u001b[0;34m\u001b[0m\u001b[0;34m\u001b[0m\u001b[0m\n\u001b[1;32m    333\u001b[0m                     \u001b[0mgotit\u001b[0m \u001b[0;34m=\u001b[0m \u001b[0mwaiter\u001b[0m\u001b[0;34m.\u001b[0m\u001b[0macquire\u001b[0m\u001b[0;34m(\u001b[0m\u001b[0;32mFalse\u001b[0m\u001b[0;34m)\u001b[0m\u001b[0;34m\u001b[0m\u001b[0;34m\u001b[0m\u001b[0m\n",
            "\u001b[0;31mKeyboardInterrupt\u001b[0m: "
          ]
        }
      ]
    },
    {
      "cell_type": "code",
      "source": [
        "import os\n",
        "import shutil\n",
        "\n",
        "# Update base path if needed\n",
        "base_path = \"/root/.cache/kagglehub/datasets/hassanmojab/xview-dataset/versions/1\"\n",
        "train_img_src = os.path.join(base_path, \"train_images\", \"train_images\")\n",
        "val_img_src = os.path.join(base_path, \"val_images\", \"val_images\")\n",
        "\n",
        "train_img_dst = \"images/train\"\n",
        "val_img_dst = \"images/val\"\n",
        "\n",
        "# Copy .tif images from original dataset into YOLO folders\n",
        "def copy_images(src, dst):\n",
        "    copied = 0\n",
        "    for file in os.listdir(src):\n",
        "        if file.endswith(\".tif\"):\n",
        "            shutil.copy(os.path.join(src, file), os.path.join(dst, file))\n",
        "            copied += 1\n",
        "    print(f\"✅ Copied {copied} images to {dst}\")\n",
        "\n",
        "copy_images(train_img_src, train_img_dst)\n",
        "copy_images(val_img_src, val_img_dst)"
      ],
      "metadata": {
        "colab": {
          "base_uri": "https://localhost:8080/"
        },
        "id": "5K54XFMn7sYP",
        "outputId": "d02c7600-5803-4bd4-ce17-d130e6a549d4"
      },
      "execution_count": null,
      "outputs": [
        {
          "output_type": "stream",
          "name": "stdout",
          "text": [
            "✅ Copied 846 images to images/train\n",
            "✅ Copied 281 images to images/val\n"
          ]
        }
      ]
    },
    {
      "cell_type": "code",
      "source": [
        "import os\n",
        "\n",
        "base_path = \"/root/.cache/kagglehub/datasets/hassanmojab/xview-dataset/versions/1\"\n",
        "\n",
        "print(\"📁 train_images:\")\n",
        "train_list = os.listdir(os.path.join(base_path, \"train_images\"))\n",
        "print(train_list[:10], f\"... total: {len(train_list)} files\")\n",
        "\n",
        "print(\"\\n📁 val_images:\")\n",
        "val_list = os.listdir(os.path.join(base_path, \"val_images\"))\n",
        "print(val_list[:10], f\"... total: {len(val_list)} files\")\n"
      ],
      "metadata": {
        "colab": {
          "base_uri": "https://localhost:8080/"
        },
        "id": "FFfdgjDu8fYm",
        "outputId": "8c00390e-6858-4e43-9166-703211f0e26d"
      },
      "execution_count": null,
      "outputs": [
        {
          "output_type": "stream",
          "name": "stdout",
          "text": [
            "📁 train_images:\n",
            "['train_images'] ... total: 1 files\n",
            "\n",
            "📁 val_images:\n",
            "['val_images'] ... total: 1 files\n"
          ]
        }
      ]
    },
    {
      "cell_type": "code",
      "source": [
        "import os\n",
        "\n",
        "label_base = \"/root/.cache/kagglehub/datasets/hassanmojab/xview-dataset/versions/1/train_labels\"\n",
        "\n",
        "print(\"📂 Listing contents of val_labels folder:\")\n",
        "for root, dirs, files in os.walk(label_base):\n",
        "    print(f\"\\n📁 Directory: {root}\")\n",
        "    for file in files:\n",
        "        print(\" └──\", file)"
      ],
      "metadata": {
        "colab": {
          "base_uri": "https://localhost:8080/"
        },
        "id": "QMecOVne8xfR",
        "outputId": "021c3f08-dace-4c87-e637-4961729af10f"
      },
      "execution_count": null,
      "outputs": [
        {
          "output_type": "stream",
          "name": "stdout",
          "text": [
            "📂 Listing contents of train_labels folder:\n",
            "\n",
            "📁 Directory: /root/.cache/kagglehub/datasets/hassanmojab/xview-dataset/versions/1/train_labels\n",
            " └── xView_train.geojson\n"
          ]
        }
      ]
    },
    {
      "cell_type": "code",
      "source": [
        "import os\n",
        "val_images = os.listdir(\"images/val\")\n",
        "print(\"🖼️ Sample val image filenames:\", val_images[:5])\n"
      ],
      "metadata": {
        "colab": {
          "base_uri": "https://localhost:8080/"
        },
        "id": "tODSqolf_176",
        "outputId": "934afaf8-bad0-4208-e83b-b25dbecf38af"
      },
      "execution_count": null,
      "outputs": [
        {
          "output_type": "stream",
          "name": "stdout",
          "text": [
            "🖼️ Sample val image filenames: ['2132.tif', '1833.tif', '357.tif', '2415.tif', '1935.tif']\n"
          ]
        }
      ]
    },
    {
      "cell_type": "code",
      "source": [
        "import json\n",
        "\n",
        "with open(label_file) as f:\n",
        "    data = json.load(f)\n",
        "\n",
        "geojson_image_ids = set(f[\"properties\"][\"image_id\"] for f in data[\"features\"])\n",
        "missing_labels = [img for img in val_images if img not in geojson_image_ids]\n",
        "\n",
        "print(f\"🧩 {len(missing_labels)} val images are missing in the geojson.\")\n",
        "print(\"Example:\", missing_labels[:5])\n"
      ],
      "metadata": {
        "colab": {
          "base_uri": "https://localhost:8080/"
        },
        "id": "f_wnzk6nKWRH",
        "outputId": "8f4c6a98-b615-45ec-fade-c0dc56dce23c"
      },
      "execution_count": null,
      "outputs": [
        {
          "output_type": "stream",
          "name": "stdout",
          "text": [
            "🧩 281 val images are missing in the geojson.\n",
            "Example: ['2132.tif', '1833.tif', '357.tif', '2415.tif', '1935.tif']\n"
          ]
        }
      ]
    },
    {
      "cell_type": "code",
      "source": [
        "import os\n",
        "\n",
        "label_base = \"/root/.cache/kagglehub/datasets/hassanmojab/xview-dataset/versions/1/val_labels\"\n",
        "\n",
        "print(\"📂 Listing contents of val_labels folder:\")\n",
        "for root, dirs, files in os.walk(label_base):\n",
        "    print(f\"\\n📁 Directory: {root}\")\n",
        "    for file in files:\n",
        "        print(\" └──\", file)"
      ],
      "metadata": {
        "colab": {
          "base_uri": "https://localhost:8080/"
        },
        "id": "4GnSWrtBKaCN",
        "outputId": "be091cca-82b8-4260-cb76-b0b355f0016e"
      },
      "execution_count": null,
      "outputs": [
        {
          "output_type": "stream",
          "name": "stdout",
          "text": [
            "📂 Listing contents of val_labels folder:\n"
          ]
        }
      ]
    },
    {
      "cell_type": "code",
      "source": [
        "import os, shutil, json, random\n",
        "from PIL import Image\n",
        "import yaml\n",
        "\n",
        "# === SETUP PATHS ===\n",
        "base_path = \"/root/.cache/kagglehub/datasets/hassanmojab/xview-dataset/versions/1\"\n",
        "image_source = os.path.join(base_path, \"train_images\", \"train_images\")\n",
        "geojson_path = os.path.join(base_path, \"train_labels\", \"xView_train.geojson\")\n",
        "\n",
        "# === CLEAN FOLDERS ===\n",
        "for f in [\"images/train\", \"images/val\", \"labels/train\", \"labels/val\"]:\n",
        "    shutil.rmtree(f, ignore_errors=True)\n",
        "    os.makedirs(f, exist_ok=True)\n",
        "\n",
        "# === CLASS MAPPING ===\n",
        "xview_classes = {\n",
        "    0: \"Fixed-wing Aircraft\", 1: \"Small Aircraft\", 2: \"Cargo Plane\", 3: \"Helicopter\",\n",
        "    4: \"Passenger Vehicle\", 5: \"Small Car\", 6: \"Bus\", 7: \"Pickup Truck\", 8: \"Utility Truck\",\n",
        "    9: \"Truck\", 10: \"Cargo Truck\", 11: \"Truck w/Box\", 12: \"Truck Tractor\", 13: \"Trailer\",\n",
        "    14: \"Truck w/Flatbed\", 15: \"Truck w/Liquid\", 16: \"Crane Truck\", 17: \"Railway Vehicle\",\n",
        "    18: \"Passenger Car\", 19: \"Cargo Car\", 20: \"Flat Car\", 21: \"Tank car\", 22: \"Locomotive\",\n",
        "    23: \"Container Ship\", 24: \"Liner Ship\", 25: \"Fishing Vessel\", 26: \"Oil Tanker\",\n",
        "    27: \"Engineering Vehicle\", 28: \"Tower crane\", 29: \"Container Crane\", 30: \"Reach Stacker\",\n",
        "    31: \"Straddle Carrier\", 32: \"Mobile Crane\", 33: \"Dump Truck\", 34: \"Haul Truck\",\n",
        "    35: \"Scraper/Tractor\", 36: \"Front Loader/Bulldozer\", 37: \"Excavator\", 38: \"Cement Mixer\",\n",
        "    39: \"Ground Grader\", 40: \"Hut/Tent\", 41: \"Shed\", 42: \"Building\", 43: \"Aircraft Hangar\",\n",
        "    44: \"Damaged Building\", 45: \"Facility\", 46: \"Construction Site\", 47: \"Vehicle Lot\",\n",
        "    48: \"Helipad\", 49: \"Storage Tank\", 50: \"Shipping Container Lot\", 51: \"Shipping Container\",\n",
        "    52: \"Pylon\", 53: \"Tower\", 54: \"Wind Turbine\", 55: \"Tower-like Structure\", 56: \"Container/Truck\",\n",
        "    57: \"Oil Rig\", 58: \"Pier\", 59: \"Dock\"\n",
        "}\n",
        "sorted_ids = sorted(xview_classes.keys())\n",
        "typeid_to_yolo = {tid: i for i, tid in enumerate(sorted_ids)}\n",
        "\n",
        "# === PARSE GEOJSON ===\n",
        "with open(geojson_path) as f:\n",
        "    data = json.load(f)\n",
        "\n",
        "annotations = {}\n",
        "for feat in data[\"features\"]:\n",
        "    props = feat[\"properties\"]\n",
        "    image_id = props.get(\"image_id\")\n",
        "    bbox = props.get(\"bounds_imcoords\")\n",
        "    cls = props.get(\"type_id\")\n",
        "\n",
        "    if not image_id or not bbox or cls not in typeid_to_yolo:\n",
        "        continue\n",
        "\n",
        "    try:\n",
        "        x1, y1, x2, y2 = map(float, bbox.split(\",\"))\n",
        "    except:\n",
        "        continue\n",
        "\n",
        "    annotations.setdefault(image_id, []).append((typeid_to_yolo[cls], x1, y1, x2, y2))\n",
        "\n",
        "# === SPLIT 80/20 ===\n",
        "image_ids = list(annotations.keys())\n",
        "random.shuffle(image_ids)\n",
        "split = int(len(image_ids) * 0.8)\n",
        "train_ids, val_ids = image_ids[:split], image_ids[split:]\n",
        "\n",
        "# === COPY IMAGES + CONVERT LABELS ===\n",
        "def process_set(image_ids, img_dst, lbl_dst):\n",
        "    count = 0\n",
        "    for img_name in image_ids:\n",
        "        src = os.path.join(image_source, img_name)\n",
        "        dst = os.path.join(img_dst, img_name)\n",
        "        if not os.path.exists(src):\n",
        "            continue\n",
        "        try:\n",
        "            with Image.open(src) as im:\n",
        "                w, h = im.size\n",
        "        except:\n",
        "            continue\n",
        "        shutil.copy(src, dst)\n",
        "\n",
        "        label_file = os.path.splitext(img_name)[0] + \".txt\"\n",
        "        label_path = os.path.join(lbl_dst, label_file)\n",
        "\n",
        "        with open(label_path, \"w\") as f:\n",
        "            for cls, x1, y1, x2, y2 in annotations[img_name]:\n",
        "                xc = ((x1 + x2) / 2) / w\n",
        "                yc = ((y1 + y2) / 2) / h\n",
        "                bw = (x2 - x1) / w\n",
        "                bh = (y2 - y1) / h\n",
        "                f.write(f\"{cls} {xc:.6f} {yc:.6f} {bw:.6f} {bh:.6f}\\n\")\n",
        "        count += 1\n",
        "    return count\n",
        "\n",
        "train_count = process_set(train_ids, \"images/train\", \"labels/train\")\n",
        "val_count   = process_set(val_ids,   \"images/val\",   \"labels/val\")\n",
        "\n",
        "print(f\"✅ {train_count} training images and {val_count} validation images processed\")\n",
        "\n",
        "# === WRITE data.yaml ===\n",
        "data_yaml = {\n",
        "    \"train\": \"images/train\",\n",
        "    \"val\": \"images/val\",\n",
        "    \"nc\": len(xview_classes),\n",
        "    \"names\": [xview_classes[i] for i in sorted_ids]\n",
        "}\n",
        "with open(\"data.yaml\", \"w\") as f:\n",
        "    yaml.dump(data_yaml, f)\n",
        "\n",
        "print(\"✅ data.yaml written — ready to train!\")\n"
      ],
      "metadata": {
        "colab": {
          "base_uri": "https://localhost:8080/"
        },
        "id": "0KlEiFuKSDlk",
        "outputId": "994c1536-41b7-4ecd-c383-ec0381803b81"
      },
      "execution_count": null,
      "outputs": [
        {
          "output_type": "stream",
          "name": "stdout",
          "text": [
            "✅ 614 training images and 154 validation images processed\n",
            "✅ data.yaml written — ready to train!\n"
          ]
        }
      ]
    },
    {
      "cell_type": "code",
      "source": [
        "model = YOLO(\"yolov8m.pt\")  # Use 'n', 's', 'l', or 'x' as needed\n",
        "\n",
        "model.train(\n",
        "    data=\"data.yaml\",\n",
        "    epochs=15,\n",
        "    imgsz=1024,\n",
        "    patience=3,\n",
        "    batch=16,\n",
        "    workers=2,\n",
        "    name=\"xview_yolo8\",\n",
        "    augment=True,\n",
        "    pretrained=True,\n",
        "    verbose=True\n",
        ")"
      ],
      "metadata": {
        "colab": {
          "base_uri": "https://localhost:8080/"
        },
        "id": "rEQuQB7-SYYv",
        "outputId": "b900db90-8e98-4e57-f5ce-ceeb5080b470"
      },
      "execution_count": null,
      "outputs": [
        {
          "output_type": "stream",
          "name": "stdout",
          "text": [
            "Ultralytics 8.3.144 🚀 Python-3.11.12 torch-2.6.0+cu124 CUDA:0 (Tesla T4, 15095MiB)\n",
            "\u001b[34m\u001b[1mengine/trainer: \u001b[0magnostic_nms=False, amp=True, augment=True, auto_augment=randaugment, batch=16, bgr=0.0, box=7.5, cache=False, cfg=None, classes=None, close_mosaic=10, cls=0.5, conf=None, copy_paste=0.0, copy_paste_mode=flip, cos_lr=False, cutmix=0.0, data=data.yaml, degrees=0.0, deterministic=True, device=None, dfl=1.5, dnn=False, dropout=0.0, dynamic=False, embed=None, epochs=15, erasing=0.4, exist_ok=False, fliplr=0.5, flipud=0.0, format=torchscript, fraction=1.0, freeze=None, half=False, hsv_h=0.015, hsv_s=0.7, hsv_v=0.4, imgsz=1024, int8=False, iou=0.7, keras=False, kobj=1.0, line_width=None, lr0=0.01, lrf=0.01, mask_ratio=4, max_det=300, mixup=0.0, mode=train, model=yolov8m.pt, momentum=0.937, mosaic=1.0, multi_scale=False, name=xview_yolo84, nbs=64, nms=False, opset=None, optimize=False, optimizer=auto, overlap_mask=True, patience=3, perspective=0.0, plots=True, pose=12.0, pretrained=True, profile=False, project=None, rect=False, resume=False, retina_masks=False, save=True, save_conf=False, save_crop=False, save_dir=runs/detect/xview_yolo84, save_frames=False, save_json=False, save_period=-1, save_txt=False, scale=0.5, seed=0, shear=0.0, show=False, show_boxes=True, show_conf=True, show_labels=True, simplify=True, single_cls=False, source=None, split=val, stream_buffer=False, task=detect, time=None, tracker=botsort.yaml, translate=0.1, val=True, verbose=True, vid_stride=1, visualize=False, warmup_bias_lr=0.1, warmup_epochs=3.0, warmup_momentum=0.8, weight_decay=0.0005, workers=2, workspace=None\n",
            "Overriding model.yaml nc=80 with nc=60\n",
            "\n",
            "                   from  n    params  module                                       arguments                     \n",
            "  0                  -1  1      1392  ultralytics.nn.modules.conv.Conv             [3, 48, 3, 2]                 \n",
            "  1                  -1  1     41664  ultralytics.nn.modules.conv.Conv             [48, 96, 3, 2]                \n",
            "  2                  -1  2    111360  ultralytics.nn.modules.block.C2f             [96, 96, 2, True]             \n",
            "  3                  -1  1    166272  ultralytics.nn.modules.conv.Conv             [96, 192, 3, 2]               \n",
            "  4                  -1  4    813312  ultralytics.nn.modules.block.C2f             [192, 192, 4, True]           \n",
            "  5                  -1  1    664320  ultralytics.nn.modules.conv.Conv             [192, 384, 3, 2]              \n",
            "  6                  -1  4   3248640  ultralytics.nn.modules.block.C2f             [384, 384, 4, True]           \n",
            "  7                  -1  1   1991808  ultralytics.nn.modules.conv.Conv             [384, 576, 3, 2]              \n",
            "  8                  -1  2   3985920  ultralytics.nn.modules.block.C2f             [576, 576, 2, True]           \n",
            "  9                  -1  1    831168  ultralytics.nn.modules.block.SPPF            [576, 576, 5]                 \n",
            " 10                  -1  1         0  torch.nn.modules.upsampling.Upsample         [None, 2, 'nearest']          \n",
            " 11             [-1, 6]  1         0  ultralytics.nn.modules.conv.Concat           [1]                           \n",
            " 12                  -1  2   1993728  ultralytics.nn.modules.block.C2f             [960, 384, 2]                 \n",
            " 13                  -1  1         0  torch.nn.modules.upsampling.Upsample         [None, 2, 'nearest']          \n",
            " 14             [-1, 4]  1         0  ultralytics.nn.modules.conv.Concat           [1]                           \n",
            " 15                  -1  2    517632  ultralytics.nn.modules.block.C2f             [576, 192, 2]                 \n",
            " 16                  -1  1    332160  ultralytics.nn.modules.conv.Conv             [192, 192, 3, 2]              \n",
            " 17            [-1, 12]  1         0  ultralytics.nn.modules.conv.Concat           [1]                           \n",
            " 18                  -1  2   1846272  ultralytics.nn.modules.block.C2f             [576, 384, 2]                 \n",
            " 19                  -1  1   1327872  ultralytics.nn.modules.conv.Conv             [384, 384, 3, 2]              \n",
            " 20             [-1, 9]  1         0  ultralytics.nn.modules.conv.Concat           [1]                           \n",
            " 21                  -1  2   4207104  ultralytics.nn.modules.block.C2f             [960, 576, 2]                 \n",
            " 22        [15, 18, 21]  1   3810436  ultralytics.nn.modules.head.Detect           [60, [192, 384, 576]]         \n",
            "Model summary: 169 layers, 25,891,060 parameters, 25,891,044 gradients, 79.3 GFLOPs\n",
            "\n",
            "Transferred 469/475 items from pretrained weights\n",
            "Freezing layer 'model.22.dfl.conv.weight'\n",
            "\u001b[34m\u001b[1mAMP: \u001b[0mrunning Automatic Mixed Precision (AMP) checks...\n",
            "\u001b[34m\u001b[1mAMP: \u001b[0mchecks passed ✅\n",
            "\u001b[34m\u001b[1mtrain: \u001b[0mFast image access ✅ (ping: 0.0±0.0 ms, read: 229.2±2.5 MB/s, size: 36944.9 KB)\n"
          ]
        },
        {
          "output_type": "stream",
          "name": "stderr",
          "text": [
            "\u001b[34m\u001b[1mtrain: \u001b[0mScanning /content/labels/train.cache... 614 images, 0 backgrounds, 172 corrupt: 100%|██████████| 614/614 [00:00<?, ?it/s]"
          ]
        },
        {
          "output_type": "stream",
          "name": "stdout",
          "text": [
            "\u001b[34m\u001b[1mtrain: \u001b[0m/content/images/train/100.tif: ignoring corrupt image/label: negative label values [  -0.001924]\n",
            "\u001b[34m\u001b[1mtrain: \u001b[0m/content/images/train/1036.tif: ignoring corrupt image/label: non-normalized or out of bounds coordinates [     1.0003      1.0003]\n",
            "\u001b[34m\u001b[1mtrain: \u001b[0m/content/images/train/1037.tif: ignoring corrupt image/label: negative label values [  -0.001095   -0.000156   -0.000782]\n",
            "\u001b[34m\u001b[1mtrain: \u001b[0m/content/images/train/1050.tif: ignoring corrupt image/label: negative label values [    -0.0014]\n",
            "\u001b[34m\u001b[1mtrain: \u001b[0m/content/images/train/1051.tif: ignoring corrupt image/label: non-normalized or out of bounds coordinates [     1.0012]\n",
            "\u001b[34m\u001b[1mtrain: \u001b[0m/content/images/train/1063.tif: ignoring corrupt image/label: negative label values [  -0.003622]\n",
            "\u001b[34m\u001b[1mtrain: \u001b[0m/content/images/train/1076.tif: ignoring corrupt image/label: non-normalized or out of bounds coordinates [     1.0003]\n",
            "\u001b[34m\u001b[1mtrain: \u001b[0m/content/images/train/1080.tif: ignoring corrupt image/label: non-normalized or out of bounds coordinates [     1.0055       1.007      1.0052]\n",
            "\u001b[34m\u001b[1mtrain: \u001b[0m/content/images/train/1087.tif: ignoring corrupt image/label: negative label values [  -0.020977]\n",
            "\u001b[34m\u001b[1mtrain: \u001b[0m/content/images/train/1094.tif: ignoring corrupt image/label: non-normalized or out of bounds coordinates [     1.0011      1.0014]\n",
            "\u001b[34m\u001b[1mtrain: \u001b[0m/content/images/train/1095.tif: ignoring corrupt image/label: negative label values [  -0.026586   -0.000777   -0.003599   -0.003756   -0.000939   -0.001878   -0.002191   -0.001408   -0.000156   -0.001721]\n",
            "\u001b[34m\u001b[1mtrain: \u001b[0m/content/images/train/1120.tif: ignoring corrupt image/label: non-normalized or out of bounds coordinates [     1.0005       1.002      1.0022      1.0022]\n",
            "\u001b[34m\u001b[1mtrain: \u001b[0m/content/images/train/1126.tif: ignoring corrupt image/label: non-normalized or out of bounds coordinates [     1.0007]\n",
            "\u001b[34m\u001b[1mtrain: \u001b[0m/content/images/train/1127.tif: ignoring corrupt image/label: negative label values [  -0.001148   -0.000255]\n",
            "\u001b[34m\u001b[1mtrain: \u001b[0m/content/images/train/1128.tif: ignoring corrupt image/label: non-normalized or out of bounds coordinates [     1.0011]\n",
            "\u001b[34m\u001b[1mtrain: \u001b[0m/content/images/train/1129.tif: ignoring corrupt image/label: negative label values [  -0.000127]\n",
            "\u001b[34m\u001b[1mtrain: \u001b[0m/content/images/train/1133.tif: ignoring corrupt image/label: non-normalized or out of bounds coordinates [      1.001]\n",
            "\u001b[34m\u001b[1mtrain: \u001b[0m/content/images/train/1139.tif: ignoring corrupt image/label: negative label values [  -0.003929]\n",
            "\u001b[34m\u001b[1mtrain: \u001b[0m/content/images/train/1141.tif: ignoring corrupt image/label: non-normalized or out of bounds coordinates [     1.0183      1.0014]\n",
            "\u001b[34m\u001b[1mtrain: \u001b[0m/content/images/train/1142.tif: ignoring corrupt image/label: negative label values [  -0.000756]\n",
            "\u001b[34m\u001b[1mtrain: \u001b[0m/content/images/train/1149.tif: ignoring corrupt image/label: negative label values [  -0.007884]\n",
            "\u001b[34m\u001b[1mtrain: \u001b[0m/content/images/train/1154.tif: ignoring corrupt image/label: negative label values [  -0.004151   -0.002248   -0.011761]\n",
            "\u001b[34m\u001b[1mtrain: \u001b[0m/content/images/train/1164.tif: ignoring corrupt image/label: non-normalized or out of bounds coordinates [     1.0005      1.0005      1.0002]\n",
            "\u001b[34m\u001b[1mtrain: \u001b[0m/content/images/train/1165.tif: ignoring corrupt image/label: negative label values [  -0.001383   -0.000518   -0.000692   -0.000692   -0.003805]\n",
            "\u001b[34m\u001b[1mtrain: \u001b[0m/content/images/train/1169.tif: ignoring corrupt image/label: non-normalized or out of bounds coordinates [     1.0028]\n",
            "\u001b[34m\u001b[1mtrain: \u001b[0m/content/images/train/1175.tif: ignoring corrupt image/label: non-normalized or out of bounds coordinates [     1.0003]\n",
            "\u001b[34m\u001b[1mtrain: \u001b[0m/content/images/train/1180.tif: ignoring corrupt image/label: non-normalized or out of bounds coordinates [     1.0005]\n",
            "\u001b[34m\u001b[1mtrain: \u001b[0m/content/images/train/1182.tif: ignoring corrupt image/label: negative label values [  -0.000874   -0.001399   -0.001049]\n",
            "\u001b[34m\u001b[1mtrain: \u001b[0m/content/images/train/1184.tif: ignoring corrupt image/label: negative label values [  -0.001399   -0.001466]\n",
            "\u001b[34m\u001b[1mtrain: \u001b[0m/content/images/train/1185.tif: ignoring corrupt image/label: negative label values [  -0.004196]\n",
            "\u001b[34m\u001b[1mtrain: \u001b[0m/content/images/train/1192.tif: ignoring corrupt image/label: non-normalized or out of bounds coordinates [     1.0062      1.0007      1.0026]\n",
            "\u001b[34m\u001b[1mtrain: \u001b[0m/content/images/train/1193.tif: ignoring corrupt image/label: non-normalized or out of bounds coordinates [     1.0021      1.0014]\n",
            "\u001b[34m\u001b[1mtrain: \u001b[0m/content/images/train/1196.tif: ignoring corrupt image/label: negative label values [  -0.000175]\n",
            "\u001b[34m\u001b[1mtrain: \u001b[0m/content/images/train/1205.tif: ignoring corrupt image/label: non-normalized or out of bounds coordinates [     1.0005      1.0014]\n",
            "\u001b[34m\u001b[1mtrain: \u001b[0m/content/images/train/1208.tif: ignoring corrupt image/label: non-normalized or out of bounds coordinates [     1.0017      1.0514]\n",
            "\u001b[34m\u001b[1mtrain: \u001b[0m/content/images/train/1211.tif: ignoring corrupt image/label: non-normalized or out of bounds coordinates [     1.0064]\n",
            "\u001b[34m\u001b[1mtrain: \u001b[0m/content/images/train/1217.tif: ignoring corrupt image/label: non-normalized or out of bounds coordinates [     1.0005      1.0009      1.0012      1.0003       1.001      1.0003      1.0012      1.0002      1.0185      1.0036      1.0012      1.0204      1.0041]\n",
            "\u001b[34m\u001b[1mtrain: \u001b[0m/content/images/train/128.tif: ignoring corrupt image/label: negative label values [  -0.000647]\n",
            "\u001b[34m\u001b[1mtrain: \u001b[0m/content/images/train/1284.tif: ignoring corrupt image/label: non-normalized or out of bounds coordinates [     1.0428]\n",
            "\u001b[34m\u001b[1mtrain: \u001b[0m/content/images/train/1285.tif: ignoring corrupt image/label: non-normalized or out of bounds coordinates [     1.1158]\n",
            "\u001b[34m\u001b[1mtrain: \u001b[0m/content/images/train/129.tif: ignoring corrupt image/label: non-normalized or out of bounds coordinates [     1.0012]\n",
            "\u001b[34m\u001b[1mtrain: \u001b[0m/content/images/train/1327.tif: ignoring corrupt image/label: non-normalized or out of bounds coordinates [     1.0348]\n",
            "\u001b[34m\u001b[1mtrain: \u001b[0m/content/images/train/1361.tif: ignoring corrupt image/label: non-normalized or out of bounds coordinates [     1.0023]\n",
            "\u001b[34m\u001b[1mtrain: \u001b[0m/content/images/train/1379.tif: ignoring corrupt image/label: non-normalized or out of bounds coordinates [     1.0358       1.071      1.0049]\n",
            "\u001b[34m\u001b[1mtrain: \u001b[0m/content/images/train/1397.tif: ignoring corrupt image/label: non-normalized or out of bounds coordinates [     1.0061]\n",
            "\u001b[34m\u001b[1mtrain: \u001b[0m/content/images/train/1399.tif: ignoring corrupt image/label: non-normalized or out of bounds coordinates [     1.0412]\n",
            "\u001b[34m\u001b[1mtrain: \u001b[0m/content/images/train/140.tif: ignoring corrupt image/label: negative label values [  -0.000477]\n",
            "\u001b[34m\u001b[1mtrain: \u001b[0m/content/images/train/1405.tif: ignoring corrupt image/label: negative label values [  -0.001353]\n",
            "\u001b[34m\u001b[1mtrain: \u001b[0m/content/images/train/1416.tif: ignoring corrupt image/label: non-normalized or out of bounds coordinates [     1.0061]\n",
            "\u001b[34m\u001b[1mtrain: \u001b[0m/content/images/train/1418.tif: ignoring corrupt image/label: non-normalized or out of bounds coordinates [     1.0031]\n",
            "\u001b[34m\u001b[1mtrain: \u001b[0m/content/images/train/1431.tif: ignoring corrupt image/label: non-normalized or out of bounds coordinates [     1.0032      1.0033]\n",
            "\u001b[34m\u001b[1mtrain: \u001b[0m/content/images/train/1439.tif: ignoring corrupt image/label: negative label values [  -0.025194]\n",
            "\u001b[34m\u001b[1mtrain: \u001b[0m/content/images/train/1441.tif: ignoring corrupt image/label: non-normalized or out of bounds coordinates [     1.0024]\n",
            "\u001b[34m\u001b[1mtrain: \u001b[0m/content/images/train/1442.tif: ignoring corrupt image/label: non-normalized or out of bounds coordinates [     1.0827]\n",
            "\u001b[34m\u001b[1mtrain: \u001b[0m/content/images/train/1444.tif: ignoring corrupt image/label: negative label values [  -0.001112   -0.000383]\n",
            "\u001b[34m\u001b[1mtrain: \u001b[0m/content/images/train/1445.tif: ignoring corrupt image/label: negative label values [  -0.001406]\n",
            "\u001b[34m\u001b[1mtrain: \u001b[0m/content/images/train/1446.tif: ignoring corrupt image/label: non-normalized or out of bounds coordinates [     1.0036]\n",
            "\u001b[34m\u001b[1mtrain: \u001b[0m/content/images/train/1450.tif: ignoring corrupt image/label: non-normalized or out of bounds coordinates [     1.0004      1.0017      1.0015      1.0001      1.0037      1.0185]\n",
            "\u001b[34m\u001b[1mtrain: \u001b[0m/content/images/train/1451.tif: ignoring corrupt image/label: negative label values [  -0.000489   -0.003258]\n",
            "\u001b[34m\u001b[1mtrain: \u001b[0m/content/images/train/1454.tif: ignoring corrupt image/label: non-normalized or out of bounds coordinates [     1.0025      1.0022      1.0063]\n",
            "\u001b[34m\u001b[1mtrain: \u001b[0m/content/images/train/1465.tif: ignoring corrupt image/label: non-normalized or out of bounds coordinates [     1.0017       1.001      1.0006      1.0011]\n",
            "\u001b[34m\u001b[1mtrain: \u001b[0m/content/images/train/1472.tif: ignoring corrupt image/label: negative label values [  -0.001405   -0.000511   -0.001149   -0.001405   -0.002682]\n",
            "\u001b[34m\u001b[1mtrain: \u001b[0m/content/images/train/1508.tif: ignoring corrupt image/label: negative label values [  -0.003088]\n",
            "\u001b[34m\u001b[1mtrain: \u001b[0m/content/images/train/1530.tif: ignoring corrupt image/label: non-normalized or out of bounds coordinates [     1.0002]\n",
            "\u001b[34m\u001b[1mtrain: \u001b[0m/content/images/train/1568.tif: ignoring corrupt image/label: negative label values [  -0.027365]\n",
            "\u001b[34m\u001b[1mtrain: \u001b[0m/content/images/train/1585.tif: ignoring corrupt image/label: negative label values [  -0.001599   -0.001777]\n",
            "\u001b[34m\u001b[1mtrain: \u001b[0m/content/images/train/1590.tif: ignoring corrupt image/label: non-normalized or out of bounds coordinates [     1.0177]\n",
            "\u001b[34m\u001b[1mtrain: \u001b[0m/content/images/train/1607.tif: ignoring corrupt image/label: non-normalized or out of bounds coordinates [     1.0014]\n",
            "\u001b[34m\u001b[1mtrain: \u001b[0m/content/images/train/163.tif: ignoring corrupt image/label: non-normalized or out of bounds coordinates [     1.0078]\n",
            "\u001b[34m\u001b[1mtrain: \u001b[0m/content/images/train/1633.tif: ignoring corrupt image/label: negative label values [  -0.000155   -0.001086   -0.001707]\n",
            "\u001b[34m\u001b[1mtrain: \u001b[0m/content/images/train/1675.tif: ignoring corrupt image/label: non-normalized or out of bounds coordinates [     1.0076]\n",
            "\u001b[34m\u001b[1mtrain: \u001b[0m/content/images/train/1690.tif: ignoring corrupt image/label: negative label values [  -0.001333   -0.005522]\n",
            "\u001b[34m\u001b[1mtrain: \u001b[0m/content/images/train/1703.tif: ignoring corrupt image/label: non-normalized or out of bounds coordinates [     1.0061]\n",
            "\u001b[34m\u001b[1mtrain: \u001b[0m/content/images/train/1806.tif: ignoring corrupt image/label: negative label values [  -0.000475]\n",
            "\u001b[34m\u001b[1mtrain: \u001b[0m/content/images/train/1809.tif: ignoring corrupt image/label: non-normalized or out of bounds coordinates [     1.0013]\n",
            "\u001b[34m\u001b[1mtrain: \u001b[0m/content/images/train/1817.tif: ignoring corrupt image/label: non-normalized or out of bounds coordinates [     1.0001]\n",
            "\u001b[34m\u001b[1mtrain: \u001b[0m/content/images/train/1820.tif: ignoring corrupt image/label: negative label values [  -0.004814]\n",
            "\u001b[34m\u001b[1mtrain: \u001b[0m/content/images/train/1831.tif: ignoring corrupt image/label: non-normalized or out of bounds coordinates [     1.0116]\n",
            "\u001b[34m\u001b[1mtrain: \u001b[0m/content/images/train/1832.tif: ignoring corrupt image/label: negative label values [   -0.00138   -0.004141   -0.000767   -0.000767   -0.001131   -0.002746]\n",
            "\u001b[34m\u001b[1mtrain: \u001b[0m/content/images/train/1838.tif: ignoring corrupt image/label: negative label values [  -0.003373    -0.00046   -0.000613]\n",
            "\u001b[34m\u001b[1mtrain: \u001b[0m/content/images/train/1841.tif: ignoring corrupt image/label: non-normalized or out of bounds coordinates [     1.0033]\n",
            "\u001b[34m\u001b[1mtrain: \u001b[0m/content/images/train/1847.tif: ignoring corrupt image/label: non-normalized or out of bounds coordinates [     1.0006      1.0005      1.0003      1.0005      1.0011      1.0003      1.0003      1.0013      1.0006]\n",
            "\u001b[34m\u001b[1mtrain: \u001b[0m/content/images/train/1849.tif: ignoring corrupt image/label: negative label values [  -0.000687   -0.006357]\n",
            "\u001b[34m\u001b[1mtrain: \u001b[0m/content/images/train/1855.tif: ignoring corrupt image/label: non-normalized or out of bounds coordinates [     1.0029]\n",
            "\u001b[34m\u001b[1mtrain: \u001b[0m/content/images/train/1856.tif: ignoring corrupt image/label: non-normalized or out of bounds coordinates [     1.0026]\n",
            "\u001b[34m\u001b[1mtrain: \u001b[0m/content/images/train/1858.tif: ignoring corrupt image/label: negative label values [  -0.012032   -0.005328   -0.013063]\n",
            "\u001b[34m\u001b[1mtrain: \u001b[0m/content/images/train/1891.tif: ignoring corrupt image/label: non-normalized or out of bounds coordinates [     1.0013      1.0015      1.0001      1.0001      1.0009]\n",
            "\u001b[34m\u001b[1mtrain: \u001b[0m/content/images/train/1896.tif: ignoring corrupt image/label: negative label values [  -0.036611   -0.021657   -0.001547   -0.030079]\n",
            "\u001b[34m\u001b[1mtrain: \u001b[0m/content/images/train/1897.tif: ignoring corrupt image/label: non-normalized or out of bounds coordinates [     1.0188]\n",
            "\u001b[34m\u001b[1mtrain: \u001b[0m/content/images/train/1898.tif: ignoring corrupt image/label: non-normalized or out of bounds coordinates [      1.005      1.0024      1.0044]\n",
            "\u001b[34m\u001b[1mtrain: \u001b[0m/content/images/train/1906.tif: ignoring corrupt image/label: negative label values [   -0.01925   -0.034653   -0.001794   -0.005873   -0.009462]\n",
            "\u001b[34m\u001b[1mtrain: \u001b[0m/content/images/train/1907.tif: ignoring corrupt image/label: negative label values [  -0.003094]\n",
            "\u001b[34m\u001b[1mtrain: \u001b[0m/content/images/train/1910.tif: ignoring corrupt image/label: negative label values [  -0.000591]\n",
            "\u001b[34m\u001b[1mtrain: \u001b[0m/content/images/train/1918.tif: ignoring corrupt image/label: non-normalized or out of bounds coordinates [     1.0008      1.0269      1.0135]\n",
            "\u001b[34m\u001b[1mtrain: \u001b[0m/content/images/train/1920.tif: ignoring corrupt image/label: negative label values [  -0.004554]\n",
            "\u001b[34m\u001b[1mtrain: \u001b[0m/content/images/train/1921.tif: ignoring corrupt image/label: non-normalized or out of bounds coordinates [     1.0036]\n",
            "\u001b[34m\u001b[1mtrain: \u001b[0m/content/images/train/2009.tif: ignoring corrupt image/label: non-normalized or out of bounds coordinates [     1.0038]\n",
            "\u001b[34m\u001b[1mtrain: \u001b[0m/content/images/train/2010.tif: ignoring corrupt image/label: non-normalized or out of bounds coordinates [     1.0013      1.0167]\n",
            "\u001b[34m\u001b[1mtrain: \u001b[0m/content/images/train/2026.tif: ignoring corrupt image/label: non-normalized or out of bounds coordinates [     1.0016]\n",
            "\u001b[34m\u001b[1mtrain: \u001b[0m/content/images/train/2029.tif: ignoring corrupt image/label: negative label values [  -0.000583]\n",
            "\u001b[34m\u001b[1mtrain: \u001b[0m/content/images/train/203.tif: ignoring corrupt image/label: non-normalized or out of bounds coordinates [     1.0015]\n",
            "\u001b[34m\u001b[1mtrain: \u001b[0m/content/images/train/2031.tif: ignoring corrupt image/label: non-normalized or out of bounds coordinates [     1.0006       1.001]\n",
            "\u001b[34m\u001b[1mtrain: \u001b[0m/content/images/train/2062.tif: ignoring corrupt image/label: non-normalized or out of bounds coordinates [     1.0002]\n",
            "\u001b[34m\u001b[1mtrain: \u001b[0m/content/images/train/2064.tif: ignoring corrupt image/label: non-normalized or out of bounds coordinates [      1.001       1.001]\n",
            "\u001b[34m\u001b[1mtrain: \u001b[0m/content/images/train/2078.tif: ignoring corrupt image/label: non-normalized or out of bounds coordinates [     1.0002      1.0025]\n",
            "\u001b[34m\u001b[1mtrain: \u001b[0m/content/images/train/2118.tif: ignoring corrupt image/label: negative label values [  -0.001459]\n",
            "\u001b[34m\u001b[1mtrain: \u001b[0m/content/images/train/2131.tif: ignoring corrupt image/label: non-normalized or out of bounds coordinates [      1.001      1.0142]\n",
            "\u001b[34m\u001b[1mtrain: \u001b[0m/content/images/train/2160.tif: ignoring corrupt image/label: negative label values [  -0.000943   -0.012707]\n",
            "\u001b[34m\u001b[1mtrain: \u001b[0m/content/images/train/2168.tif: ignoring corrupt image/label: non-normalized or out of bounds coordinates [     1.0004      1.0009]\n",
            "\u001b[34m\u001b[1mtrain: \u001b[0m/content/images/train/2179.tif: ignoring corrupt image/label: non-normalized or out of bounds coordinates [     1.0117]\n",
            "\u001b[34m\u001b[1mtrain: \u001b[0m/content/images/train/2214.tif: ignoring corrupt image/label: non-normalized or out of bounds coordinates [     1.0036]\n",
            "\u001b[34m\u001b[1mtrain: \u001b[0m/content/images/train/2215.tif: ignoring corrupt image/label: negative label values [  -0.003598]\n",
            "\u001b[34m\u001b[1mtrain: \u001b[0m/content/images/train/2230.tif: ignoring corrupt image/label: negative label values [  -0.014248   -0.000291]\n",
            "\u001b[34m\u001b[1mtrain: \u001b[0m/content/images/train/2268.tif: ignoring corrupt image/label: non-normalized or out of bounds coordinates [      1.005]\n",
            "\u001b[34m\u001b[1mtrain: \u001b[0m/content/images/train/2281.tif: ignoring corrupt image/label: negative label values [  -0.045488]\n",
            "\u001b[34m\u001b[1mtrain: \u001b[0m/content/images/train/2308.tif: ignoring corrupt image/label: non-normalized or out of bounds coordinates [     1.0081]\n",
            "\u001b[34m\u001b[1mtrain: \u001b[0m/content/images/train/2341.tif: ignoring corrupt image/label: non-normalized or out of bounds coordinates [     1.0024]\n",
            "\u001b[34m\u001b[1mtrain: \u001b[0m/content/images/train/2371.tif: ignoring corrupt image/label: non-normalized or out of bounds coordinates [     1.0002]\n",
            "\u001b[34m\u001b[1mtrain: \u001b[0m/content/images/train/2384.tif: ignoring corrupt image/label: non-normalized or out of bounds coordinates [     1.0017      1.0013      1.0006      1.0007]\n",
            "\u001b[34m\u001b[1mtrain: \u001b[0m/content/images/train/2399.tif: ignoring corrupt image/label: negative label values [  -0.002062]\n",
            "\u001b[34m\u001b[1mtrain: \u001b[0m/content/images/train/2459.tif: ignoring corrupt image/label: negative label values [  -0.000156   -0.001564]\n",
            "\u001b[34m\u001b[1mtrain: \u001b[0m/content/images/train/2460.tif: ignoring corrupt image/label: negative label values [  -0.001408   -0.028317   -0.012516   -0.004698]\n",
            "\u001b[34m\u001b[1mtrain: \u001b[0m/content/images/train/2470.tif: ignoring corrupt image/label: non-normalized or out of bounds coordinates [     1.0036]\n",
            "\u001b[34m\u001b[1mtrain: \u001b[0m/content/images/train/2472.tif: ignoring corrupt image/label: non-normalized or out of bounds coordinates [     1.0009      1.0049      1.0023      1.0022      1.0133]\n",
            "\u001b[34m\u001b[1mtrain: \u001b[0m/content/images/train/2482.tif: ignoring corrupt image/label: negative label values [  -0.003442]\n",
            "\u001b[34m\u001b[1mtrain: \u001b[0m/content/images/train/2505.tif: ignoring corrupt image/label: non-normalized or out of bounds coordinates [     1.1213      1.0223]\n",
            "\u001b[34m\u001b[1mtrain: \u001b[0m/content/images/train/2514.tif: ignoring corrupt image/label: non-normalized or out of bounds coordinates [      1.001]\n",
            "\u001b[34m\u001b[1mtrain: \u001b[0m/content/images/train/2530.tif: ignoring corrupt image/label: non-normalized or out of bounds coordinates [     1.0284]\n",
            "\u001b[34m\u001b[1mtrain: \u001b[0m/content/images/train/2545.tif: ignoring corrupt image/label: non-normalized or out of bounds coordinates [     1.0029]\n",
            "\u001b[34m\u001b[1mtrain: \u001b[0m/content/images/train/2550.tif: ignoring corrupt image/label: non-normalized or out of bounds coordinates [     1.0012      1.0017]\n",
            "\u001b[34m\u001b[1mtrain: \u001b[0m/content/images/train/2552.tif: ignoring corrupt image/label: negative label values [   -0.00235   -0.001808]\n",
            "\u001b[34m\u001b[1mtrain: \u001b[0m/content/images/train/2555.tif: ignoring corrupt image/label: negative label values [  -0.007858]\n",
            "\u001b[34m\u001b[1mtrain: \u001b[0m/content/images/train/2557.tif: ignoring corrupt image/label: negative label values [  -0.012519]\n",
            "\u001b[34m\u001b[1mtrain: \u001b[0m/content/images/train/2560.tif: ignoring corrupt image/label: non-normalized or out of bounds coordinates [     1.0434      1.0185]\n",
            "\u001b[34m\u001b[1mtrain: \u001b[0m/content/images/train/2567.tif: ignoring corrupt image/label: non-normalized or out of bounds coordinates [     1.0644]\n",
            "\u001b[34m\u001b[1mtrain: \u001b[0m/content/images/train/2568.tif: ignoring corrupt image/label: negative label values [  -0.003618]\n",
            "\u001b[34m\u001b[1mtrain: \u001b[0m/content/images/train/2571.tif: ignoring corrupt image/label: non-normalized or out of bounds coordinates [     1.0002      1.0921      1.0471]\n",
            "\u001b[34m\u001b[1mtrain: \u001b[0m/content/images/train/2591.tif: ignoring corrupt image/label: non-normalized or out of bounds coordinates [     1.0046]\n",
            "\u001b[34m\u001b[1mtrain: \u001b[0m/content/images/train/2599.tif: ignoring corrupt image/label: non-normalized or out of bounds coordinates [      1.004      1.0004]\n",
            "\u001b[34m\u001b[1mtrain: \u001b[0m/content/images/train/294.tif: ignoring corrupt image/label: negative label values [  -0.002611]\n",
            "\u001b[34m\u001b[1mtrain: \u001b[0m/content/images/train/302.tif: ignoring corrupt image/label: negative label values [  -0.000979]\n",
            "\u001b[34m\u001b[1mtrain: \u001b[0m/content/images/train/31.tif: ignoring corrupt image/label: non-normalized or out of bounds coordinates [     1.0015      1.0113]\n",
            "\u001b[34m\u001b[1mtrain: \u001b[0m/content/images/train/340.tif: ignoring corrupt image/label: non-normalized or out of bounds coordinates [     1.0048]\n",
            "\u001b[34m\u001b[1mtrain: \u001b[0m/content/images/train/345.tif: ignoring corrupt image/label: negative label values [  -0.001346   -0.001922   -0.001346   -0.002115   -0.001153   -0.000961   -0.002115   -0.001153   -0.000961   -0.001538   -0.001153   -0.001538   -0.000577   -0.000384]\n",
            "\u001b[34m\u001b[1mtrain: \u001b[0m/content/images/train/433.tif: ignoring corrupt image/label: negative label values [  -0.001678    -0.00235]\n",
            "\u001b[34m\u001b[1mtrain: \u001b[0m/content/images/train/509.tif: ignoring corrupt image/label: non-normalized or out of bounds coordinates [     1.0158      1.0014      1.0105      1.0433      1.0165      1.0476      1.0138      1.0061      1.0106]\n",
            "\u001b[34m\u001b[1mtrain: \u001b[0m/content/images/train/513.tif: ignoring corrupt image/label: negative label values [  -0.004846   -0.030597]\n",
            "\u001b[34m\u001b[1mtrain: \u001b[0m/content/images/train/523.tif: ignoring corrupt image/label: non-normalized or out of bounds coordinates [     1.0005]\n",
            "\u001b[34m\u001b[1mtrain: \u001b[0m/content/images/train/525.tif: ignoring corrupt image/label: non-normalized or out of bounds coordinates [     1.0023      1.0036      1.0009      1.0003      1.0015      1.0014      1.0005]\n",
            "\u001b[34m\u001b[1mtrain: \u001b[0m/content/images/train/534.tif: ignoring corrupt image/label: non-normalized or out of bounds coordinates [     1.0034]\n",
            "\u001b[34m\u001b[1mtrain: \u001b[0m/content/images/train/540.tif: ignoring corrupt image/label: negative label values [  -0.001444]\n",
            "\u001b[34m\u001b[1mtrain: \u001b[0m/content/images/train/546.tif: ignoring corrupt image/label: non-normalized or out of bounds coordinates [     1.0011      1.0011      1.0014      1.0002      1.0048      1.0002]\n",
            "\u001b[34m\u001b[1mtrain: \u001b[0m/content/images/train/548.tif: ignoring corrupt image/label: negative label values [  -0.000302   -0.000604   -0.001359   -0.000453   -0.001208   -0.000906   -0.019726   -0.001273   -0.002068]\n",
            "\u001b[34m\u001b[1mtrain: \u001b[0m/content/images/train/568.tif: ignoring corrupt image/label: non-normalized or out of bounds coordinates [     1.0005]\n",
            "\u001b[34m\u001b[1mtrain: \u001b[0m/content/images/train/579.tif: ignoring corrupt image/label: negative label values [  -0.001264]\n",
            "\u001b[34m\u001b[1mtrain: \u001b[0m/content/images/train/584.tif: ignoring corrupt image/label: non-normalized or out of bounds coordinates [     1.0042]\n",
            "\u001b[34m\u001b[1mtrain: \u001b[0m/content/images/train/598.tif: ignoring corrupt image/label: negative label values [  -0.000361]\n",
            "\u001b[34m\u001b[1mtrain: \u001b[0m/content/images/train/600.tif: ignoring corrupt image/label: non-normalized or out of bounds coordinates [     1.0005      1.0025      1.0014]\n",
            "\u001b[34m\u001b[1mtrain: \u001b[0m/content/images/train/610.tif: ignoring corrupt image/label: negative label values [  -0.000903   -0.002347   -0.001083   -0.001806   -0.001264]\n",
            "\u001b[34m\u001b[1mtrain: \u001b[0m/content/images/train/613.tif: ignoring corrupt image/label: negative label values [  -0.001083]\n",
            "\u001b[34m\u001b[1mtrain: \u001b[0m/content/images/train/741.tif: ignoring corrupt image/label: negative label values [  -0.001064]\n",
            "\u001b[34m\u001b[1mtrain: \u001b[0m/content/images/train/75.tif: ignoring corrupt image/label: non-normalized or out of bounds coordinates [     1.0003]\n",
            "\u001b[34m\u001b[1mtrain: \u001b[0m/content/images/train/794.tif: ignoring corrupt image/label: non-normalized or out of bounds coordinates [     1.0002]\n",
            "\u001b[34m\u001b[1mtrain: \u001b[0m/content/images/train/80.tif: ignoring corrupt image/label: non-normalized or out of bounds coordinates [     1.0002]\n",
            "\u001b[34m\u001b[1mtrain: \u001b[0m/content/images/train/807.tif: ignoring corrupt image/label: negative label values [  -0.004711]\n",
            "\u001b[34m\u001b[1mtrain: \u001b[0m/content/images/train/884.tif: ignoring corrupt image/label: negative label values [  -0.000456]\n",
            "\u001b[34m\u001b[1mtrain: \u001b[0m/content/images/train/885.tif: ignoring corrupt image/label: negative label values [  -0.001849]\n",
            "\u001b[34m\u001b[1mtrain: \u001b[0m/content/images/train/89.tif: ignoring corrupt image/label: negative label values [  -0.001657]\n",
            "\u001b[34m\u001b[1mtrain: \u001b[0m/content/images/train/905.tif: ignoring corrupt image/label: negative label values [  -0.003798]\n",
            "\u001b[34m\u001b[1mtrain: \u001b[0m/content/images/train/914.tif: ignoring corrupt image/label: negative label values [  -0.003193]\n",
            "\u001b[34m\u001b[1mtrain: \u001b[0m/content/images/train/92.tif: ignoring corrupt image/label: negative label values [  -0.001106   -0.000184]\n",
            "\u001b[34m\u001b[1mtrain: \u001b[0m/content/images/train/926.tif: ignoring corrupt image/label: non-normalized or out of bounds coordinates [     1.0015      1.0034]\n"
          ]
        },
        {
          "output_type": "stream",
          "name": "stderr",
          "text": [
            "\n"
          ]
        },
        {
          "output_type": "stream",
          "name": "stdout",
          "text": [
            "\u001b[34m\u001b[1malbumentations: \u001b[0mBlur(p=0.01, blur_limit=(3, 7)), MedianBlur(p=0.01, blur_limit=(3, 7)), ToGray(p=0.01, method='weighted_average', num_output_channels=3), CLAHE(p=0.01, clip_limit=(1.0, 4.0), tile_grid_size=(8, 8))\n",
            "\u001b[34m\u001b[1mval: \u001b[0mFast image access ✅ (ping: 0.1±0.0 ms, read: 151.2±52.0 MB/s, size: 28874.2 KB)\n"
          ]
        },
        {
          "output_type": "stream",
          "name": "stderr",
          "text": [
            "\u001b[34m\u001b[1mval: \u001b[0mScanning /content/labels/val.cache... 154 images, 0 backgrounds, 44 corrupt: 100%|██████████| 154/154 [00:00<?, ?it/s]"
          ]
        },
        {
          "output_type": "stream",
          "name": "stdout",
          "text": [
            "\u001b[34m\u001b[1mval: \u001b[0m/content/images/val/1046.tif: ignoring corrupt image/label: negative label values [  -0.001095]\n",
            "\u001b[34m\u001b[1mval: \u001b[0m/content/images/val/107.tif: ignoring corrupt image/label: negative label values [  -0.065401]\n",
            "\u001b[34m\u001b[1mval: \u001b[0m/content/images/val/1090.tif: ignoring corrupt image/label: negative label values [  -0.000156]\n",
            "\u001b[34m\u001b[1mval: \u001b[0m/content/images/val/1104.tif: ignoring corrupt image/label: non-normalized or out of bounds coordinates [     1.0114      1.0014]\n",
            "\u001b[34m\u001b[1mval: \u001b[0m/content/images/val/1109.tif: ignoring corrupt image/label: negative label values [   -0.00189]\n",
            "\u001b[34m\u001b[1mval: \u001b[0m/content/images/val/1121.tif: ignoring corrupt image/label: non-normalized or out of bounds coordinates [     1.0008]\n",
            "\u001b[34m\u001b[1mval: \u001b[0m/content/images/val/1158.tif: ignoring corrupt image/label: non-normalized or out of bounds coordinates [     1.0161      1.0079      1.0042]\n",
            "\u001b[34m\u001b[1mval: \u001b[0m/content/images/val/1178.tif: ignoring corrupt image/label: non-normalized or out of bounds coordinates [     1.0042]\n",
            "\u001b[34m\u001b[1mval: \u001b[0m/content/images/val/1181.tif: ignoring corrupt image/label: negative label values [  -0.008299   -0.000692   -0.000864   -0.003112]\n",
            "\u001b[34m\u001b[1mval: \u001b[0m/content/images/val/1206.tif: ignoring corrupt image/label: negative label values [   -0.00173   -0.000173   -0.001902]\n",
            "\u001b[34m\u001b[1mval: \u001b[0m/content/images/val/1212.tif: ignoring corrupt image/label: non-normalized or out of bounds coordinates [     1.0003      1.0009      1.0012      1.0036      1.0026      1.0005]\n",
            "\u001b[34m\u001b[1mval: \u001b[0m/content/images/val/1216.tif: ignoring corrupt image/label: non-normalized or out of bounds coordinates [     1.0016      1.0002      1.0009      1.0007      1.0002      1.0003      1.0005      1.0012      1.0014       1.001      1.0002]\n",
            "\u001b[34m\u001b[1mval: \u001b[0m/content/images/val/1357.tif: ignoring corrupt image/label: negative label values [  -0.000607]\n",
            "\u001b[34m\u001b[1mval: \u001b[0m/content/images/val/1378.tif: ignoring corrupt image/label: non-normalized or out of bounds coordinates [     1.0052]\n",
            "\u001b[34m\u001b[1mval: \u001b[0m/content/images/val/1425.tif: ignoring corrupt image/label: negative label values [  -0.001269]\n",
            "\u001b[34m\u001b[1mval: \u001b[0m/content/images/val/144.tif: ignoring corrupt image/label: non-normalized or out of bounds coordinates [      1.065]\n",
            "\u001b[34m\u001b[1mval: \u001b[0m/content/images/val/145.tif: ignoring corrupt image/label: negative label values [  -0.006565]\n",
            "\u001b[34m\u001b[1mval: \u001b[0m/content/images/val/1452.tif: ignoring corrupt image/label: negative label values [  -0.001406   -0.007156   -0.006194   -0.005878   -0.006261   -0.006133]\n",
            "\u001b[34m\u001b[1mval: \u001b[0m/content/images/val/1457.tif: ignoring corrupt image/label: non-normalized or out of bounds coordinates [     1.0007]\n",
            "\u001b[34m\u001b[1mval: \u001b[0m/content/images/val/1459.tif: ignoring corrupt image/label: non-normalized or out of bounds coordinates [     1.0025      1.0024      1.0013      1.0011      1.0006      1.0014      1.0003      1.0005      1.0054      1.0051      1.0019      1.0014      1.0008]\n",
            "\u001b[34m\u001b[1mval: \u001b[0m/content/images/val/1630.tif: ignoring corrupt image/label: negative label values [  -0.000466   -0.002793   -0.007294    -0.00419]\n",
            "\u001b[34m\u001b[1mval: \u001b[0m/content/images/val/1656.tif: ignoring corrupt image/label: non-normalized or out of bounds coordinates [     1.0003      1.0017      1.0011      1.0005       1.002      1.0056]\n",
            "\u001b[34m\u001b[1mval: \u001b[0m/content/images/val/1919.tif: ignoring corrupt image/label: non-normalized or out of bounds coordinates [     1.0034]\n",
            "\u001b[34m\u001b[1mval: \u001b[0m/content/images/val/1928.tif: ignoring corrupt image/label: non-normalized or out of bounds coordinates [     1.0131]\n",
            "\u001b[34m\u001b[1mval: \u001b[0m/content/images/val/1931.tif: ignoring corrupt image/label: non-normalized or out of bounds coordinates [     1.0327]\n",
            "\u001b[34m\u001b[1mval: \u001b[0m/content/images/val/1961.tif: ignoring corrupt image/label: negative label values [  -0.000292   -0.000875]\n",
            "\u001b[34m\u001b[1mval: \u001b[0m/content/images/val/2032.tif: ignoring corrupt image/label: negative label values [  -0.001937]\n",
            "\u001b[34m\u001b[1mval: \u001b[0m/content/images/val/2292.tif: ignoring corrupt image/label: non-normalized or out of bounds coordinates [     1.0024]\n",
            "\u001b[34m\u001b[1mval: \u001b[0m/content/images/val/2294.tif: ignoring corrupt image/label: negative label values [  -0.013066   -0.007645]\n",
            "\u001b[34m\u001b[1mval: \u001b[0m/content/images/val/2309.tif: ignoring corrupt image/label: negative label values [  -0.007692]\n",
            "\u001b[34m\u001b[1mval: \u001b[0m/content/images/val/2391.tif: ignoring corrupt image/label: negative label values [  -0.001349]\n",
            "\u001b[34m\u001b[1mval: \u001b[0m/content/images/val/2497.tif: ignoring corrupt image/label: non-normalized or out of bounds coordinates [      1.003      1.0052      1.0006]\n",
            "\u001b[34m\u001b[1mval: \u001b[0m/content/images/val/2519.tif: ignoring corrupt image/label: negative label values [   -0.00438]\n",
            "\u001b[34m\u001b[1mval: \u001b[0m/content/images/val/2523.tif: ignoring corrupt image/label: negative label values [  -0.016135]\n",
            "\u001b[34m\u001b[1mval: \u001b[0m/content/images/val/2573.tif: ignoring corrupt image/label: negative label values [   -0.02112   -0.010122]\n",
            "\u001b[34m\u001b[1mval: \u001b[0m/content/images/val/2574.tif: ignoring corrupt image/label: non-normalized or out of bounds coordinates [     1.0356      1.0306]\n",
            "\u001b[34m\u001b[1mval: \u001b[0m/content/images/val/2618.tif: ignoring corrupt image/label: negative label values [  -0.048618]\n",
            "\u001b[34m\u001b[1mval: \u001b[0m/content/images/val/360.tif: ignoring corrupt image/label: non-normalized or out of bounds coordinates [     1.0029]\n",
            "\u001b[34m\u001b[1mval: \u001b[0m/content/images/val/362.tif: ignoring corrupt image/label: negative label values [  -0.000755]\n",
            "\u001b[34m\u001b[1mval: \u001b[0m/content/images/val/531.tif: ignoring corrupt image/label: non-normalized or out of bounds coordinates [     1.0011      1.0004      1.0016      1.0009      1.0018       1.002      1.0002]\n",
            "\u001b[34m\u001b[1mval: \u001b[0m/content/images/val/535.tif: ignoring corrupt image/label: negative label values [  -0.015445]\n",
            "\u001b[34m\u001b[1mval: \u001b[0m/content/images/val/562.tif: ignoring corrupt image/label: non-normalized or out of bounds coordinates [     1.0009]\n",
            "\u001b[34m\u001b[1mval: \u001b[0m/content/images/val/569.tif: ignoring corrupt image/label: negative label values [  -0.002717]\n",
            "\u001b[34m\u001b[1mval: \u001b[0m/content/images/val/587.tif: ignoring corrupt image/label: non-normalized or out of bounds coordinates [     1.0041]\n"
          ]
        },
        {
          "output_type": "stream",
          "name": "stderr",
          "text": [
            "\n"
          ]
        },
        {
          "output_type": "stream",
          "name": "stdout",
          "text": [
            "Plotting labels to runs/detect/xview_yolo84/labels.jpg... \n",
            "\u001b[34m\u001b[1moptimizer:\u001b[0m 'optimizer=auto' found, ignoring 'lr0=0.01' and 'momentum=0.937' and determining best 'optimizer', 'lr0' and 'momentum' automatically... \n",
            "\u001b[34m\u001b[1moptimizer:\u001b[0m AdamW(lr=0.000156, momentum=0.9) with parameter groups 77 weight(decay=0.0), 84 weight(decay=0.0005), 83 bias(decay=0.0)\n",
            "Image sizes 1024 train, 1024 val\n",
            "Using 2 dataloader workers\n",
            "Logging results to \u001b[1mruns/detect/xview_yolo84\u001b[0m\n",
            "Starting training for 15 epochs...\n",
            "\n",
            "      Epoch    GPU_mem   box_loss   cls_loss   dfl_loss  Instances       Size\n"
          ]
        },
        {
          "output_type": "stream",
          "name": "stderr",
          "text": [
            "\r  0%|          | 0/28 [00:00<?, ?it/s]"
          ]
        },
        {
          "output_type": "stream",
          "name": "stdout",
          "text": [
            "WARNING ⚠️ CUDA OutOfMemoryError in TaskAlignedAssigner, using CPU\n"
          ]
        }
      ]
    },
    {
      "cell_type": "code",
      "source": [
        "model.train(\n",
        "    data='data.yaml',\n",
        "    epochs=100,\n",
        "    imgsz=1024,\n",
        "    patience=10,\n",
        "    batch=8,\n",
        "    workers=8,\n",
        "    name='xview_yolo8_tuned',\n",
        "    augment=True,\n",
        "    hsv_h=0.015,\n",
        "    hsv_s=0.7,\n",
        "    hsv_v=0.4,\n",
        "    degrees=45,\n",
        "    flipud=0.5,\n",
        "    mosaic=1.0,\n",
        "    mixup=0.2,\n",
        "    pretrained=True,\n",
        "    verbose=True,\n",
        "    lr0=0.001,      # initial learning rate\n",
        "    lrf=0.01,       # final learning rate (as a fraction of lr0)\n",
        "    optimizer='AdamW',\n",
        "    cos_lr=True     # use cosine annealing schedule\n",
        ")"
      ],
      "metadata": {
        "id": "Yz_80bTAWZB9"
      },
      "execution_count": null,
      "outputs": []
    }
  ]
}